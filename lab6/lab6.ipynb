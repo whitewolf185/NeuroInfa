{
  "cells": [
    {
      "attachments": {},
      "cell_type": "markdown",
      "metadata": {
        "id": "CBD0a3QMiweC"
      },
      "source": [
        "# Лабораторная работа 6\n",
        "\n",
        "## Сети Кохонена"
      ]
    },
    {
      "cell_type": "code",
      "execution_count": 1,
      "metadata": {
        "id": "8LAOGuAL4Y0Y"
      },
      "outputs": [],
      "source": [
        "import numpy as np\n",
        "import random\n",
        "import matplotlib.pyplot as plt\n",
        "import sklearn as sk\n",
        "\n",
        "from plotly.subplots import make_subplots\n",
        "import plotly.graph_objects as go\n",
        "import pandas as pd\n",
        "import plotly.express as px"
      ]
    },
    {
      "cell_type": "code",
      "execution_count": 2,
      "metadata": {
        "id": "MUFHMA8mFwTh"
      },
      "outputs": [],
      "source": [
        "class Kohonen:\n",
        "    def __init__(self, dim, nodes_count, lr, nodes = None, r = None):\n",
        "         self.dim = dim\n",
        "         self.lr = lr\n",
        "         self.nodes_count = nodes_count\n",
        "         \n",
        "         if r is None:\n",
        "            self.r = int(nodes_count / 2)\n",
        "         else:\n",
        "             self.r = r\n",
        "         self.nodes = (nodes.copy() if nodes is not None else np.random.rand(nodes_count, dim))\n",
        "\n",
        "\n",
        "    def fit(self, data, epochs):\n",
        "\n",
        "\n",
        "        self.masr = []\n",
        "        self.maslr = []\n",
        "        \n",
        "        rcpy = self.r\n",
        "        lrcpy = self.lr\n",
        "\n",
        "        for e in range(epochs):\n",
        "            self.masr.append(self.r)\n",
        "            self.maslr.append(self.lr)\n",
        "\n",
        "            np.random.shuffle(data)\n",
        "            for i in range(len(data)):\n",
        "\n",
        "                min_dist = np.sqrt(np.sum((data[i] - self.nodes[0]) ** 2))\n",
        "                index_min_node = 0\n",
        "\n",
        "                for j in range(self.nodes_count):\n",
        "                        dist = np.sqrt(np.sum((data[i] - self.nodes[j]) ** 2))\n",
        "                        if (min_dist > dist):\n",
        "                            min_dist = dist\n",
        "                            index_min_node = j\n",
        "\n",
        "                \n",
        "\n",
        "                for j in range(self.nodes_count):\n",
        "\n",
        "                    dist = np.sqrt(np.sum((self.nodes[index_min_node] - self.nodes[j]) ** 2))\n",
        "                    if  dist < self.r:\n",
        "                        self.nodes[j] += self.lr * np.exp(- dist / (2 * self.r)) * (- self.nodes[j] + data[i])\n",
        "            \n",
        "            self.lr = max(0.01, lrcpy * np.exp(-(e + 1) / epochs))\n",
        "            self.r = rcpy * np.exp(- (e + 1) * np.log(rcpy) / epochs)\n",
        "\n",
        "        self.masr = np.array(self.masr)\n",
        "        self.maslr = np.array(self.maslr)\n"
      ]
    },
    {
      "attachments": {},
      "cell_type": "markdown",
      "metadata": {},
      "source": [
        "## Равномерно распределенные точки"
      ]
    },
    {
      "cell_type": "code",
      "execution_count": 3,
      "metadata": {
        "id": "xI6MSAobKCJ4"
      },
      "outputs": [],
      "source": [
        "data = np.array([[random.random()*100, random.random()*100] for _ in range(100)])\n",
        "nodes = np.array([[random.random()*100, random.random()*100] for _ in range(5)], dtype = float)"
      ]
    },
    {
      "cell_type": "code",
      "execution_count": 4,
      "metadata": {
        "colab": {
          "base_uri": "https://localhost:8080/",
          "height": 320
        },
        "id": "JpCfZULEv1I_",
        "outputId": "453e55de-69bf-4001-8044-35796ed4cc04"
      },
      "outputs": [
        {
          "data": {
            "application/vnd.plotly.v1+json": {
              "config": {
                "plotlyServerURL": "https://plot.ly"
              },
              "data": [
                {
                  "hovertemplate": "x=%{x}<br>y=%{y}<extra></extra>",
                  "legendgroup": "",
                  "marker": {
                    "color": "#636efa",
                    "symbol": "circle"
                  },
                  "mode": "markers",
                  "name": "",
                  "orientation": "v",
                  "showlegend": false,
                  "type": "scatter",
                  "x": [
                    90.86621959876656,
                    21.877646315403553,
                    14.666200069858416,
                    53.89385242143481,
                    12.970241451195697,
                    44.57601217681598,
                    17.45313047019539,
                    60.39340654980469,
                    51.58264514195005,
                    77.39529896185576,
                    93.8030706758292,
                    72.60050859152503,
                    55.02371899948988,
                    84.48395398102949,
                    11.054459591929566,
                    94.25877304970032,
                    49.80163512105009,
                    33.05977969073442,
                    60.54584434697099,
                    66.96190744752876,
                    47.470262038254276,
                    22.45269137235596,
                    57.18695577196271,
                    3.066656023618386,
                    69.59400842366911,
                    17.25728721829485,
                    63.710363078629086,
                    36.22267906834119,
                    88.01058653238913,
                    93.4852682147501,
                    51.66707951943253,
                    27.306091106668507,
                    34.63343471773888,
                    21.09327768735184,
                    89.49997048644708,
                    34.72854964860418,
                    45.24734721639274,
                    67.49875059443336,
                    32.61759631934581,
                    62.784785283113685,
                    97.298008952315,
                    70.04966963832119,
                    15.419710422041188,
                    92.21313562707238,
                    86.86541286382999,
                    96.11813837125665,
                    1.6629816733809588,
                    71.60427593952924,
                    59.18703154051478,
                    31.944056547377166,
                    66.12029394590209,
                    23.451374131548707,
                    46.83560736698388,
                    81.21941511492375,
                    69.73961467184347,
                    81.48895645029278,
                    45.69320898128344,
                    3.026905632505872,
                    8.007863010377282,
                    52.10117228334838,
                    79.25391006711831,
                    72.34987747500547,
                    94.27899658357887,
                    53.370660265711855,
                    61.82896444382501,
                    69.2895223379601,
                    21.01683480833878,
                    10.220517717061018,
                    12.798127558937233,
                    30.4135640008801,
                    70.27130777806939,
                    70.41335332910622,
                    42.79559917272822,
                    35.61278716121795,
                    59.655016572978006,
                    52.598541340810264,
                    13.968652162580886,
                    57.12417219248478,
                    14.801839285605379,
                    52.18423497969502,
                    73.93542767931805,
                    10.996936336058361,
                    48.91933676073865,
                    79.67307461563732,
                    97.15541409212348,
                    21.252556888928275,
                    40.706514784613724,
                    74.50795540384149,
                    23.028784325414787,
                    82.82335956443256,
                    60.27925989469799,
                    31.561411453431386,
                    68.84611035143192,
                    12.95639371720545,
                    66.61385076489029,
                    12.778227678156973,
                    10.062146557361906,
                    64.57692222291361,
                    23.46277589357659,
                    9.455141531866573
                  ],
                  "xaxis": "x",
                  "y": [
                    61.50284703218399,
                    54.132510109569054,
                    86.85829243797588,
                    71.126576555063,
                    91.32738336984445,
                    40.95195554177329,
                    95.14496006042168,
                    13.201031181320321,
                    66.09719813324011,
                    91.34328528802867,
                    44.0176325426736,
                    64.64679786304909,
                    83.68828687139849,
                    18.024255297467285,
                    56.92140402384288,
                    16.206128345699433,
                    14.285650374921765,
                    13.016593580893765,
                    75.38686702042529,
                    60.149488023316714,
                    45.8300854784484,
                    53.569661009093586,
                    45.082777157059795,
                    3.303516115407823,
                    76.04443645388159,
                    92.96336154027139,
                    8.661206594323655,
                    40.335643704684735,
                    31.929537965629617,
                    75.23291238831644,
                    37.29134216355712,
                    82.64484287510291,
                    98.56049678136361,
                    53.7987338257223,
                    39.58735443683351,
                    37.85462878982635,
                    30.611997035519835,
                    99.58644456733154,
                    66.97690184024393,
                    75.43501877605216,
                    70.07195881429395,
                    47.18220603985201,
                    3.370577089636373,
                    0.9003269304072581,
                    16.232677504547823,
                    7.4839783757782445,
                    66.9228977519436,
                    22.39749611622709,
                    18.375272652292807,
                    5.314953645410503,
                    87.22664845857913,
                    48.39635807969598,
                    28.551491173232733,
                    88.00625780923532,
                    77.32700656610344,
                    81.76550709207324,
                    5.959151780486982,
                    44.6871649092096,
                    83.39390404116835,
                    91.16690359096312,
                    17.39021658103159,
                    94.89158964875534,
                    52.66312359246529,
                    81.24930418135409,
                    89.03565714745201,
                    65.49381451961295,
                    27.54681449544392,
                    21.533819333999805,
                    9.040764602858854,
                    10.697593361059198,
                    69.68856904579562,
                    9.669365685333942,
                    18.429909730264317,
                    71.8181583327892,
                    31.24260644048775,
                    49.55341106827142,
                    12.536331191767392,
                    6.053748882756393,
                    57.51743272526419,
                    47.02082177593373,
                    11.638923745858198,
                    14.949985903099217,
                    93.8602846548666,
                    79.78527884664851,
                    93.68398886649311,
                    80.00424752707742,
                    54.34107364002364,
                    28.717615593418387,
                    42.951557622943845,
                    6.829825219917119,
                    25.404053790371016,
                    65.55809756433091,
                    95.40309267563333,
                    42.84312835567776,
                    24.008661814116707,
                    57.5139919971869,
                    36.65667490628497,
                    81.62342626569524,
                    8.736615164095408,
                    41.3313856763207
                  ],
                  "yaxis": "y"
                },
                {
                  "mode": "markers",
                  "type": "scatter",
                  "x": [
                    24.14816125933841,
                    76.01817246237191,
                    67.2129160599759,
                    57.438627758082006,
                    36.50549199658225
                  ],
                  "y": [
                    70.30814626044071,
                    37.29344381402204,
                    83.76775310323565,
                    31.102676436977596,
                    29.381326048519863
                  ]
                }
              ],
              "layout": {
                "legend": {
                  "tracegroupgap": 0
                },
                "margin": {
                  "t": 60
                },
                "template": {
                  "data": {
                    "bar": [
                      {
                        "error_x": {
                          "color": "#2a3f5f"
                        },
                        "error_y": {
                          "color": "#2a3f5f"
                        },
                        "marker": {
                          "line": {
                            "color": "#E5ECF6",
                            "width": 0.5
                          },
                          "pattern": {
                            "fillmode": "overlay",
                            "size": 10,
                            "solidity": 0.2
                          }
                        },
                        "type": "bar"
                      }
                    ],
                    "barpolar": [
                      {
                        "marker": {
                          "line": {
                            "color": "#E5ECF6",
                            "width": 0.5
                          },
                          "pattern": {
                            "fillmode": "overlay",
                            "size": 10,
                            "solidity": 0.2
                          }
                        },
                        "type": "barpolar"
                      }
                    ],
                    "carpet": [
                      {
                        "aaxis": {
                          "endlinecolor": "#2a3f5f",
                          "gridcolor": "white",
                          "linecolor": "white",
                          "minorgridcolor": "white",
                          "startlinecolor": "#2a3f5f"
                        },
                        "baxis": {
                          "endlinecolor": "#2a3f5f",
                          "gridcolor": "white",
                          "linecolor": "white",
                          "minorgridcolor": "white",
                          "startlinecolor": "#2a3f5f"
                        },
                        "type": "carpet"
                      }
                    ],
                    "choropleth": [
                      {
                        "colorbar": {
                          "outlinewidth": 0,
                          "ticks": ""
                        },
                        "type": "choropleth"
                      }
                    ],
                    "contour": [
                      {
                        "colorbar": {
                          "outlinewidth": 0,
                          "ticks": ""
                        },
                        "colorscale": [
                          [
                            0,
                            "#0d0887"
                          ],
                          [
                            0.1111111111111111,
                            "#46039f"
                          ],
                          [
                            0.2222222222222222,
                            "#7201a8"
                          ],
                          [
                            0.3333333333333333,
                            "#9c179e"
                          ],
                          [
                            0.4444444444444444,
                            "#bd3786"
                          ],
                          [
                            0.5555555555555556,
                            "#d8576b"
                          ],
                          [
                            0.6666666666666666,
                            "#ed7953"
                          ],
                          [
                            0.7777777777777778,
                            "#fb9f3a"
                          ],
                          [
                            0.8888888888888888,
                            "#fdca26"
                          ],
                          [
                            1,
                            "#f0f921"
                          ]
                        ],
                        "type": "contour"
                      }
                    ],
                    "contourcarpet": [
                      {
                        "colorbar": {
                          "outlinewidth": 0,
                          "ticks": ""
                        },
                        "type": "contourcarpet"
                      }
                    ],
                    "heatmap": [
                      {
                        "colorbar": {
                          "outlinewidth": 0,
                          "ticks": ""
                        },
                        "colorscale": [
                          [
                            0,
                            "#0d0887"
                          ],
                          [
                            0.1111111111111111,
                            "#46039f"
                          ],
                          [
                            0.2222222222222222,
                            "#7201a8"
                          ],
                          [
                            0.3333333333333333,
                            "#9c179e"
                          ],
                          [
                            0.4444444444444444,
                            "#bd3786"
                          ],
                          [
                            0.5555555555555556,
                            "#d8576b"
                          ],
                          [
                            0.6666666666666666,
                            "#ed7953"
                          ],
                          [
                            0.7777777777777778,
                            "#fb9f3a"
                          ],
                          [
                            0.8888888888888888,
                            "#fdca26"
                          ],
                          [
                            1,
                            "#f0f921"
                          ]
                        ],
                        "type": "heatmap"
                      }
                    ],
                    "heatmapgl": [
                      {
                        "colorbar": {
                          "outlinewidth": 0,
                          "ticks": ""
                        },
                        "colorscale": [
                          [
                            0,
                            "#0d0887"
                          ],
                          [
                            0.1111111111111111,
                            "#46039f"
                          ],
                          [
                            0.2222222222222222,
                            "#7201a8"
                          ],
                          [
                            0.3333333333333333,
                            "#9c179e"
                          ],
                          [
                            0.4444444444444444,
                            "#bd3786"
                          ],
                          [
                            0.5555555555555556,
                            "#d8576b"
                          ],
                          [
                            0.6666666666666666,
                            "#ed7953"
                          ],
                          [
                            0.7777777777777778,
                            "#fb9f3a"
                          ],
                          [
                            0.8888888888888888,
                            "#fdca26"
                          ],
                          [
                            1,
                            "#f0f921"
                          ]
                        ],
                        "type": "heatmapgl"
                      }
                    ],
                    "histogram": [
                      {
                        "marker": {
                          "pattern": {
                            "fillmode": "overlay",
                            "size": 10,
                            "solidity": 0.2
                          }
                        },
                        "type": "histogram"
                      }
                    ],
                    "histogram2d": [
                      {
                        "colorbar": {
                          "outlinewidth": 0,
                          "ticks": ""
                        },
                        "colorscale": [
                          [
                            0,
                            "#0d0887"
                          ],
                          [
                            0.1111111111111111,
                            "#46039f"
                          ],
                          [
                            0.2222222222222222,
                            "#7201a8"
                          ],
                          [
                            0.3333333333333333,
                            "#9c179e"
                          ],
                          [
                            0.4444444444444444,
                            "#bd3786"
                          ],
                          [
                            0.5555555555555556,
                            "#d8576b"
                          ],
                          [
                            0.6666666666666666,
                            "#ed7953"
                          ],
                          [
                            0.7777777777777778,
                            "#fb9f3a"
                          ],
                          [
                            0.8888888888888888,
                            "#fdca26"
                          ],
                          [
                            1,
                            "#f0f921"
                          ]
                        ],
                        "type": "histogram2d"
                      }
                    ],
                    "histogram2dcontour": [
                      {
                        "colorbar": {
                          "outlinewidth": 0,
                          "ticks": ""
                        },
                        "colorscale": [
                          [
                            0,
                            "#0d0887"
                          ],
                          [
                            0.1111111111111111,
                            "#46039f"
                          ],
                          [
                            0.2222222222222222,
                            "#7201a8"
                          ],
                          [
                            0.3333333333333333,
                            "#9c179e"
                          ],
                          [
                            0.4444444444444444,
                            "#bd3786"
                          ],
                          [
                            0.5555555555555556,
                            "#d8576b"
                          ],
                          [
                            0.6666666666666666,
                            "#ed7953"
                          ],
                          [
                            0.7777777777777778,
                            "#fb9f3a"
                          ],
                          [
                            0.8888888888888888,
                            "#fdca26"
                          ],
                          [
                            1,
                            "#f0f921"
                          ]
                        ],
                        "type": "histogram2dcontour"
                      }
                    ],
                    "mesh3d": [
                      {
                        "colorbar": {
                          "outlinewidth": 0,
                          "ticks": ""
                        },
                        "type": "mesh3d"
                      }
                    ],
                    "parcoords": [
                      {
                        "line": {
                          "colorbar": {
                            "outlinewidth": 0,
                            "ticks": ""
                          }
                        },
                        "type": "parcoords"
                      }
                    ],
                    "pie": [
                      {
                        "automargin": true,
                        "type": "pie"
                      }
                    ],
                    "scatter": [
                      {
                        "fillpattern": {
                          "fillmode": "overlay",
                          "size": 10,
                          "solidity": 0.2
                        },
                        "type": "scatter"
                      }
                    ],
                    "scatter3d": [
                      {
                        "line": {
                          "colorbar": {
                            "outlinewidth": 0,
                            "ticks": ""
                          }
                        },
                        "marker": {
                          "colorbar": {
                            "outlinewidth": 0,
                            "ticks": ""
                          }
                        },
                        "type": "scatter3d"
                      }
                    ],
                    "scattercarpet": [
                      {
                        "marker": {
                          "colorbar": {
                            "outlinewidth": 0,
                            "ticks": ""
                          }
                        },
                        "type": "scattercarpet"
                      }
                    ],
                    "scattergeo": [
                      {
                        "marker": {
                          "colorbar": {
                            "outlinewidth": 0,
                            "ticks": ""
                          }
                        },
                        "type": "scattergeo"
                      }
                    ],
                    "scattergl": [
                      {
                        "marker": {
                          "colorbar": {
                            "outlinewidth": 0,
                            "ticks": ""
                          }
                        },
                        "type": "scattergl"
                      }
                    ],
                    "scattermapbox": [
                      {
                        "marker": {
                          "colorbar": {
                            "outlinewidth": 0,
                            "ticks": ""
                          }
                        },
                        "type": "scattermapbox"
                      }
                    ],
                    "scatterpolar": [
                      {
                        "marker": {
                          "colorbar": {
                            "outlinewidth": 0,
                            "ticks": ""
                          }
                        },
                        "type": "scatterpolar"
                      }
                    ],
                    "scatterpolargl": [
                      {
                        "marker": {
                          "colorbar": {
                            "outlinewidth": 0,
                            "ticks": ""
                          }
                        },
                        "type": "scatterpolargl"
                      }
                    ],
                    "scatterternary": [
                      {
                        "marker": {
                          "colorbar": {
                            "outlinewidth": 0,
                            "ticks": ""
                          }
                        },
                        "type": "scatterternary"
                      }
                    ],
                    "surface": [
                      {
                        "colorbar": {
                          "outlinewidth": 0,
                          "ticks": ""
                        },
                        "colorscale": [
                          [
                            0,
                            "#0d0887"
                          ],
                          [
                            0.1111111111111111,
                            "#46039f"
                          ],
                          [
                            0.2222222222222222,
                            "#7201a8"
                          ],
                          [
                            0.3333333333333333,
                            "#9c179e"
                          ],
                          [
                            0.4444444444444444,
                            "#bd3786"
                          ],
                          [
                            0.5555555555555556,
                            "#d8576b"
                          ],
                          [
                            0.6666666666666666,
                            "#ed7953"
                          ],
                          [
                            0.7777777777777778,
                            "#fb9f3a"
                          ],
                          [
                            0.8888888888888888,
                            "#fdca26"
                          ],
                          [
                            1,
                            "#f0f921"
                          ]
                        ],
                        "type": "surface"
                      }
                    ],
                    "table": [
                      {
                        "cells": {
                          "fill": {
                            "color": "#EBF0F8"
                          },
                          "line": {
                            "color": "white"
                          }
                        },
                        "header": {
                          "fill": {
                            "color": "#C8D4E3"
                          },
                          "line": {
                            "color": "white"
                          }
                        },
                        "type": "table"
                      }
                    ]
                  },
                  "layout": {
                    "annotationdefaults": {
                      "arrowcolor": "#2a3f5f",
                      "arrowhead": 0,
                      "arrowwidth": 1
                    },
                    "autotypenumbers": "strict",
                    "coloraxis": {
                      "colorbar": {
                        "outlinewidth": 0,
                        "ticks": ""
                      }
                    },
                    "colorscale": {
                      "diverging": [
                        [
                          0,
                          "#8e0152"
                        ],
                        [
                          0.1,
                          "#c51b7d"
                        ],
                        [
                          0.2,
                          "#de77ae"
                        ],
                        [
                          0.3,
                          "#f1b6da"
                        ],
                        [
                          0.4,
                          "#fde0ef"
                        ],
                        [
                          0.5,
                          "#f7f7f7"
                        ],
                        [
                          0.6,
                          "#e6f5d0"
                        ],
                        [
                          0.7,
                          "#b8e186"
                        ],
                        [
                          0.8,
                          "#7fbc41"
                        ],
                        [
                          0.9,
                          "#4d9221"
                        ],
                        [
                          1,
                          "#276419"
                        ]
                      ],
                      "sequential": [
                        [
                          0,
                          "#0d0887"
                        ],
                        [
                          0.1111111111111111,
                          "#46039f"
                        ],
                        [
                          0.2222222222222222,
                          "#7201a8"
                        ],
                        [
                          0.3333333333333333,
                          "#9c179e"
                        ],
                        [
                          0.4444444444444444,
                          "#bd3786"
                        ],
                        [
                          0.5555555555555556,
                          "#d8576b"
                        ],
                        [
                          0.6666666666666666,
                          "#ed7953"
                        ],
                        [
                          0.7777777777777778,
                          "#fb9f3a"
                        ],
                        [
                          0.8888888888888888,
                          "#fdca26"
                        ],
                        [
                          1,
                          "#f0f921"
                        ]
                      ],
                      "sequentialminus": [
                        [
                          0,
                          "#0d0887"
                        ],
                        [
                          0.1111111111111111,
                          "#46039f"
                        ],
                        [
                          0.2222222222222222,
                          "#7201a8"
                        ],
                        [
                          0.3333333333333333,
                          "#9c179e"
                        ],
                        [
                          0.4444444444444444,
                          "#bd3786"
                        ],
                        [
                          0.5555555555555556,
                          "#d8576b"
                        ],
                        [
                          0.6666666666666666,
                          "#ed7953"
                        ],
                        [
                          0.7777777777777778,
                          "#fb9f3a"
                        ],
                        [
                          0.8888888888888888,
                          "#fdca26"
                        ],
                        [
                          1,
                          "#f0f921"
                        ]
                      ]
                    },
                    "colorway": [
                      "#636efa",
                      "#EF553B",
                      "#00cc96",
                      "#ab63fa",
                      "#FFA15A",
                      "#19d3f3",
                      "#FF6692",
                      "#B6E880",
                      "#FF97FF",
                      "#FECB52"
                    ],
                    "font": {
                      "color": "#2a3f5f"
                    },
                    "geo": {
                      "bgcolor": "white",
                      "lakecolor": "white",
                      "landcolor": "#E5ECF6",
                      "showlakes": true,
                      "showland": true,
                      "subunitcolor": "white"
                    },
                    "hoverlabel": {
                      "align": "left"
                    },
                    "hovermode": "closest",
                    "mapbox": {
                      "style": "light"
                    },
                    "paper_bgcolor": "white",
                    "plot_bgcolor": "#E5ECF6",
                    "polar": {
                      "angularaxis": {
                        "gridcolor": "white",
                        "linecolor": "white",
                        "ticks": ""
                      },
                      "bgcolor": "#E5ECF6",
                      "radialaxis": {
                        "gridcolor": "white",
                        "linecolor": "white",
                        "ticks": ""
                      }
                    },
                    "scene": {
                      "xaxis": {
                        "backgroundcolor": "#E5ECF6",
                        "gridcolor": "white",
                        "gridwidth": 2,
                        "linecolor": "white",
                        "showbackground": true,
                        "ticks": "",
                        "zerolinecolor": "white"
                      },
                      "yaxis": {
                        "backgroundcolor": "#E5ECF6",
                        "gridcolor": "white",
                        "gridwidth": 2,
                        "linecolor": "white",
                        "showbackground": true,
                        "ticks": "",
                        "zerolinecolor": "white"
                      },
                      "zaxis": {
                        "backgroundcolor": "#E5ECF6",
                        "gridcolor": "white",
                        "gridwidth": 2,
                        "linecolor": "white",
                        "showbackground": true,
                        "ticks": "",
                        "zerolinecolor": "white"
                      }
                    },
                    "shapedefaults": {
                      "line": {
                        "color": "#2a3f5f"
                      }
                    },
                    "ternary": {
                      "aaxis": {
                        "gridcolor": "white",
                        "linecolor": "white",
                        "ticks": ""
                      },
                      "baxis": {
                        "gridcolor": "white",
                        "linecolor": "white",
                        "ticks": ""
                      },
                      "bgcolor": "#E5ECF6",
                      "caxis": {
                        "gridcolor": "white",
                        "linecolor": "white",
                        "ticks": ""
                      }
                    },
                    "title": {
                      "x": 0.05
                    },
                    "xaxis": {
                      "automargin": true,
                      "gridcolor": "white",
                      "linecolor": "white",
                      "ticks": "",
                      "title": {
                        "standoff": 15
                      },
                      "zerolinecolor": "white",
                      "zerolinewidth": 2
                    },
                    "yaxis": {
                      "automargin": true,
                      "gridcolor": "white",
                      "linecolor": "white",
                      "ticks": "",
                      "title": {
                        "standoff": 15
                      },
                      "zerolinecolor": "white",
                      "zerolinewidth": 2
                    }
                  }
                },
                "xaxis": {
                  "anchor": "y",
                  "domain": [
                    0,
                    1
                  ],
                  "title": {
                    "text": "x"
                  }
                },
                "yaxis": {
                  "anchor": "x",
                  "domain": [
                    0,
                    1
                  ],
                  "title": {
                    "text": "y"
                  }
                }
              }
            }
          },
          "metadata": {},
          "output_type": "display_data"
        }
      ],
      "source": [
        "figure = px.scatter(x=data[:, 0], y=data[:, 1])\n",
        "figure.add_trace(go.Scatter(x=nodes[:, 0], y=nodes[:, 1], mode=\"markers\"))\n",
        "\n",
        "figure.show()"
      ]
    },
    {
      "cell_type": "code",
      "execution_count": 5,
      "metadata": {
        "id": "9NR9YTHxLj76"
      },
      "outputs": [],
      "source": [
        "epochs = 100\n",
        "kohonen = Kohonen(dim = 2, nodes_count = 5, lr = 1, nodes = nodes, r = 5)\n",
        "kohonen.fit(data, epochs)"
      ]
    },
    {
      "cell_type": "code",
      "execution_count": 6,
      "metadata": {
        "colab": {
          "base_uri": "https://localhost:8080/",
          "height": 607
        },
        "id": "i94ihcg68Dt2",
        "outputId": "4760ba5e-762d-415b-930d-ed793b1be8ca"
      },
      "outputs": [
        {
          "data": {
            "application/vnd.plotly.v1+json": {
              "config": {
                "plotlyServerURL": "https://plot.ly"
              },
              "data": [
                {
                  "name": "learning_rate",
                  "type": "scatter",
                  "x": [
                    0,
                    1,
                    2,
                    3,
                    4,
                    5,
                    6,
                    7,
                    8,
                    9,
                    10,
                    11,
                    12,
                    13,
                    14,
                    15,
                    16,
                    17,
                    18,
                    19,
                    20,
                    21,
                    22,
                    23,
                    24,
                    25,
                    26,
                    27,
                    28,
                    29,
                    30,
                    31,
                    32,
                    33,
                    34,
                    35,
                    36,
                    37,
                    38,
                    39,
                    40,
                    41,
                    42,
                    43,
                    44,
                    45,
                    46,
                    47,
                    48,
                    49,
                    50,
                    51,
                    52,
                    53,
                    54,
                    55,
                    56,
                    57,
                    58,
                    59,
                    60,
                    61,
                    62,
                    63,
                    64,
                    65,
                    66,
                    67,
                    68,
                    69,
                    70,
                    71,
                    72,
                    73,
                    74,
                    75,
                    76,
                    77,
                    78,
                    79,
                    80,
                    81,
                    82,
                    83,
                    84,
                    85,
                    86,
                    87,
                    88,
                    89,
                    90,
                    91,
                    92,
                    93,
                    94,
                    95,
                    96,
                    97,
                    98,
                    99,
                    100,
                    101,
                    102,
                    103,
                    104,
                    105,
                    106,
                    107,
                    108,
                    109,
                    110,
                    111,
                    112,
                    113,
                    114,
                    115,
                    116,
                    117,
                    118,
                    119,
                    120,
                    121,
                    122,
                    123,
                    124,
                    125,
                    126,
                    127,
                    128,
                    129,
                    130,
                    131,
                    132,
                    133,
                    134,
                    135,
                    136,
                    137,
                    138,
                    139,
                    140,
                    141,
                    142,
                    143,
                    144,
                    145,
                    146,
                    147,
                    148,
                    149,
                    150,
                    151,
                    152,
                    153,
                    154,
                    155,
                    156,
                    157,
                    158,
                    159,
                    160,
                    161,
                    162,
                    163,
                    164,
                    165,
                    166,
                    167,
                    168,
                    169,
                    170,
                    171,
                    172,
                    173,
                    174,
                    175,
                    176,
                    177,
                    178,
                    179,
                    180,
                    181,
                    182,
                    183,
                    184,
                    185,
                    186,
                    187,
                    188,
                    189,
                    190,
                    191,
                    192,
                    193,
                    194,
                    195,
                    196,
                    197,
                    198,
                    199,
                    200,
                    201,
                    202,
                    203,
                    204,
                    205,
                    206,
                    207,
                    208,
                    209,
                    210,
                    211,
                    212,
                    213,
                    214,
                    215,
                    216,
                    217,
                    218,
                    219,
                    220,
                    221,
                    222,
                    223,
                    224,
                    225,
                    226,
                    227,
                    228,
                    229,
                    230,
                    231,
                    232,
                    233,
                    234,
                    235,
                    236,
                    237,
                    238,
                    239,
                    240,
                    241,
                    242,
                    243,
                    244,
                    245,
                    246,
                    247,
                    248,
                    249,
                    250,
                    251,
                    252,
                    253,
                    254,
                    255,
                    256,
                    257,
                    258,
                    259,
                    260,
                    261,
                    262,
                    263,
                    264,
                    265,
                    266,
                    267,
                    268,
                    269,
                    270,
                    271,
                    272,
                    273,
                    274,
                    275,
                    276,
                    277,
                    278,
                    279,
                    280,
                    281,
                    282,
                    283,
                    284,
                    285,
                    286,
                    287,
                    288,
                    289,
                    290,
                    291,
                    292,
                    293,
                    294,
                    295,
                    296,
                    297,
                    298,
                    299,
                    300,
                    301,
                    302,
                    303,
                    304,
                    305,
                    306,
                    307,
                    308,
                    309,
                    310,
                    311,
                    312,
                    313,
                    314,
                    315,
                    316,
                    317,
                    318,
                    319,
                    320,
                    321,
                    322,
                    323,
                    324,
                    325,
                    326,
                    327,
                    328,
                    329,
                    330,
                    331,
                    332,
                    333,
                    334,
                    335,
                    336,
                    337,
                    338,
                    339,
                    340,
                    341,
                    342,
                    343,
                    344,
                    345,
                    346,
                    347,
                    348,
                    349,
                    350,
                    351,
                    352,
                    353,
                    354,
                    355,
                    356,
                    357,
                    358,
                    359,
                    360,
                    361,
                    362,
                    363,
                    364,
                    365,
                    366,
                    367,
                    368,
                    369,
                    370,
                    371,
                    372,
                    373,
                    374,
                    375,
                    376,
                    377,
                    378,
                    379,
                    380,
                    381,
                    382,
                    383,
                    384,
                    385,
                    386,
                    387,
                    388,
                    389,
                    390,
                    391,
                    392,
                    393,
                    394,
                    395,
                    396,
                    397,
                    398,
                    399,
                    400,
                    401,
                    402,
                    403,
                    404,
                    405,
                    406,
                    407,
                    408,
                    409,
                    410,
                    411,
                    412,
                    413,
                    414,
                    415,
                    416,
                    417,
                    418,
                    419,
                    420,
                    421,
                    422,
                    423,
                    424,
                    425,
                    426,
                    427,
                    428,
                    429,
                    430,
                    431,
                    432,
                    433,
                    434,
                    435,
                    436,
                    437,
                    438,
                    439,
                    440,
                    441,
                    442,
                    443,
                    444,
                    445,
                    446,
                    447,
                    448,
                    449,
                    450,
                    451,
                    452,
                    453,
                    454,
                    455,
                    456,
                    457,
                    458,
                    459,
                    460,
                    461,
                    462,
                    463,
                    464,
                    465,
                    466,
                    467,
                    468,
                    469,
                    470,
                    471,
                    472,
                    473,
                    474,
                    475,
                    476,
                    477,
                    478,
                    479,
                    480,
                    481,
                    482,
                    483,
                    484,
                    485,
                    486,
                    487,
                    488,
                    489,
                    490,
                    491,
                    492,
                    493,
                    494,
                    495,
                    496,
                    497,
                    498,
                    499,
                    500,
                    501,
                    502,
                    503,
                    504,
                    505,
                    506,
                    507,
                    508,
                    509,
                    510,
                    511,
                    512,
                    513,
                    514,
                    515,
                    516,
                    517,
                    518,
                    519,
                    520,
                    521,
                    522,
                    523,
                    524,
                    525,
                    526,
                    527,
                    528,
                    529,
                    530,
                    531,
                    532,
                    533,
                    534,
                    535,
                    536,
                    537,
                    538,
                    539,
                    540,
                    541,
                    542,
                    543,
                    544,
                    545,
                    546,
                    547,
                    548,
                    549,
                    550,
                    551,
                    552,
                    553,
                    554,
                    555,
                    556,
                    557,
                    558,
                    559,
                    560,
                    561,
                    562,
                    563,
                    564,
                    565,
                    566,
                    567,
                    568,
                    569,
                    570,
                    571,
                    572,
                    573,
                    574,
                    575,
                    576,
                    577,
                    578,
                    579,
                    580,
                    581,
                    582,
                    583,
                    584,
                    585,
                    586,
                    587,
                    588,
                    589,
                    590,
                    591,
                    592,
                    593,
                    594,
                    595,
                    596,
                    597,
                    598,
                    599,
                    600,
                    601,
                    602,
                    603,
                    604,
                    605,
                    606,
                    607,
                    608,
                    609,
                    610,
                    611,
                    612,
                    613,
                    614,
                    615,
                    616,
                    617,
                    618,
                    619,
                    620,
                    621,
                    622,
                    623,
                    624,
                    625,
                    626,
                    627,
                    628,
                    629,
                    630,
                    631,
                    632,
                    633,
                    634,
                    635,
                    636,
                    637,
                    638,
                    639,
                    640,
                    641,
                    642,
                    643,
                    644,
                    645,
                    646,
                    647,
                    648,
                    649,
                    650,
                    651,
                    652,
                    653,
                    654,
                    655,
                    656,
                    657,
                    658,
                    659,
                    660,
                    661,
                    662,
                    663,
                    664,
                    665,
                    666,
                    667,
                    668,
                    669,
                    670,
                    671,
                    672,
                    673,
                    674,
                    675,
                    676,
                    677,
                    678,
                    679,
                    680,
                    681,
                    682,
                    683,
                    684,
                    685,
                    686,
                    687,
                    688,
                    689,
                    690,
                    691,
                    692,
                    693,
                    694,
                    695,
                    696,
                    697,
                    698,
                    699,
                    700,
                    701,
                    702,
                    703,
                    704,
                    705,
                    706,
                    707,
                    708,
                    709,
                    710,
                    711,
                    712,
                    713,
                    714,
                    715,
                    716,
                    717,
                    718,
                    719,
                    720,
                    721,
                    722,
                    723,
                    724,
                    725,
                    726,
                    727,
                    728,
                    729,
                    730,
                    731,
                    732,
                    733,
                    734,
                    735,
                    736,
                    737,
                    738,
                    739,
                    740,
                    741,
                    742,
                    743,
                    744,
                    745,
                    746,
                    747,
                    748,
                    749,
                    750,
                    751,
                    752,
                    753,
                    754,
                    755,
                    756,
                    757,
                    758,
                    759,
                    760,
                    761,
                    762,
                    763,
                    764,
                    765,
                    766,
                    767,
                    768,
                    769,
                    770,
                    771,
                    772,
                    773,
                    774,
                    775,
                    776,
                    777,
                    778,
                    779,
                    780,
                    781,
                    782,
                    783,
                    784,
                    785,
                    786,
                    787,
                    788,
                    789,
                    790,
                    791,
                    792,
                    793,
                    794,
                    795,
                    796,
                    797,
                    798,
                    799,
                    800,
                    801,
                    802,
                    803,
                    804,
                    805,
                    806,
                    807,
                    808,
                    809,
                    810,
                    811,
                    812,
                    813,
                    814,
                    815,
                    816,
                    817,
                    818,
                    819,
                    820,
                    821,
                    822,
                    823,
                    824,
                    825,
                    826,
                    827,
                    828,
                    829,
                    830,
                    831,
                    832,
                    833,
                    834,
                    835,
                    836,
                    837,
                    838,
                    839,
                    840,
                    841,
                    842,
                    843,
                    844,
                    845,
                    846,
                    847,
                    848,
                    849,
                    850,
                    851,
                    852,
                    853,
                    854,
                    855,
                    856,
                    857,
                    858,
                    859,
                    860,
                    861,
                    862,
                    863,
                    864,
                    865,
                    866,
                    867,
                    868,
                    869,
                    870,
                    871,
                    872,
                    873,
                    874,
                    875,
                    876,
                    877,
                    878,
                    879,
                    880,
                    881,
                    882,
                    883,
                    884,
                    885,
                    886,
                    887,
                    888,
                    889,
                    890,
                    891,
                    892,
                    893,
                    894,
                    895,
                    896,
                    897,
                    898,
                    899,
                    900,
                    901,
                    902,
                    903,
                    904,
                    905,
                    906,
                    907,
                    908,
                    909,
                    910,
                    911,
                    912,
                    913,
                    914,
                    915,
                    916,
                    917,
                    918,
                    919,
                    920,
                    921,
                    922,
                    923,
                    924,
                    925,
                    926,
                    927,
                    928,
                    929,
                    930,
                    931,
                    932,
                    933,
                    934,
                    935,
                    936,
                    937,
                    938,
                    939,
                    940,
                    941,
                    942,
                    943,
                    944,
                    945,
                    946,
                    947,
                    948,
                    949,
                    950,
                    951,
                    952,
                    953,
                    954,
                    955,
                    956,
                    957,
                    958,
                    959,
                    960,
                    961,
                    962,
                    963,
                    964,
                    965,
                    966,
                    967,
                    968,
                    969,
                    970,
                    971,
                    972,
                    973,
                    974,
                    975,
                    976,
                    977,
                    978,
                    979,
                    980,
                    981,
                    982,
                    983,
                    984,
                    985,
                    986,
                    987,
                    988,
                    989,
                    990,
                    991,
                    992,
                    993,
                    994,
                    995,
                    996,
                    997,
                    998,
                    999
                  ],
                  "xaxis": "x",
                  "y": [
                    1,
                    0.999000499833375,
                    0.9980019986673331,
                    0.997004495503373,
                    0.9960079893439915,
                    0.9950124791926823,
                    0.9940179640539353,
                    0.9930244429332351,
                    0.9920319148370607,
                    0.9910403787728836,
                    0.9900498337491681,
                    0.9890602787753687,
                    0.9880717128619305,
                    0.9870841350202876,
                    0.9860975442628619,
                    0.9851119396030626,
                    0.9841273200552851,
                    0.9831436846349096,
                    0.9821610323583008,
                    0.981179362242806,
                    0.9801986733067553,
                    0.9792189645694596,
                    0.97824023505121,
                    0.9772624837732771,
                    0.9762857097579093,
                    0.9753099120283326,
                    0.9743350896087494,
                    0.9733612415243368,
                    0.9723883668012469,
                    0.9714164644666048,
                    0.9704455335485082,
                    0.9694755730760259,
                    0.9685065820791976,
                    0.967538559589032,
                    0.9665715046375066,
                    0.9656054162575665,
                    0.9646402934831231,
                    0.9636761353490535,
                    0.9627129408911995,
                    0.9617507091463667,
                    0.9607894391523232,
                    0.9598291299477989,
                    0.9588697805724845,
                    0.9579113900670306,
                    0.9569539574730467,
                    0.9559974818331,
                    0.9550419621907147,
                    0.9540873975903711,
                    0.9531337870775047,
                    0.9521811296985049,
                    0.951229424500714,
                    0.950278670532427,
                    0.9493288668428895,
                    0.9483800124822982,
                    0.9474321065017983,
                    0.9464851479534838,
                    0.9455391358903963,
                    0.9445940693665233,
                    0.9436499474367985,
                    0.9427067691570997,
                    0.9417645335842487,
                    0.9408232397760097,
                    0.9398828867910889,
                    0.9389434736891332,
                    0.9380049995307295,
                    0.9370674633774034,
                    0.9361308642916188,
                    0.9351952013367766,
                    0.9342604735772135,
                    0.933326680078202,
                    0.9323938199059483,
                    0.9314618921275921,
                    0.9305308958112057,
                    0.9296008300257927,
                    0.9286716938412872,
                    0.9277434863285529,
                    0.9268162065593822,
                    0.9258898536064953,
                    0.9249644265435393,
                    0.9240399244450868,
                    0.9231163463866358,
                    0.922193691444608,
                    0.9212719586963487,
                    0.9203511472201247,
                    0.9194312560951247,
                    0.9185122844014574,
                    0.917594231220151,
                    0.9166770956331523,
                    0.9157608767233256,
                    0.914845573574452,
                    0.9139311852712282,
                    0.9130177108992658,
                    0.9121051495450904,
                    0.9111935002961405,
                    0.910282762240767,
                    0.9093729344682314,
                    0.9084640160687062,
                    0.9075560061332727,
                    0.9066489037539209,
                    0.9057427080235485,
                    0.9048374180359595,
                    0.9039330328858641,
                    0.9030295516688768,
                    0.9021269734815165,
                    0.9012252974212048,
                    0.9003245225862656,
                    0.899424648075924,
                    0.8985256729903055,
                    0.8976275964304349,
                    0.8967304174982355,
                    0.8958341352965282,
                    0.894938748929031,
                    0.8940442575003572,
                    0.8931506601160155,
                    0.8922579558824083,
                    0.8913661439068313,
                    0.8904752232974726,
                    0.8895851931634113,
                    0.8886960526146174,
                    0.8878078007619501,
                    0.8869204367171575,
                    0.8860339595928756,
                    0.8851483685026271,
                    0.8842636625608209,
                    0.8833798408827509,
                    0.8824969025845955,
                    0.8816148467834161,
                    0.880733672597157,
                    0.8798533791446438,
                    0.8789739655455832,
                    0.8780954309205613,
                    0.8772177743910435,
                    0.8763409950793732,
                    0.8754650921087711,
                    0.874590064603334,
                    0.8737159116880344,
                    0.8728426324887193,
                    0.8719702261321094,
                    0.8710986917457983,
                    0.8702280284582515,
                    0.8693582353988059,
                    0.8684893116976679,
                    0.867621256485914,
                    0.866754068895489,
                    0.865887748059205,
                    0.8650222931107413,
                    0.8641577031846428,
                    0.8632939774163194,
                    0.8624311149420455,
                    0.8615691148989583,
                    0.8607079764250578,
                    0.8598476986592055,
                    0.8589882807411234,
                    0.8581297218113938,
                    0.8572720210114575,
                    0.8564151774836135,
                    0.8555591903710185,
                    0.8547040588176851,
                    0.8538497819684817,
                    0.8529963589691315,
                    0.8521437889662113,
                    0.8512920711071511,
                    0.850441204540233,
                    0.8495911884145902,
                    0.8487420218802068,
                    0.8478937040879159,
                    0.8470462341893996,
                    0.8461996113371882,
                    0.8453538346846587,
                    0.8445089033860343,
                    0.8436648165963837,
                    0.8428215734716199,
                    0.8419791731684999,
                    0.8411376148446232,
                    0.8402968976584314,
                    0.8394570207692074,
                    0.838617983337074,
                    0.8377797845229938,
                    0.8369424234887681,
                    0.8361058993970355,
                    0.835270211411272,
                    0.8344353586957896,
                    0.8336013404157353,
                    0.832768155737091,
                    0.8319358038266718,
                    0.8311042838521256,
                    0.8302735949819326,
                    0.8294437363854039,
                    0.8286147072326806,
                    0.8277865066947336,
                    0.8269591339433623,
                    0.8261325881511938,
                    0.8253068684916823,
                    0.8244819741391082,
                    0.8236579042685769,
                    0.8228346580560184,
                    0.8220122346781865,
                    0.821190633312658,
                    0.8203698531378311,
                    0.8195498933329256,
                    0.8187307530779818,
                    0.8179124315538594,
                    0.8170949279422366,
                    0.8162782414256099,
                    0.8154623711872927,
                    0.8146473164114145,
                    0.8138330762829207,
                    0.813019649987571,
                    0.8122070367119391,
                    0.8113952356434114,
                    0.8105842459701871,
                    0.8097740668812763,
                    0.8089646975664998,
                    0.8081561372164884,
                    0.8073483850226815,
                    0.8065414401773269,
                    0.8057353018734796,
                    0.8049299693050015,
                    0.8041254416665596,
                    0.8033217181536265,
                    0.8025187979624785,
                    0.8017166802901953,
                    0.8009153643346592,
                    0.8001148492945541,
                    0.7993151343693651,
                    0.7985162187593771,
                    0.7977181016656743,
                    0.7969207822901396,
                    0.7961242598354538,
                    0.7953285335050939,
                    0.794533602503334,
                    0.7937394660352427,
                    0.7929461233066837,
                    0.792153573524314,
                    0.7913618158955839,
                    0.7905708496287356,
                    0.7897806739328027,
                    0.7889912880176098,
                    0.7882026910937704,
                    0.787414882372688,
                    0.7866278610665535,
                    0.7858416263883455,
                    0.7850561775518295,
                    0.7842715137715565,
                    0.7834876342628625,
                    0.7827045382418681,
                    0.7819222249254772,
                    0.7811406935313765,
                    0.7803599432780343,
                    0.7795799733847004,
                    0.7788007830714049,
                    0.7780223715589573,
                    0.7772447380689461,
                    0.7764678818237378,
                    0.775691802046476,
                    0.774916497961081,
                    0.7741419687922484,
                    0.7733682137654491,
                    0.772595232106928,
                    0.7718230230437034,
                    0.7710515858035663,
                    0.7702809196150792,
                    0.7695110237075758,
                    0.7687418973111603,
                    0.7679735396567061,
                    0.7672059499758557,
                    0.7664391275010192,
                    0.7656730714653739,
                    0.764907781102864,
                    0.764143255648199,
                    0.7633794943368531,
                    0.7626164964050653,
                    0.7618542610898376,
                    0.7610927876289343,
                    0.7603320752608821,
                    0.7595721232249685,
                    0.7588129307612413,
                    0.7580544971105083,
                    0.7572968215143355,
                    0.7565399032150474,
                    0.7557837414557255,
                    0.755028335480208,
                    0.754273684533089,
                    0.7535197878597173,
                    0.7527666447061963,
                    0.7520142543193826,
                    0.751262615946886,
                    0.750511728837068,
                    0.7497615922390413,
                    0.7490122054026693,
                    0.7482635675785653,
                    0.747515678018091,
                    0.7467685359733571,
                    0.7460221406972215,
                    0.7452764914432887,
                    0.7445315874659094,
                    0.7437874280201796,
                    0.7430440123619398,
                    0.7423013397477743,
                    0.7415594094350105,
                    0.7408182206817179,
                    0.7400777727467076,
                    0.7393380648895319,
                    0.7385990963704826,
                    0.7378608664505911,
                    0.7371233743916278,
                    0.7363866194561001,
                    0.7356506009072533,
                    0.7349153180090687,
                    0.7341807700262634,
                    0.7334469562242892,
                    0.7327138758693325,
                    0.7319815282283126,
                    0.731249912568882,
                    0.7305190281594249,
                    0.7297888742690568,
                    0.7290594501676237,
                    0.7283307551257017,
                    0.7276027884145955,
                    0.7268755493063382,
                    0.7261490370736909,
                    0.7254232509901412,
                    0.7246981903299029,
                    0.7239738543679153,
                    0.7232502423798424,
                    0.7225273536420722,
                    0.7218051874317158,
                    0.721083743026607,
                    0.7203630197053014,
                    0.7196430167470754,
                    0.7189237334319262,
                    0.7182051690405703,
                    0.7174873228544433,
                    0.716770194155699,
                    0.7160537822272085,
                    0.7153380863525599,
                    0.7146231058160573,
                    0.71390883990272,
                    0.7131952878982822,
                    0.7124824490891918,
                    0.7117703227626097,
                    0.7110589082064097,
                    0.7103482047091773,
                    0.7096382115602087,
                    0.7089289280495108,
                    0.7082203534678,
                    0.7075124871065017,
                    0.7068053282577494,
                    0.7060988762143844,
                    0.7053931302699544,
                    0.7046880897187134,
                    0.703983753855621,
                    0.7032801219763409,
                    0.7025771933772416,
                    0.701874967355394,
                    0.7011734432085724,
                    0.7004726202352524,
                    0.699772497734611,
                    0.6990730750065257,
                    0.6983743513515736,
                    0.697676326071031,
                    0.6969789984668727,
                    0.696282367841771,
                    0.6955864334990951,
                    0.6948911947429106,
                    0.6941966508779789,
                    0.6935028012097558,
                    0.6928096450443917,
                    0.6921171816887304,
                    0.6914254104503085,
                    0.6907343306373547,
                    0.690043941558789,
                    0.6893542425242224,
                    0.6886652328439558,
                    0.6879769118289795,
                    0.6872892787909722,
                    0.686602333042301,
                    0.6859160738960202,
                    0.6852305006658703,
                    0.6845456126662782,
                    0.6838614092123558,
                    0.6831778896198997,
                    0.6824950532053901,
                    0.6818128992859905,
                    0.6811314271795471,
                    0.6804506362045877,
                    0.679770525680321,
                    0.6790910949266368,
                    0.678412343264104,
                    0.6777342700139711,
                    0.6770568744981647,
                    0.6763801560392891,
                    0.675704113960626,
                    0.6750287475861332,
                    0.6743540562404442,
                    0.6736800392488677,
                    0.6730066959373864,
                    0.6723340256326572,
                    0.6716620276620098,
                    0.6709907013534459,
                    0.6703200460356393,
                    0.6696500610379346,
                    0.6689807456903467,
                    0.6683120993235603,
                    0.6676441212689289,
                    0.6669768108584744,
                    0.6663101674248864,
                    0.6656441903015212,
                    0.6649788788224019,
                    0.6643142323222168,
                    0.6636502501363194,
                    0.6629869316007274,
                    0.6623242760521223,
                    0.6616622828278483,
                    0.6610009512659125,
                    0.6603402807049829,
                    0.659680270484389,
                    0.6590209199441207,
                    0.6583622284248272,
                    0.657704195267817,
                    0.6570468198150567,
                    0.6563901014091712,
                    0.6557340393934418,
                    0.6550786331118063,
                    0.6544238819088586,
                    0.6537697851298473,
                    0.6531163421206756,
                    0.6524635522279004,
                    0.651811414798732,
                    0.6511599291810325,
                    0.6505090947233165,
                    0.6498589107747496,
                    0.6492093766851474,
                    0.6485604918049761,
                    0.6479122554853506,
                    0.6472646670780347,
                    0.6466177259354396,
                    0.6459714314106245,
                    0.6453257828572946,
                    0.6446807796298013,
                    0.6440364210831414,
                    0.6433927065729562,
                    0.6427496354555312,
                    0.6421072070877952,
                    0.6414654208273198,
                    0.6408242760323187,
                    0.6401837720616471,
                    0.6395439082748009,
                    0.6389046840319162,
                    0.6382660986937688,
                    0.6376281516217733,
                    0.6369908421779825,
                    0.6363541697250871,
                    0.6357181336264143,
                    0.6350827332459281,
                    0.6344479679482282,
                    0.633813837098549,
                    0.6331803400627598,
                    0.6325474762073634,
                    0.6319152448994959,
                    0.631283645506926,
                    0.6306526773980542,
                    0.6300223399419123,
                    0.6293926325081629,
                    0.6287635544670984,
                    0.6281351051896408,
                    0.6275072840473407,
                    0.626880090412377,
                    0.6262535236575559,
                    0.6256275831563107,
                    0.6250022682827008,
                    0.6243775784114113,
                    0.6237535129177522,
                    0.6231300711776578,
                    0.6225072525676868,
                    0.6218850564650201,
                    0.6212634822474618,
                    0.6206425292934373,
                    0.620022196981994,
                    0.6194024846927992,
                    0.6187833918061408,
                    0.6181649177029258,
                    0.61754706176468,
                    0.6169298233735474,
                    0.6163132019122897,
                    0.6156971967642851,
                    0.6150818073135287,
                    0.6144670329446308,
                    0.6138528730428171,
                    0.6132393269939275,
                    0.6126263941844161,
                    0.6120140740013499,
                    0.6114023658324087,
                    0.6107912690658842,
                    0.6101807830906798,
                    0.6095709072963093,
                    0.6089616410728969,
                    0.6083529838111763,
                    0.6077449349024902,
                    0.6071374937387897,
                    0.6065306597126334,
                    0.6059244322171875,
                    0.6053188106462243,
                    0.6047137943941221,
                    0.6041093828558647,
                    0.6035055754270405,
                    0.6029023715038421,
                    0.6022997704830654,
                    0.6016977717621094,
                    0.6010963747389753,
                    0.6004955788122659,
                    0.5998953833811855,
                    0.5992957878455384,
                    0.5986967916057292,
                    0.5980983940627613,
                    0.5975005946182375,
                    0.596903392674358,
                    0.596306787633921,
                    0.5957107789003212,
                    0.5951153658775501,
                    0.5945205479701944,
                    0.5939263245834361,
                    0.593332695123052,
                    0.5927396589954125,
                    0.5921472156074813,
                    0.5915553643668151,
                    0.5909641046815626,
                    0.5903734359604639,
                    0.5897833576128504,
                    0.5891938690486437,
                    0.5886049696783552,
                    0.5880166589130854,
                    0.5874289361645234,
                    0.5868418008449466,
                    0.5862552523672196,
                    0.5856692901447937,
                    0.5850839135917069,
                    0.5844991221225824,
                    0.5839149151526287,
                    0.5833312920976388,
                    0.5827482523739896,
                    0.5821657953986414,
                    0.5815839205891371,
                    0.5810026273636019,
                    0.5804219151407424,
                    0.5798417833398464,
                    0.579262231380782,
                    0.5786832586839974,
                    0.5781048646705196,
                    0.5775270487619547,
                    0.5769498103804866,
                    0.5763731489488771,
                    0.5757970638904645,
                    0.5752215546291638,
                    0.5746466205894657,
                    0.574072261196436,
                    0.5734984758757153,
                    0.5729252640535184,
                    0.5723526251566332,
                    0.5717805586124209,
                    0.5712090638488149,
                    0.5706381402943203,
                    0.5700677873780134,
                    0.5694980045295417,
                    0.5689287911791218,
                    0.5683601467575405,
                    0.5677920706961533,
                    0.5672245624268841,
                    0.5666576213822246,
                    0.5660912469952338,
                    0.5655254386995371,
                    0.5649601959293262,
                    0.5643955181193584,
                    0.5638314047049557,
                    0.5632678551220047,
                    0.5627048688069557,
                    0.5621424451968224,
                    0.5615805837291813,
                    0.5610192838421706,
                    0.5604585449744904,
                    0.559898366565402,
                    0.5593387480547268,
                    0.5587796888828463,
                    0.5582211884907012,
                    0.5576632463197913,
                    0.5571058618121739,
                    0.5565490344104649,
                    0.5559927635578367,
                    0.5554370486980182,
                    0.5548818892752949,
                    0.5543272847345071,
                    0.5537732345210501,
                    0.5532197380808739,
                    0.5526667948604818,
                    0.5521144043069306,
                    0.5515625658678298,
                    0.5510112789913407,
                    0.5504605431261766,
                    0.5499103577216016,
                    0.54936072222743,
                    0.5488116360940265,
                    0.5482630987723047,
                    0.5477151097137275,
                    0.5471676683703055,
                    0.5466207741945976,
                    0.5460744266397094,
                    0.5455286251592933,
                    0.544983369207548,
                    0.5444386582392171,
                    0.5438944917095899,
                    0.5433508690744998,
                    0.542807789790324,
                    0.5422652533139832,
                    0.541723259102941,
                    0.5411818066152029,
                    0.5406408953093166,
                    0.5401005246443706,
                    0.5395606940799943,
                    0.539021403076357,
                    0.5384826510941678,
                    0.5379444375946745,
                    0.5374067620396636,
                    0.5368696238914595,
                    0.5363330226129241,
                    0.535796957667456,
                    0.5352614285189903,
                    0.5347264346319975,
                    0.5341919754714841,
                    0.5336580505029906,
                    0.5331246591925921,
                    0.5325918010068972,
                    0.5320594754130477,
                    0.5315276818787179,
                    0.5309964198721143,
                    0.5304656888619749,
                    0.5299354883175685,
                    0.5294058177086945,
                    0.5288766765056825,
                    0.528348064179391,
                    0.5278199802012077,
                    0.5272924240430485,
                    0.5267653951773574,
                    0.5262388930771054,
                    0.5257129172157903,
                    0.5251874670674361,
                    0.5246625421065929,
                    0.5241381418083354,
                    0.5236142656482635,
                    0.5230909131025008,
                    0.5225680836476948,
                    0.522045776761016,
                    0.5215239919201575,
                    0.5210027286033344,
                    0.5204819862892832,
                    0.5199617644572618,
                    0.5194420625870482,
                    0.5189228801589404,
                    0.5184042166537559,
                    0.5178860715528314,
                    0.5173684443380216,
                    0.5168513344916992,
                    0.5163347414967544,
                    0.5158186648365941,
                    0.5153031039951417,
                    0.5147880584568362,
                    0.5142735277066319,
                    0.5137595112299983,
                    0.5132460085129188,
                    0.5127330190418905,
                    0.512220542303924,
                    0.5117085777865424,
                    0.5111971249777814,
                    0.5106861833661879,
                    0.5101757524408203,
                    0.5096658316912476,
                    0.5091564206075492,
                    0.5086475186803137,
                    0.5081391254006393,
                    0.5076312402601327,
                    0.5071238627509086,
                    0.5066169923655895,
                    0.5061106285973052,
                    0.5056047709396915,
                    0.5050994188868908,
                    0.5045945719335512,
                    0.5040902295748255,
                    0.5035863913063714,
                    0.5030830566243506,
                    0.5025802250254284,
                    0.5020778960067731,
                    0.5015760690660556,
                    0.5010747437014489,
                    0.5005739194116278,
                    0.5000735956957677,
                    0.499573772053545,
                    0.499074447985136,
                    0.49857562299121655,
                    0.4980772965729617,
                    0.49757946823204485,
                    0.49708213747063773,
                    0.4965853037914095,
                    0.4960889666975265,
                    0.49559312569265146,
                    0.4950977802809435,
                    0.494602929967057,
                    0.4941085742561417,
                    0.4936147126538418,
                    0.49312134466629576,
                    0.49262846980013547,
                    0.492136087562486,
                    0.4916441974609651,
                    0.4911527990036827,
                    0.4906618916992401,
                    0.4901714750567302,
                    0.4896815485857362,
                    0.48919211179633154,
                    0.4887031641990795,
                    0.4882147053050323,
                    0.4877267346257312,
                    0.48723925167320525,
                    0.4867522559599717,
                    0.4862657469990346,
                    0.485779724303885,
                    0.4852941873885002,
                    0.48480913576734325,
                    0.48432456895536247,
                    0.483840486467991,
                    0.48335688782114633,
                    0.48287377253122976,
                    0.4823911401151259,
                    0.48190899009020244,
                    0.4814273219743092,
                    0.480946135285778,
                    0.48046542954342225,
                    0.479985204266536,
                    0.4795054589748941,
                    0.4790261931887511,
                    0.4785474064288412,
                    0.4780690982163776,
                    0.4775912680730521,
                    0.4771139155210344,
                    0.47663704008297203,
                    0.4761606412819894,
                    0.4756847186416878,
                    0.47520927168614446,
                    0.4747342999399124,
                    0.4742598029280199,
                    0.4737857801759698,
                    0.4733122312097393,
                    0.47283915555577954,
                    0.4723665527410147,
                    0.471894422292842,
                    0.4714227637391309,
                    0.4709515766082228,
                    0.47048086042893056,
                    0.47001061473053796,
                    0.46954083904279925,
                    0.4690715328959387,
                    0.46860269582065023,
                    0.4681343273480965,
                    0.46766642700990924,
                    0.4671989943381879,
                    0.46673202886549986,
                    0.46626553012487953,
                    0.46579949764982825,
                    0.4653339309743134,
                    0.46486882963276827,
                    0.46440419316009157,
                    0.4639400210916467,
                    0.4634763129632616,
                    0.46301306831122807,
                    0.4625502866723014,
                    0.4620879675837,
                    0.4616261105831047,
                    0.4611647152086584,
                    0.4607037809989658,
                    0.46024330749309256,
                    0.4597832942305652,
                    0.45932374075137034,
                    0.4588646465959545,
                    0.4584060113052235,
                    0.45794783442054204,
                    0.45749011548373314,
                    0.4570328540370779,
                    0.4565760496233147,
                    0.4561197017856392,
                    0.4556638100677035,
                    0.45520837401361586,
                    0.45475339316794017,
                    0.4542988670756955,
                    0.45384479528235583,
                    0.4533911773338492,
                    0.4529380127765577,
                    0.4524853011573167,
                    0.45203304202341466,
                    0.4515812349225922,
                    0.45112987940304233,
                    0.4506789750134095,
                    0.45022852130278923,
                    0.44977851782072775,
                    0.44932896411722156,
                    0.448879859742717,
                    0.4484312042481095,
                    0.44798299718474366,
                    0.44753523810441237,
                    0.4470879265593564,
                    0.44664106210226434,
                    0.44619464428627154,
                    0.4457486726649602,
                    0.4453031467923587,
                    0.4448580662229411,
                    0.4444134305116268,
                    0.44396923921378006,
                    0.4435254918852095,
                    0.4430821880821678,
                    0.44263932736135114,
                    0.4421969092798987,
                    0.44175493339539235,
                    0.4413133992658562,
                    0.44087230644975617,
                    0.4404316545059993,
                    0.4399914429939336,
                    0.4395516714733476,
                    0.4391123395044697,
                    0.43867344664796787,
                    0.43823499246494924,
                    0.43779697651695965,
                    0.437359398365983,
                    0.4369222575744412,
                    0.4364855537051934,
                    0.4360492863215356,
                    0.4356134549872005,
                    0.4351780592663567,
                    0.43474309872360845,
                    0.4343085729239951,
                    0.4338744814329909,
                    0.4334408238165043,
                    0.43300759964087765,
                    0.43257480847288665,
                    0.43214244987974026,
                    0.43171052342907973,
                    0.43127902868897855,
                    0.43084796522794205,
                    0.43041733261490667,
                    0.4299871304192398,
                    0.42955735821073915,
                    0.42912801555963254,
                    0.42869910203657724,
                    0.4282706172126597,
                    0.427842560659395,
                    0.4274149319487267,
                    0.4269877306530259,
                    0.4265609563450914,
                    0.4261346085981487,
                    0.4257086869858502,
                    0.42528319108227414,
                    0.42485812046192456,
                    0.4244334746997309,
                    0.4240092533710473,
                    0.4235854560516524,
                    0.4231620823177488,
                    0.42273913174596284,
                    0.42231660391334386,
                    0.4218944983973639,
                    0.42147281477591764,
                    0.4210515526273212,
                    0.42063071153031245,
                    0.4202102910640503,
                    0.41979029080811425,
                    0.41937071034250395,
                    0.418951549247639,
                    0.41853280710435814,
                    0.41811448349391933,
                    0.4176965779979988,
                    0.41727909019869114,
                    0.4168620196785084,
                    0.41644536602038007,
                    0.4160291288076525,
                    0.4156133076240884,
                    0.4151979020538666,
                    0.4147829116815814,
                    0.41436833609224244,
                    0.4139541748712741,
                    0.41354042760451515,
                    0.4131270938782182,
                    0.4127141732790497,
                    0.41230166539408875,
                    0.4118895698108276,
                    0.41147788611717057,
                    0.41106661390143395,
                    0.4106557527523455,
                    0.410245302259044,
                    0.40983526201107895,
                    0.40942563159841006,
                    0.4090164106114069,
                    0.40860759864084845,
                    0.4081991952779227,
                    0.4077912001142262,
                    0.4073836127417638,
                    0.40697643275294815,
                    0.4065696597405991,
                    0.4061632932979437,
                    0.40575733301861544,
                    0.405351778496654,
                    0.4049466293265049,
                    0.4045418851030188,
                    0.4041375454214515,
                    0.4037336098774634,
                    0.40333007806711874,
                    0.40292694958688574,
                    0.40252422403363597,
                    0.40212190100464373,
                    0.401719980097586,
                    0.4013184609105419,
                    0.4009173430419921,
                    0.4005166260908188,
                    0.40011630965630496,
                    0.3997163933381341,
                    0.3993168767363899,
                    0.39891775945155566,
                    0.39851904108451414,
                    0.39812072123654696,
                    0.39772279950933415,
                    0.397325275504954,
                    0.39692814882588245,
                    0.39653141907499284,
                    0.39613508585555535,
                    0.3957391487712367,
                    0.3953436074260998,
                    0.39494846142460327,
                    0.3945537103716011,
                    0.3941593538723422,
                    0.39376539153247,
                    0.3933718229580221,
                    0.39297864775542996,
                    0.39258586553151836,
                    0.39219347589350495,
                    0.39180147844900015,
                    0.39140987280600653,
                    0.39101865857291823,
                    0.39062783535852114,
                    0.3902374027719919,
                    0.389847360422898,
                    0.389457707921197,
                    0.38906844487723635,
                    0.38867957090175304,
                    0.388291085605873,
                    0.3879029886011109,
                    0.38751527949936976,
                    0.3871279579129404,
                    0.38674102345450123,
                    0.38635447573711773,
                    0.38596831437424217,
                    0.3855825389797131,
                    0.3851971491677552,
                    0.3848121445529786,
                    0.38442752475037856,
                    0.3840432893753353,
                    0.3836594380436134,
                    0.3832759703713616,
                    0.38289288597511206,
                    0.38251018447178037,
                    0.38212786547866506,
                    0.3817459286134471,
                    0.38136437349418956,
                    0.38098319973933725,
                    0.38060240696771647,
                    0.38022199479853436,
                    0.3798419628513787,
                    0.37946231074621756,
                    0.37908303810339883,
                    0.37870414454364976,
                    0.3783256296880768,
                    0.37794749315816506,
                    0.37756973457577797,
                    0.37719235356315695,
                    0.37681534974292086,
                    0.37643872273806595,
                    0.37606247217196515,
                    0.37568659766836787,
                    0.37531109885139957,
                    0.37493597534556133,
                    0.3745612267757298,
                    0.37418685276715613,
                    0.3738128529454665,
                    0.37343922693666093,
                    0.3730659743671134,
                    0.3726930948635714,
                    0.3723205880531552,
                    0.3719484535633582,
                    0.3715766910220457,
                    0.37120530005745517,
                    0.37083428029819565,
                    0.37046363137324734,
                    0.37009335291196127,
                    0.369723444544059,
                    0.369353905899632,
                    0.3689847366091418,
                    0.3686159363034188,
                    0.3682475046136629
                  ],
                  "yaxis": "y"
                },
                {
                  "name": "radius",
                  "type": "scatter",
                  "x": [
                    0,
                    1,
                    2,
                    3,
                    4,
                    5,
                    6,
                    7,
                    8,
                    9,
                    10,
                    11,
                    12,
                    13,
                    14,
                    15,
                    16,
                    17,
                    18,
                    19,
                    20,
                    21,
                    22,
                    23,
                    24,
                    25,
                    26,
                    27,
                    28,
                    29,
                    30,
                    31,
                    32,
                    33,
                    34,
                    35,
                    36,
                    37,
                    38,
                    39,
                    40,
                    41,
                    42,
                    43,
                    44,
                    45,
                    46,
                    47,
                    48,
                    49,
                    50,
                    51,
                    52,
                    53,
                    54,
                    55,
                    56,
                    57,
                    58,
                    59,
                    60,
                    61,
                    62,
                    63,
                    64,
                    65,
                    66,
                    67,
                    68,
                    69,
                    70,
                    71,
                    72,
                    73,
                    74,
                    75,
                    76,
                    77,
                    78,
                    79,
                    80,
                    81,
                    82,
                    83,
                    84,
                    85,
                    86,
                    87,
                    88,
                    89,
                    90,
                    91,
                    92,
                    93,
                    94,
                    95,
                    96,
                    97,
                    98,
                    99,
                    100,
                    101,
                    102,
                    103,
                    104,
                    105,
                    106,
                    107,
                    108,
                    109,
                    110,
                    111,
                    112,
                    113,
                    114,
                    115,
                    116,
                    117,
                    118,
                    119,
                    120,
                    121,
                    122,
                    123,
                    124,
                    125,
                    126,
                    127,
                    128,
                    129,
                    130,
                    131,
                    132,
                    133,
                    134,
                    135,
                    136,
                    137,
                    138,
                    139,
                    140,
                    141,
                    142,
                    143,
                    144,
                    145,
                    146,
                    147,
                    148,
                    149,
                    150,
                    151,
                    152,
                    153,
                    154,
                    155,
                    156,
                    157,
                    158,
                    159,
                    160,
                    161,
                    162,
                    163,
                    164,
                    165,
                    166,
                    167,
                    168,
                    169,
                    170,
                    171,
                    172,
                    173,
                    174,
                    175,
                    176,
                    177,
                    178,
                    179,
                    180,
                    181,
                    182,
                    183,
                    184,
                    185,
                    186,
                    187,
                    188,
                    189,
                    190,
                    191,
                    192,
                    193,
                    194,
                    195,
                    196,
                    197,
                    198,
                    199,
                    200,
                    201,
                    202,
                    203,
                    204,
                    205,
                    206,
                    207,
                    208,
                    209,
                    210,
                    211,
                    212,
                    213,
                    214,
                    215,
                    216,
                    217,
                    218,
                    219,
                    220,
                    221,
                    222,
                    223,
                    224,
                    225,
                    226,
                    227,
                    228,
                    229,
                    230,
                    231,
                    232,
                    233,
                    234,
                    235,
                    236,
                    237,
                    238,
                    239,
                    240,
                    241,
                    242,
                    243,
                    244,
                    245,
                    246,
                    247,
                    248,
                    249,
                    250,
                    251,
                    252,
                    253,
                    254,
                    255,
                    256,
                    257,
                    258,
                    259,
                    260,
                    261,
                    262,
                    263,
                    264,
                    265,
                    266,
                    267,
                    268,
                    269,
                    270,
                    271,
                    272,
                    273,
                    274,
                    275,
                    276,
                    277,
                    278,
                    279,
                    280,
                    281,
                    282,
                    283,
                    284,
                    285,
                    286,
                    287,
                    288,
                    289,
                    290,
                    291,
                    292,
                    293,
                    294,
                    295,
                    296,
                    297,
                    298,
                    299,
                    300,
                    301,
                    302,
                    303,
                    304,
                    305,
                    306,
                    307,
                    308,
                    309,
                    310,
                    311,
                    312,
                    313,
                    314,
                    315,
                    316,
                    317,
                    318,
                    319,
                    320,
                    321,
                    322,
                    323,
                    324,
                    325,
                    326,
                    327,
                    328,
                    329,
                    330,
                    331,
                    332,
                    333,
                    334,
                    335,
                    336,
                    337,
                    338,
                    339,
                    340,
                    341,
                    342,
                    343,
                    344,
                    345,
                    346,
                    347,
                    348,
                    349,
                    350,
                    351,
                    352,
                    353,
                    354,
                    355,
                    356,
                    357,
                    358,
                    359,
                    360,
                    361,
                    362,
                    363,
                    364,
                    365,
                    366,
                    367,
                    368,
                    369,
                    370,
                    371,
                    372,
                    373,
                    374,
                    375,
                    376,
                    377,
                    378,
                    379,
                    380,
                    381,
                    382,
                    383,
                    384,
                    385,
                    386,
                    387,
                    388,
                    389,
                    390,
                    391,
                    392,
                    393,
                    394,
                    395,
                    396,
                    397,
                    398,
                    399,
                    400,
                    401,
                    402,
                    403,
                    404,
                    405,
                    406,
                    407,
                    408,
                    409,
                    410,
                    411,
                    412,
                    413,
                    414,
                    415,
                    416,
                    417,
                    418,
                    419,
                    420,
                    421,
                    422,
                    423,
                    424,
                    425,
                    426,
                    427,
                    428,
                    429,
                    430,
                    431,
                    432,
                    433,
                    434,
                    435,
                    436,
                    437,
                    438,
                    439,
                    440,
                    441,
                    442,
                    443,
                    444,
                    445,
                    446,
                    447,
                    448,
                    449,
                    450,
                    451,
                    452,
                    453,
                    454,
                    455,
                    456,
                    457,
                    458,
                    459,
                    460,
                    461,
                    462,
                    463,
                    464,
                    465,
                    466,
                    467,
                    468,
                    469,
                    470,
                    471,
                    472,
                    473,
                    474,
                    475,
                    476,
                    477,
                    478,
                    479,
                    480,
                    481,
                    482,
                    483,
                    484,
                    485,
                    486,
                    487,
                    488,
                    489,
                    490,
                    491,
                    492,
                    493,
                    494,
                    495,
                    496,
                    497,
                    498,
                    499,
                    500,
                    501,
                    502,
                    503,
                    504,
                    505,
                    506,
                    507,
                    508,
                    509,
                    510,
                    511,
                    512,
                    513,
                    514,
                    515,
                    516,
                    517,
                    518,
                    519,
                    520,
                    521,
                    522,
                    523,
                    524,
                    525,
                    526,
                    527,
                    528,
                    529,
                    530,
                    531,
                    532,
                    533,
                    534,
                    535,
                    536,
                    537,
                    538,
                    539,
                    540,
                    541,
                    542,
                    543,
                    544,
                    545,
                    546,
                    547,
                    548,
                    549,
                    550,
                    551,
                    552,
                    553,
                    554,
                    555,
                    556,
                    557,
                    558,
                    559,
                    560,
                    561,
                    562,
                    563,
                    564,
                    565,
                    566,
                    567,
                    568,
                    569,
                    570,
                    571,
                    572,
                    573,
                    574,
                    575,
                    576,
                    577,
                    578,
                    579,
                    580,
                    581,
                    582,
                    583,
                    584,
                    585,
                    586,
                    587,
                    588,
                    589,
                    590,
                    591,
                    592,
                    593,
                    594,
                    595,
                    596,
                    597,
                    598,
                    599,
                    600,
                    601,
                    602,
                    603,
                    604,
                    605,
                    606,
                    607,
                    608,
                    609,
                    610,
                    611,
                    612,
                    613,
                    614,
                    615,
                    616,
                    617,
                    618,
                    619,
                    620,
                    621,
                    622,
                    623,
                    624,
                    625,
                    626,
                    627,
                    628,
                    629,
                    630,
                    631,
                    632,
                    633,
                    634,
                    635,
                    636,
                    637,
                    638,
                    639,
                    640,
                    641,
                    642,
                    643,
                    644,
                    645,
                    646,
                    647,
                    648,
                    649,
                    650,
                    651,
                    652,
                    653,
                    654,
                    655,
                    656,
                    657,
                    658,
                    659,
                    660,
                    661,
                    662,
                    663,
                    664,
                    665,
                    666,
                    667,
                    668,
                    669,
                    670,
                    671,
                    672,
                    673,
                    674,
                    675,
                    676,
                    677,
                    678,
                    679,
                    680,
                    681,
                    682,
                    683,
                    684,
                    685,
                    686,
                    687,
                    688,
                    689,
                    690,
                    691,
                    692,
                    693,
                    694,
                    695,
                    696,
                    697,
                    698,
                    699,
                    700,
                    701,
                    702,
                    703,
                    704,
                    705,
                    706,
                    707,
                    708,
                    709,
                    710,
                    711,
                    712,
                    713,
                    714,
                    715,
                    716,
                    717,
                    718,
                    719,
                    720,
                    721,
                    722,
                    723,
                    724,
                    725,
                    726,
                    727,
                    728,
                    729,
                    730,
                    731,
                    732,
                    733,
                    734,
                    735,
                    736,
                    737,
                    738,
                    739,
                    740,
                    741,
                    742,
                    743,
                    744,
                    745,
                    746,
                    747,
                    748,
                    749,
                    750,
                    751,
                    752,
                    753,
                    754,
                    755,
                    756,
                    757,
                    758,
                    759,
                    760,
                    761,
                    762,
                    763,
                    764,
                    765,
                    766,
                    767,
                    768,
                    769,
                    770,
                    771,
                    772,
                    773,
                    774,
                    775,
                    776,
                    777,
                    778,
                    779,
                    780,
                    781,
                    782,
                    783,
                    784,
                    785,
                    786,
                    787,
                    788,
                    789,
                    790,
                    791,
                    792,
                    793,
                    794,
                    795,
                    796,
                    797,
                    798,
                    799,
                    800,
                    801,
                    802,
                    803,
                    804,
                    805,
                    806,
                    807,
                    808,
                    809,
                    810,
                    811,
                    812,
                    813,
                    814,
                    815,
                    816,
                    817,
                    818,
                    819,
                    820,
                    821,
                    822,
                    823,
                    824,
                    825,
                    826,
                    827,
                    828,
                    829,
                    830,
                    831,
                    832,
                    833,
                    834,
                    835,
                    836,
                    837,
                    838,
                    839,
                    840,
                    841,
                    842,
                    843,
                    844,
                    845,
                    846,
                    847,
                    848,
                    849,
                    850,
                    851,
                    852,
                    853,
                    854,
                    855,
                    856,
                    857,
                    858,
                    859,
                    860,
                    861,
                    862,
                    863,
                    864,
                    865,
                    866,
                    867,
                    868,
                    869,
                    870,
                    871,
                    872,
                    873,
                    874,
                    875,
                    876,
                    877,
                    878,
                    879,
                    880,
                    881,
                    882,
                    883,
                    884,
                    885,
                    886,
                    887,
                    888,
                    889,
                    890,
                    891,
                    892,
                    893,
                    894,
                    895,
                    896,
                    897,
                    898,
                    899,
                    900,
                    901,
                    902,
                    903,
                    904,
                    905,
                    906,
                    907,
                    908,
                    909,
                    910,
                    911,
                    912,
                    913,
                    914,
                    915,
                    916,
                    917,
                    918,
                    919,
                    920,
                    921,
                    922,
                    923,
                    924,
                    925,
                    926,
                    927,
                    928,
                    929,
                    930,
                    931,
                    932,
                    933,
                    934,
                    935,
                    936,
                    937,
                    938,
                    939,
                    940,
                    941,
                    942,
                    943,
                    944,
                    945,
                    946,
                    947,
                    948,
                    949,
                    950,
                    951,
                    952,
                    953,
                    954,
                    955,
                    956,
                    957,
                    958,
                    959,
                    960,
                    961,
                    962,
                    963,
                    964,
                    965,
                    966,
                    967,
                    968,
                    969,
                    970,
                    971,
                    972,
                    973,
                    974,
                    975,
                    976,
                    977,
                    978,
                    979,
                    980,
                    981,
                    982,
                    983,
                    984,
                    985,
                    986,
                    987,
                    988,
                    989,
                    990,
                    991,
                    992,
                    993,
                    994,
                    995,
                    996,
                    997,
                    998,
                    999
                  ],
                  "xaxis": "x2",
                  "y": [
                    5,
                    4.991959282691119,
                    4.983931496009206,
                    4.975916619159958,
                    4.967914631382512,
                    4.959925511949392,
                    4.951949240166454,
                    4.943985795372832,
                    4.936035156940889,
                    4.928097304276156,
                    4.920172216817288,
                    4.912259874036,
                    4.904360255437023,
                    4.896473340558048,
                    4.888599108969667,
                    4.880737540275333,
                    4.872888614111293,
                    4.865052310146546,
                    4.857228608082785,
                    4.849417487654344,
                    4.841618928628149,
                    4.833832910803664,
                    4.826059414012836,
                    4.818298418120047,
                    4.810549903022061,
                    4.802813848647968,
                    4.795090234959137,
                    4.78737904194916,
                    4.779680249643805,
                    4.7719938381009595,
                    4.764319787410581,
                    4.756658077694645,
                    4.749008689107096,
                    4.74137160183379,
                    4.733746796092449,
                    4.726134252132609,
                    4.718533950235565,
                    4.710945870714324,
                    4.703369993913554,
                    4.695806300209528,
                    4.688254770010078,
                    4.680715383754545,
                    4.673188121913724,
                    4.6656729649898185,
                    4.6581698935163836,
                    4.650678888058283,
                    4.643199929211631,
                    4.63573299760375,
                    4.628278073893113,
                    4.6208351387693,
                    4.613404172952942,
                    4.6059851571956765,
                    4.598578072280094,
                    4.591182899019689,
                    4.583799618258811,
                    4.576428210872616,
                    4.569068657767013,
                    4.561720939878619,
                    4.554385038174705,
                    4.547060933653152,
                    4.539748607342401,
                    4.532448040301395,
                    4.525159213619544,
                    4.517882108416665,
                    4.510616705842939,
                    4.503362987078859,
                    4.496120933335183,
                    4.488890525852885,
                    4.481671745903105,
                    4.474464574787104,
                    4.4672689938362105,
                    4.460084984411777,
                    4.45291252790513,
                    4.4457516057375175,
                    4.438602199360069,
                    4.431464290253743,
                    4.424337859929277,
                    4.417222889927142,
                    4.410119361817498,
                    4.403027257200137,
                    4.395946557704449,
                    4.388877244989359,
                    4.381819300743291,
                    4.374772706684116,
                    4.367737444559104,
                    4.360713496144882,
                    4.353700843247377,
                    4.346699467701779,
                    4.3397093513724885,
                    4.33273047615307,
                    4.325762823966205,
                    4.318806376763649,
                    4.311861116526179,
                    4.3049270252635505,
                    4.298004085014449,
                    4.291092277846445,
                    4.2841915858559485,
                    4.277301991168158,
                    4.270423475937018,
                    4.263556022345174,
                    4.256699612603923,
                    4.2498542289531684,
                    4.243019853661376,
                    4.236196469025523,
                    4.22938405737106,
                    4.222582601051858,
                    4.215792082450167,
                    4.209012483976567,
                    4.202243788069925,
                    4.19548597719735,
                    4.188739033854147,
                    4.182002940563768,
                    4.175277679877771,
                    4.1685632343757755,
                    4.161859586665414,
                    4.1551667193822865,
                    4.148484615189922,
                    4.1418132567797254,
                    4.135152626870936,
                    4.128502708210587,
                    4.121863483573453,
                    4.11523493576201,
                    4.108617047606391,
                    4.102009801964341,
                    4.095413181721169,
                    4.088827169789713,
                    4.0822517491102825,
                    4.0756869026506255,
                    4.069132613405881,
                    4.062588864398532,
                    4.056055638678365,
                    4.049532919322424,
                    4.043020689434967,
                    4.036518932147427,
                    4.030027630618358,
                    4.023546768033402,
                    4.017076327605238,
                    4.010616292573543,
                    4.004166646204948,
                    3.9977273717929913,
                    3.991298452658078,
                    3.984879872147439,
                    3.9784716136350813,
                    3.9720736605217515,
                    3.96568599623489,
                    3.959308604228587,
                    3.9529414679835426,
                    3.946584571007021,
                    3.9402378968328087,
                    3.9339014290211742,
                    3.927575151158822,
                    3.921259046858851,
                    3.914953099760714,
                    3.9086572935301733,
                    3.902371611859259,
                    3.896096038466226,
                    3.8898305570955145,
                    3.8835751515177037,
                    3.8773298055294743,
                    3.871094502953562,
                    3.864869227638719,
                    3.8586539634596715,
                    3.852448694317077,
                    3.846253404137483,
                    3.840068076873284,
                    3.833892696502685,
                    3.8277272470296526,
                    3.8215717124838795,
                    3.8154260769207395,
                    3.8092903244212484,
                    3.8031644390920234,
                    3.7970484050652376,
                    3.790942206498584,
                    3.7848458275752317,
                    3.7787592525037854,
                    3.772682465518245,
                    3.766615450877964,
                    3.7605581928676095,
                    3.7545106757971203,
                    3.748472884001668,
                    3.742444801841615,
                    3.7364264137024756,
                    3.7304177039948723,
                    3.7244186571544984,
                    3.718429257642078,
                    3.712449489943323,
                    3.7064793385688963,
                    3.700518788054368,
                    3.6945678229601784,
                    3.6886264278715957,
                    3.6826945873986796,
                    3.6767722861762357,
                    3.6708595088637814,
                    3.664956240145503,
                    3.6590624647302166,
                    3.65317816735133,
                    3.6473033327668003,
                    3.6414379457590966,
                    3.635581991135161,
                    3.629735453726365,
                    3.623898318388478,
                    3.6180705700016196,
                    3.6122521934702267,
                    3.6064431737230103,
                    3.6006434957129203,
                    3.5948531444171024,
                    3.5890721048368626,
                    3.5833003619976256,
                    3.577537900948899,
                    3.5717847067642303,
                    3.566040764541176,
                    3.5603060594012517,
                    3.554580576489903,
                    3.548864300976464,
                    3.5431572180541178,
                    3.5374593129398586,
                    3.531770570874455,
                    3.5260909771224096,
                    3.5204205169719223,
                    3.5147591757348504,
                    3.5091069387466742,
                    3.503463791366456,
                    3.4978297189767997,
                    3.492204706983821,
                    3.4865887408171004,
                    3.4809818059296527,
                    3.4753838877978853,
                    3.4697949719215604,
                    3.4642150438237613,
                    3.4586440890508485,
                    3.4530820931724304,
                    3.4475290417813187,
                    3.441984920493495,
                    3.436449714948071,
                    3.430923410807254,
                    3.4254059937563097,
                    3.4198974495035213,
                    3.414397763780157,
                    3.4089069223404307,
                    3.403424910961465,
                    3.3979517154432557,
                    3.3924873216086344,
                    3.3870317153032308,
                    3.3815848823954378,
                    3.376146808776372,
                    3.370717480359841,
                    3.365296883082306,
                    3.359885002902841,
                    3.354481825803103,
                    3.3490873377872905,
                    3.34370152488211,
                    3.3383243731367394,
                    3.3329558686227916,
                    3.327595997434277,
                    3.3222447456875703,
                    3.3169020995213727,
                    3.3115680450966756,
                    3.3062425685967263,
                    3.3009256562269913,
                    3.2956172942151203,
                    3.290317468810912,
                    3.285026166286275,
                    3.279743372935198,
                    3.274469075073709,
                    3.2692032590398403,
                    3.263945911193598,
                    3.2586970179169206,
                    3.253456565613648,
                    3.2482245407094834,
                    3.24300092965196,
                    3.2377857189104065,
                    3.2325788949759082,
                    3.227380444361277,
                    3.222190353601013,
                    3.2170086092512706,
                    3.211835197889825,
                    3.2066701061160363,
                    3.201513320550813,
                    3.1963648278365793,
                    3.1912246146372425,
                    3.186092667638154,
                    3.1809689735460784,
                    3.1758535190891575,
                    3.1707462910168753,
                    3.165647276100025,
                    3.160556461130675,
                    3.1554738329221332,
                    3.1503993783089133,
                    3.1453330841467024,
                    3.1402749373123227,
                    3.1352249247037047,
                    3.1301830332398444,
                    3.125149249860777,
                    3.1201235615275387,
                    3.115105955222134,
                    3.1100964179475032,
                    3.105094936727487,
                    3.100101498606795,
                    3.095116090650967,
                    3.0901386999463485,
                    3.0851693136000478,
                    3.0802079187399096,
                    3.075254502514477,
                    3.0703090520929606,
                    3.0653715546652043,
                    3.0604419974416546,
                    3.055520367653324,
                    3.0506066525517577,
                    3.0457008394090055,
                    3.0408029155175837,
                    3.035912868190444,
                    3.0310306847609416,
                    3.0261563525828,
                    3.021289859030081,
                    3.016431191497151,
                    3.011580337398647,
                    3.0067372841694455,
                    3.00190201926463,
                    2.9970745301594572,
                    2.992254804349325,
                    2.987442829349742,
                    2.9826385926962926,
                    2.9778420819446065,
                    2.973053284670325,
                    2.9682721884690704,
                    2.963498780956412,
                    2.958733049767835,
                    2.953974982558709,
                    2.949224567004257,
                    2.9444817907995198,
                    2.939746641659326,
                    2.935019107318263,
                    2.9302991755306405,
                    2.9255868340704625,
                    2.920882070731394,
                    2.9161848733267277,
                    2.9114952296893564,
                    2.906813127671739,
                    2.902138555145868,
                    2.897471500003242,
                    2.8928119501548286,
                    2.8881598935310393,
                    2.883515318081693,
                    2.878878211775988,
                    2.8742485626024705,
                    2.8696263585690014,
                    2.8650115877027282,
                    2.860404238050051,
                    2.8558042976765936,
                    2.8512117546671725,
                    2.846626597125765,
                    2.842048813175479,
                    2.8374783909585215,
                    2.8329153186361706,
                    2.8283595843887404,
                    2.8238111764155533,
                    2.81927008293491,
                    2.814736292184057,
                    2.8102097924191565,
                    2.8056905719152585,
                    2.801178618966266,
                    2.796673921884908,
                    2.792176469002708,
                    2.787686248669956,
                    2.7832032492556746,
                    2.7787274591475892,
                    2.7742588667521035,
                    2.769797460494261,
                    2.7653432288177227,
                    2.760896160184733,
                    2.756456243076088,
                    2.7520234659911136,
                    2.7475978174476245,
                    2.7431792859819053,
                    2.738767860148674,
                    2.7343635285210532,
                    2.729966279690543,
                    2.7255761022669884,
                    2.721192984878554,
                    2.716816916171691,
                    2.712447884811106,
                    2.7080858794797384,
                    2.7037308888787246,
                    2.699382901727372,
                    2.6950419067631284,
                    2.690707892741554,
                    2.686380848436292,
                    2.6820607626390385,
                    2.677747624159514,
                    2.673441421825435,
                    2.6691421444824845,
                    2.6648497809942837,
                    2.660564320242362,
                    2.656285751126129,
                    2.6520140625628463,
                    2.6477492434875973,
                    2.64349128285326,
                    2.639240169630477,
                    2.6349958928076282,
                    2.6307584413908023,
                    2.626527804403767,
                    2.622303970887942,
                    2.6180869299023684,
                    2.6138766705236844,
                    2.6096731818460928,
                    2.605476452981334,
                    2.60128647305866,
                    2.597103231224804,
                    2.5929267166439516,
                    2.588756918497716,
                    2.584593825985105,
                    2.580437428322501,
                    2.576287714743621,
                    2.5721446744995013,
                    2.568008296858463,
                    2.563878571106083,
                    2.5597554865451704,
                    2.555639032495737,
                    2.5515291982949684,
                    2.5474259732971998,
                    2.5433293468738825,
                    2.539239308413564,
                    2.535155847321853,
                    2.531078953021399,
                    2.5270086149518582,
                    2.5229448225698707,
                    2.5188875653490332,
                    2.5148368327798676,
                    2.5107926143697985,
                    2.506754899643124,
                    2.5027236781409874,
                    2.4986989394213523,
                    2.4946806730589746,
                    2.490668868645375,
                    2.486663515788814,
                    2.48266460411426,
                    2.4786721232633706,
                    2.4746860628944582,
                    2.470706412682465,
                    2.4667331623189415,
                    2.4627663015120116,
                    2.4588058199863525,
                    2.4548517074831637,
                    2.4509039537601445,
                    2.446962548591464,
                    2.443027481767735,
                    2.4390987430959905,
                    2.4351763223996543,
                    2.431260209518515,
                    2.427350394308701,
                    2.4234468666426534,
                    2.4195496164091,
                    2.415658633513029,
                    2.411773907875661,
                    2.407895429434429,
                    2.4040231881429426,
                    2.4001571739709724,
                    2.3962973769044154,
                    2.392443786945275,
                    2.3885963941116324,
                    2.384755188437619,
                    2.380920159973396,
                    2.377091298785124,
                    2.3732685949549372,
                    2.369452038580922,
                    2.3656416197770853,
                    2.3618373286733356,
                    2.35803915541545,
                    2.3542470901650563,
                    2.3504611230996018,
                    2.34668124441233,
                    2.3429074443122557,
                    2.339139713024138,
                    2.3353780407884566,
                    2.331622417861387,
                    2.327872834514772,
                    2.324129281036101,
                    2.3203917477284803,
                    2.316660224910611,
                    2.312934702916764,
                    2.309215172096753,
                    2.3055016228159113,
                    2.301794045455065,
                    2.2980924304105113,
                    2.294396768093989,
                    2.290707048932658,
                    2.287023263369073,
                    2.2833454018611556,
                    2.2796734548821758,
                    2.2760074129207224,
                    2.272347266480679,
                    2.2686930060812034,
                    2.2650446222566964,
                    2.261402105556783,
                    2.257765446546285,
                    2.254134635805197,
                    2.2505096639286637,
                    2.2468905215269523,
                    2.2432771992254317,
                    2.239669687664546,
                    2.23606797749979,
                    2.2324720594016862,
                    2.2288819240557616,
                    2.22529756216252,
                    2.2217189644374216,
                    2.2181461216108573,
                    2.2145790244281245,
                    2.211017663649404,
                    2.2074620300497343,
                    2.2039121144189906,
                    2.200367907561858,
                    2.19682940029781,
                    2.1932965834610836,
                    2.1897694479006544,
                    2.186247984480216,
                    2.1827321840781524,
                    2.1792220375875186,
                    2.1757175359160135,
                    2.1722186699859583,
                    2.168725430734272,
                    2.165237809112449,
                    2.1617557960865343,
                    2.158279382637101,
                    2.154808559759226,
                    2.15134331846247,
                    2.147883649770849,
                    2.1444295447228137,
                    2.140980994371228,
                    2.1375379897833424,
                    2.1341005220407743,
                    2.130668582239481,
                    2.1272421614897405,
                    2.1238212509161265,
                    2.120405841657484,
                    2.1169959248669104,
                    2.1135914917117287,
                    2.110192533373467,
                    2.106799041047833,
                    2.1034110059446958,
                    2.1000284192880576,
                    2.096651272316035,
                    2.0932795562808355,
                    2.089913262448732,
                    2.086552382100046,
                    2.0831969065291185,
                    2.079846827044291,
                    2.076502134967884,
                    2.0731628216361706,
                    2.069828878399359,
                    2.0665002966215655,
                    2.063177067680795,
                    2.0598591829689177,
                    2.0565466338916463,
                    2.0532394118685153,
                    2.049937508332858,
                    2.0466409147317823,
                    2.043349622526153,
                    2.0400636231905644,
                    2.0367829082133233,
                    2.0335074690964223,
                    2.0302372973555216,
                    2.0269723845199255,
                    2.0237127221325584,
                    2.0204583017499473,
                    2.017209114942197,
                    2.0139651532929674,
                    2.0107264083994543,
                    2.0074928718723655,
                    2.0042645353359014,
                    2.0010413904277313,
                    1.9978234287989713,
                    1.994610642114165,
                    1.99140302205126,
                    1.9882005603015864,
                    1.985003248569838,
                    1.9818110785740455,
                    1.9786240420455612,
                    1.9754421307290324,
                    1.972265336382383,
                    1.9690936507767918,
                    1.96592706569667,
                    1.9627655729396412,
                    1.9596091643165185,
                    1.9564578316512862,
                    1.9533115667810754,
                    1.9501703615561445,
                    1.9470342078398584,
                    1.943903097508666,
                    1.9407770224520806,
                    1.937655974572659,
                    1.9345399457859782,
                    1.9314289280206178,
                    1.9283229132181359,
                    1.9252218933330507,
                    1.922125860332819,
                    1.9190348061978135,
                    1.9159487229213057,
                    1.9128676025094409,
                    1.909791436981222,
                    1.9067202183684846,
                    1.9036539387158786,
                    1.9005925900808482,
                    1.897536164533609,
                    1.8944846541571305,
                    1.8914380510471123,
                    1.8883963473119665,
                    1.8853595350727945,
                    1.8823276064633696,
                    1.8793005536301144,
                    1.8762783687320819,
                    1.873261043940933,
                    1.8702485714409196,
                    1.8672409434288604,
                    1.8642381521141242,
                    1.8612401897186084,
                    1.8582470484767173,
                    1.8552587206353446,
                    1.8522751984538512,
                    1.8492964742040474,
                    1.8463225401701706,
                    1.8433533886488656,
                    1.840389011949167,
                    1.8374294023924764,
                    1.834474552312543,
                    1.8315244540554467,
                    1.8285790999795746,
                    1.8256384824556016,
                    1.8227025938664738,
                    1.8197714266073843,
                    1.8168449730857588,
                    1.8139232257212299,
                    1.8110061769456223,
                    1.8080938192029308,
                    1.8051861449493019,
                    1.8022831466530125,
                    1.7993848167944526,
                    1.7964911478661059,
                    1.7936021323725257,
                    1.7907177628303228,
                    1.7878380317681406,
                    1.784962931726638,
                    1.7820924552584692,
                    1.7792265949282644,
                    1.7763653433126116,
                    1.7735086930000379,
                    1.7706566365909864,
                    1.767809166697802,
                    1.7649662759447091,
                    1.762127956967793,
                    1.7592942024149818,
                    1.7564650049460275,
                    1.7536403572324848,
                    1.7508202519576945,
                    1.748004681816763,
                    1.7451936395165455,
                    1.7423871177756236,
                    1.7395851093242896,
                    1.7367876069045263,
                    1.733994603269989,
                    1.7312060911859848,
                    1.728422063429457,
                    1.725642512788963,
                    1.7228674320646589,
                    1.7200968140682766,
                    1.7173306516231106,
                    1.714568937563995,
                    1.7118116647372865,
                    1.709058826000847,
                    1.7063104142240229,
                    1.703566422287628,
                    1.7008268430839246,
                    1.6980916695166057,
                    1.695360894500776,
                    1.6926345109629333,
                    1.6899125118409515,
                    1.6871948900840605,
                    1.6844816386528294,
                    1.6817727505191482,
                    1.6790682186662074,
                    1.6763680360884827,
                    1.6736721957917164,
                    1.6709806907928977,
                    1.6682935141202446,
                    1.665610658813188,
                    1.6629321179223533,
                    1.660257884509539,
                    1.6575879516477021,
                    1.654922312420941,
                    1.6522609599244737,
                    1.6496038872646226,
                    1.6469510875587976,
                    1.644302553935475,
                    1.6416582795341816,
                    1.6390182575054777,
                    1.6363824810109384,
                    1.6337509432231356,
                    1.6311236373256202,
                    1.6285005565129065,
                    1.6258816939904515,
                    1.623267042974639,
                    1.6206565966927624,
                    1.6180503483830067,
                    1.61544829129443,
                    1.6128504186869468,
                    1.6102567238313124,
                    1.607667200009102,
                    1.6050818405126952,
                    1.6025006386452592,
                    1.5999235877207296,
                    1.5973506810637947,
                    1.594781912009878,
                    1.5922172739051206,
                    1.589656760106363,
                    1.5871003639811296,
                    1.5845480789076105,
                    1.5819998982746453,
                    1.579455815481704,
                    1.5769158239388728,
                    1.574379917066834,
                    1.5718480882968509,
                    1.569320331070751,
                    1.5667966388409074,
                    1.5642770050702224,
                    1.5617614232321118,
                    1.5592498868104865,
                    1.556742389299737,
                    1.5542389242047143,
                    1.5517394850407165,
                    1.5492440653334687,
                    1.546752658619107,
                    1.5442652584441636,
                    1.5417818583655485,
                    1.5393024519505327,
                    1.5368270327767322,
                    1.5343555944320912,
                    1.531888130514866,
                    1.5294246346336053,
                    1.5269651004071403,
                    1.5245095214645599,
                    1.5220578914452008,
                    1.5196102039986283,
                    1.5171664527846196,
                    1.514726631473148,
                    1.512290733744366,
                    1.50985875328859,
                    1.5074306838062836,
                    1.5050065190080395,
                    1.5025862526145661,
                    1.5001698783566693,
                    1.497757389975236,
                    1.4953487812212207,
                    1.4929440458556247,
                    1.4905431776494842,
                    1.4881461703838519,
                    1.485753017849782,
                    1.4833637138483124,
                    1.480978252190451,
                    1.4785966266971584,
                    1.476218831199331,
                    1.4738448595377869,
                    1.4714747055632484,
                    1.469108363136328,
                    1.4667458261275095,
                    1.4643870884171348,
                    1.4620321438953876,
                    1.4596809864622755,
                    1.4573336100276169,
                    1.4549900085110243,
                    1.4526501758418877,
                    1.4503141059593592,
                    1.4479817928123389,
                    1.4456532303594565,
                    1.4433284125690586,
                    1.4410073334191897,
                    1.4386899868975802,
                    1.436376367001628,
                    1.434066467738384,
                    1.4317602831245382,
                    1.4294578071864006,
                    1.4271590339598887,
                    1.4248639574905115,
                    1.4225725718333526,
                    1.4202848710530567,
                    1.4180008492238128,
                    1.4157205004293403,
                    1.4134438187628722,
                    1.411170798327141,
                    1.4089014332343617,
                    1.4066357176062185,
                    1.404373645573849,
                    1.4021152112778288,
                    1.3998604088681552,
                    1.3976092325042346,
                    1.3953616763548646,
                    1.3931177345982217,
                    1.390877401421843,
                    1.388640671022614,
                    1.3864075376067526,
                    1.3841779953897928,
                    1.3819520385965722,
                    1.379729661461215,
                    1.3775108582271176,
                    1.3752956231469338,
                    1.3730839504825605,
                    1.370875834505122,
                    1.3686712694949557,
                    1.3664702497415961,
                    1.3642727695437626,
                    1.3620788232093417,
                    1.3598884050553737,
                    1.3577015094080385,
                    1.3555181306026403,
                    1.3533382629835924,
                    1.3511619009044038,
                    1.3489890387276633,
                    1.3468196708250257,
                    1.3446537915771968,
                    1.3424913953739193,
                    1.340332476613958,
                    1.3381770297050846,
                    1.336025049064065,
                    1.3338765291166435,
                    1.331731464297528,
                    1.3295898490503764,
                    1.327451677827782,
                    1.3253169450912594,
                    1.3231856453112292,
                    1.3210577729670059,
                    1.3189333225467805,
                    1.3168122885476077,
                    1.3146946654753937,
                    1.3125804478448775,
                    1.3104696301796204,
                    1.3083622070119905,
                    1.306258172883149,
                    1.3041575223430355,
                    1.3020602499503529,
                    1.299966350272557,
                    1.2978758178858367,
                    1.2957886473751064,
                    1.293704833333986,
                    1.2916243703647918,
                    1.2895472530785188,
                    1.287473476094829,
                    1.2854030340420366,
                    1.283335921557095,
                    1.28127213328558,
                    1.2792116638816808,
                    1.2771545080081816,
                    1.27510066033645,
                    1.2730501155464236,
                    1.2710028683265941,
                    1.2689589133739962,
                    1.266918245394191,
                    1.2648808591012553,
                    1.2628467492177657,
                    1.2608159104747858,
                    1.2587883376118523,
                    1.2567640253769616,
                    1.254742968526556,
                    1.2527251618255106,
                    1.2507106000471182,
                    1.2486992779730783,
                    1.246691190393481,
                    1.2446863321067956,
                    1.242684697919856,
                    1.2406862826478466,
                    1.2386910811142913,
                    1.236699088151037,
                    1.2347102985982419,
                    1.2327247073043635,
                    1.230742309126142,
                    1.2287630989285894,
                    1.2267870715849754,
                    1.2248142219768146,
                    1.222844544993852,
                    1.2208780355340514,
                    1.218914688503581,
                    1.216954498816801,
                    1.2149974613962495,
                    1.2130435711726304,
                    1.2110928230847997,
                    1.209145212079752,
                    1.2072007331126076,
                    1.2052593811466012,
                    1.2033211511530657,
                    1.2013860381114216,
                    1.1994540370091635,
                    1.1975251428418463,
                    1.1955993506130727,
                    1.1936766553344802,
                    1.1917570520257292,
                    1.1898405357144883,
                    1.1879271014364226,
                    1.1860167442351808,
                    1.184109459162382,
                    1.1822052412776027,
                    1.1803040856483646,
                    1.1784059873501214,
                    1.1765109414662462,
                    1.174618943088019,
                    1.1727299873146135,
                    1.1708440692530848,
                    1.1689611840183558,
                    1.1670813267332067,
                    1.1652044925282596,
                    1.1633306765419678,
                    1.161459873920603,
                    1.1595920798182422,
                    1.1577272893967547,
                    1.1558654978257916,
                    1.1540067002827705,
                    1.1521508919528651,
                    1.1502980680289911,
                    1.1484482237117966,
                    1.146601354209646,
                    1.1447574547386097,
                    1.142916520522452,
                    1.1410785467926183,
                    1.1392435287882203,
                    1.1374114617560287,
                    1.1355823409504566,
                    1.1337561616335485,
                    1.131932919074969,
                    1.1301126085519893,
                    1.1282952253494758,
                    1.1264807647598765,
                    1.1246692220832113,
                    1.1228605926270572,
                    1.1210548717065376,
                    1.1192520546443103,
                    1.1174521367705545,
                    1.1156551134229593,
                    1.1138609799467107,
                    1.1120697316944819,
                    1.1102813640264182,
                    1.108495872310127,
                    1.1067132519206655,
                    1.1049334982405281,
                    1.103156606659635,
                    1.1013825725753204,
                    1.0996113913923191,
                    1.097843058522757,
                    1.0960775693861369,
                    1.0943149194093291,
                    1.0925551040265569,
                    1.090798118679386,
                    1.0890439588167142,
                    1.0872926198947563,
                    1.085544097377035,
                    1.0837983867343683,
                    1.0820554834448577,
                    1.0803153829938767,
                    1.0785780808740588,
                    1.0768435725852863,
                    1.0751118536346775,
                    1.0733829195365765,
                    1.0716567658125415,
                    1.069933387991332,
                    1.0682127816088973,
                    1.0664949422083672,
                    1.0647798653400375,
                    1.0630675465613602,
                    1.061357981436931,
                    1.059651165538479,
                    1.057947094444855,
                    1.0562457637420182,
                    1.0545471690230275,
                    1.0528513058880287,
                    1.0511581699442423,
                    1.0494677568059538,
                    1.0477800620945013,
                    1.0460950814382646,
                    1.044412810472653,
                    1.0427332448400963,
                    1.0410563801900299,
                    1.0393822121788872,
                    1.037710736470085,
                    1.0360419487340158,
                    1.0343758446480331,
                    1.032712419896443,
                    1.0310516701704915,
                    1.0293935911683534,
                    1.0277381785951216,
                    1.0260854281627962,
                    1.0244353355902724,
                    1.0227878966033301,
                    1.0211431069346237,
                    1.019500962323669,
                    1.0178614585168335,
                    1.0162245912673256,
                    1.014590356335183,
                    1.0129587494872614,
                    1.0113297664972243,
                    1.0097034031455323,
                    1.0080796552194307,
                    1.0064585185129395,
                    1.004839988826844,
                    1.0032240619686812,
                    1.0016107337527294
                  ],
                  "yaxis": "y2"
                }
              ],
              "layout": {
                "annotations": [
                  {
                    "font": {
                      "size": 16
                    },
                    "showarrow": false,
                    "text": "learning_rate",
                    "x": 0.225,
                    "xanchor": "center",
                    "xref": "paper",
                    "y": 1,
                    "yanchor": "bottom",
                    "yref": "paper"
                  },
                  {
                    "font": {
                      "size": 16
                    },
                    "showarrow": false,
                    "text": "radius",
                    "x": 0.775,
                    "xanchor": "center",
                    "xref": "paper",
                    "y": 1,
                    "yanchor": "bottom",
                    "yref": "paper"
                  }
                ],
                "template": {
                  "data": {
                    "bar": [
                      {
                        "error_x": {
                          "color": "#2a3f5f"
                        },
                        "error_y": {
                          "color": "#2a3f5f"
                        },
                        "marker": {
                          "line": {
                            "color": "#E5ECF6",
                            "width": 0.5
                          },
                          "pattern": {
                            "fillmode": "overlay",
                            "size": 10,
                            "solidity": 0.2
                          }
                        },
                        "type": "bar"
                      }
                    ],
                    "barpolar": [
                      {
                        "marker": {
                          "line": {
                            "color": "#E5ECF6",
                            "width": 0.5
                          },
                          "pattern": {
                            "fillmode": "overlay",
                            "size": 10,
                            "solidity": 0.2
                          }
                        },
                        "type": "barpolar"
                      }
                    ],
                    "carpet": [
                      {
                        "aaxis": {
                          "endlinecolor": "#2a3f5f",
                          "gridcolor": "white",
                          "linecolor": "white",
                          "minorgridcolor": "white",
                          "startlinecolor": "#2a3f5f"
                        },
                        "baxis": {
                          "endlinecolor": "#2a3f5f",
                          "gridcolor": "white",
                          "linecolor": "white",
                          "minorgridcolor": "white",
                          "startlinecolor": "#2a3f5f"
                        },
                        "type": "carpet"
                      }
                    ],
                    "choropleth": [
                      {
                        "colorbar": {
                          "outlinewidth": 0,
                          "ticks": ""
                        },
                        "type": "choropleth"
                      }
                    ],
                    "contour": [
                      {
                        "colorbar": {
                          "outlinewidth": 0,
                          "ticks": ""
                        },
                        "colorscale": [
                          [
                            0,
                            "#0d0887"
                          ],
                          [
                            0.1111111111111111,
                            "#46039f"
                          ],
                          [
                            0.2222222222222222,
                            "#7201a8"
                          ],
                          [
                            0.3333333333333333,
                            "#9c179e"
                          ],
                          [
                            0.4444444444444444,
                            "#bd3786"
                          ],
                          [
                            0.5555555555555556,
                            "#d8576b"
                          ],
                          [
                            0.6666666666666666,
                            "#ed7953"
                          ],
                          [
                            0.7777777777777778,
                            "#fb9f3a"
                          ],
                          [
                            0.8888888888888888,
                            "#fdca26"
                          ],
                          [
                            1,
                            "#f0f921"
                          ]
                        ],
                        "type": "contour"
                      }
                    ],
                    "contourcarpet": [
                      {
                        "colorbar": {
                          "outlinewidth": 0,
                          "ticks": ""
                        },
                        "type": "contourcarpet"
                      }
                    ],
                    "heatmap": [
                      {
                        "colorbar": {
                          "outlinewidth": 0,
                          "ticks": ""
                        },
                        "colorscale": [
                          [
                            0,
                            "#0d0887"
                          ],
                          [
                            0.1111111111111111,
                            "#46039f"
                          ],
                          [
                            0.2222222222222222,
                            "#7201a8"
                          ],
                          [
                            0.3333333333333333,
                            "#9c179e"
                          ],
                          [
                            0.4444444444444444,
                            "#bd3786"
                          ],
                          [
                            0.5555555555555556,
                            "#d8576b"
                          ],
                          [
                            0.6666666666666666,
                            "#ed7953"
                          ],
                          [
                            0.7777777777777778,
                            "#fb9f3a"
                          ],
                          [
                            0.8888888888888888,
                            "#fdca26"
                          ],
                          [
                            1,
                            "#f0f921"
                          ]
                        ],
                        "type": "heatmap"
                      }
                    ],
                    "heatmapgl": [
                      {
                        "colorbar": {
                          "outlinewidth": 0,
                          "ticks": ""
                        },
                        "colorscale": [
                          [
                            0,
                            "#0d0887"
                          ],
                          [
                            0.1111111111111111,
                            "#46039f"
                          ],
                          [
                            0.2222222222222222,
                            "#7201a8"
                          ],
                          [
                            0.3333333333333333,
                            "#9c179e"
                          ],
                          [
                            0.4444444444444444,
                            "#bd3786"
                          ],
                          [
                            0.5555555555555556,
                            "#d8576b"
                          ],
                          [
                            0.6666666666666666,
                            "#ed7953"
                          ],
                          [
                            0.7777777777777778,
                            "#fb9f3a"
                          ],
                          [
                            0.8888888888888888,
                            "#fdca26"
                          ],
                          [
                            1,
                            "#f0f921"
                          ]
                        ],
                        "type": "heatmapgl"
                      }
                    ],
                    "histogram": [
                      {
                        "marker": {
                          "pattern": {
                            "fillmode": "overlay",
                            "size": 10,
                            "solidity": 0.2
                          }
                        },
                        "type": "histogram"
                      }
                    ],
                    "histogram2d": [
                      {
                        "colorbar": {
                          "outlinewidth": 0,
                          "ticks": ""
                        },
                        "colorscale": [
                          [
                            0,
                            "#0d0887"
                          ],
                          [
                            0.1111111111111111,
                            "#46039f"
                          ],
                          [
                            0.2222222222222222,
                            "#7201a8"
                          ],
                          [
                            0.3333333333333333,
                            "#9c179e"
                          ],
                          [
                            0.4444444444444444,
                            "#bd3786"
                          ],
                          [
                            0.5555555555555556,
                            "#d8576b"
                          ],
                          [
                            0.6666666666666666,
                            "#ed7953"
                          ],
                          [
                            0.7777777777777778,
                            "#fb9f3a"
                          ],
                          [
                            0.8888888888888888,
                            "#fdca26"
                          ],
                          [
                            1,
                            "#f0f921"
                          ]
                        ],
                        "type": "histogram2d"
                      }
                    ],
                    "histogram2dcontour": [
                      {
                        "colorbar": {
                          "outlinewidth": 0,
                          "ticks": ""
                        },
                        "colorscale": [
                          [
                            0,
                            "#0d0887"
                          ],
                          [
                            0.1111111111111111,
                            "#46039f"
                          ],
                          [
                            0.2222222222222222,
                            "#7201a8"
                          ],
                          [
                            0.3333333333333333,
                            "#9c179e"
                          ],
                          [
                            0.4444444444444444,
                            "#bd3786"
                          ],
                          [
                            0.5555555555555556,
                            "#d8576b"
                          ],
                          [
                            0.6666666666666666,
                            "#ed7953"
                          ],
                          [
                            0.7777777777777778,
                            "#fb9f3a"
                          ],
                          [
                            0.8888888888888888,
                            "#fdca26"
                          ],
                          [
                            1,
                            "#f0f921"
                          ]
                        ],
                        "type": "histogram2dcontour"
                      }
                    ],
                    "mesh3d": [
                      {
                        "colorbar": {
                          "outlinewidth": 0,
                          "ticks": ""
                        },
                        "type": "mesh3d"
                      }
                    ],
                    "parcoords": [
                      {
                        "line": {
                          "colorbar": {
                            "outlinewidth": 0,
                            "ticks": ""
                          }
                        },
                        "type": "parcoords"
                      }
                    ],
                    "pie": [
                      {
                        "automargin": true,
                        "type": "pie"
                      }
                    ],
                    "scatter": [
                      {
                        "fillpattern": {
                          "fillmode": "overlay",
                          "size": 10,
                          "solidity": 0.2
                        },
                        "type": "scatter"
                      }
                    ],
                    "scatter3d": [
                      {
                        "line": {
                          "colorbar": {
                            "outlinewidth": 0,
                            "ticks": ""
                          }
                        },
                        "marker": {
                          "colorbar": {
                            "outlinewidth": 0,
                            "ticks": ""
                          }
                        },
                        "type": "scatter3d"
                      }
                    ],
                    "scattercarpet": [
                      {
                        "marker": {
                          "colorbar": {
                            "outlinewidth": 0,
                            "ticks": ""
                          }
                        },
                        "type": "scattercarpet"
                      }
                    ],
                    "scattergeo": [
                      {
                        "marker": {
                          "colorbar": {
                            "outlinewidth": 0,
                            "ticks": ""
                          }
                        },
                        "type": "scattergeo"
                      }
                    ],
                    "scattergl": [
                      {
                        "marker": {
                          "colorbar": {
                            "outlinewidth": 0,
                            "ticks": ""
                          }
                        },
                        "type": "scattergl"
                      }
                    ],
                    "scattermapbox": [
                      {
                        "marker": {
                          "colorbar": {
                            "outlinewidth": 0,
                            "ticks": ""
                          }
                        },
                        "type": "scattermapbox"
                      }
                    ],
                    "scatterpolar": [
                      {
                        "marker": {
                          "colorbar": {
                            "outlinewidth": 0,
                            "ticks": ""
                          }
                        },
                        "type": "scatterpolar"
                      }
                    ],
                    "scatterpolargl": [
                      {
                        "marker": {
                          "colorbar": {
                            "outlinewidth": 0,
                            "ticks": ""
                          }
                        },
                        "type": "scatterpolargl"
                      }
                    ],
                    "scatterternary": [
                      {
                        "marker": {
                          "colorbar": {
                            "outlinewidth": 0,
                            "ticks": ""
                          }
                        },
                        "type": "scatterternary"
                      }
                    ],
                    "surface": [
                      {
                        "colorbar": {
                          "outlinewidth": 0,
                          "ticks": ""
                        },
                        "colorscale": [
                          [
                            0,
                            "#0d0887"
                          ],
                          [
                            0.1111111111111111,
                            "#46039f"
                          ],
                          [
                            0.2222222222222222,
                            "#7201a8"
                          ],
                          [
                            0.3333333333333333,
                            "#9c179e"
                          ],
                          [
                            0.4444444444444444,
                            "#bd3786"
                          ],
                          [
                            0.5555555555555556,
                            "#d8576b"
                          ],
                          [
                            0.6666666666666666,
                            "#ed7953"
                          ],
                          [
                            0.7777777777777778,
                            "#fb9f3a"
                          ],
                          [
                            0.8888888888888888,
                            "#fdca26"
                          ],
                          [
                            1,
                            "#f0f921"
                          ]
                        ],
                        "type": "surface"
                      }
                    ],
                    "table": [
                      {
                        "cells": {
                          "fill": {
                            "color": "#EBF0F8"
                          },
                          "line": {
                            "color": "white"
                          }
                        },
                        "header": {
                          "fill": {
                            "color": "#C8D4E3"
                          },
                          "line": {
                            "color": "white"
                          }
                        },
                        "type": "table"
                      }
                    ]
                  },
                  "layout": {
                    "annotationdefaults": {
                      "arrowcolor": "#2a3f5f",
                      "arrowhead": 0,
                      "arrowwidth": 1
                    },
                    "autotypenumbers": "strict",
                    "coloraxis": {
                      "colorbar": {
                        "outlinewidth": 0,
                        "ticks": ""
                      }
                    },
                    "colorscale": {
                      "diverging": [
                        [
                          0,
                          "#8e0152"
                        ],
                        [
                          0.1,
                          "#c51b7d"
                        ],
                        [
                          0.2,
                          "#de77ae"
                        ],
                        [
                          0.3,
                          "#f1b6da"
                        ],
                        [
                          0.4,
                          "#fde0ef"
                        ],
                        [
                          0.5,
                          "#f7f7f7"
                        ],
                        [
                          0.6,
                          "#e6f5d0"
                        ],
                        [
                          0.7,
                          "#b8e186"
                        ],
                        [
                          0.8,
                          "#7fbc41"
                        ],
                        [
                          0.9,
                          "#4d9221"
                        ],
                        [
                          1,
                          "#276419"
                        ]
                      ],
                      "sequential": [
                        [
                          0,
                          "#0d0887"
                        ],
                        [
                          0.1111111111111111,
                          "#46039f"
                        ],
                        [
                          0.2222222222222222,
                          "#7201a8"
                        ],
                        [
                          0.3333333333333333,
                          "#9c179e"
                        ],
                        [
                          0.4444444444444444,
                          "#bd3786"
                        ],
                        [
                          0.5555555555555556,
                          "#d8576b"
                        ],
                        [
                          0.6666666666666666,
                          "#ed7953"
                        ],
                        [
                          0.7777777777777778,
                          "#fb9f3a"
                        ],
                        [
                          0.8888888888888888,
                          "#fdca26"
                        ],
                        [
                          1,
                          "#f0f921"
                        ]
                      ],
                      "sequentialminus": [
                        [
                          0,
                          "#0d0887"
                        ],
                        [
                          0.1111111111111111,
                          "#46039f"
                        ],
                        [
                          0.2222222222222222,
                          "#7201a8"
                        ],
                        [
                          0.3333333333333333,
                          "#9c179e"
                        ],
                        [
                          0.4444444444444444,
                          "#bd3786"
                        ],
                        [
                          0.5555555555555556,
                          "#d8576b"
                        ],
                        [
                          0.6666666666666666,
                          "#ed7953"
                        ],
                        [
                          0.7777777777777778,
                          "#fb9f3a"
                        ],
                        [
                          0.8888888888888888,
                          "#fdca26"
                        ],
                        [
                          1,
                          "#f0f921"
                        ]
                      ]
                    },
                    "colorway": [
                      "#636efa",
                      "#EF553B",
                      "#00cc96",
                      "#ab63fa",
                      "#FFA15A",
                      "#19d3f3",
                      "#FF6692",
                      "#B6E880",
                      "#FF97FF",
                      "#FECB52"
                    ],
                    "font": {
                      "color": "#2a3f5f"
                    },
                    "geo": {
                      "bgcolor": "white",
                      "lakecolor": "white",
                      "landcolor": "#E5ECF6",
                      "showlakes": true,
                      "showland": true,
                      "subunitcolor": "white"
                    },
                    "hoverlabel": {
                      "align": "left"
                    },
                    "hovermode": "closest",
                    "mapbox": {
                      "style": "light"
                    },
                    "paper_bgcolor": "white",
                    "plot_bgcolor": "#E5ECF6",
                    "polar": {
                      "angularaxis": {
                        "gridcolor": "white",
                        "linecolor": "white",
                        "ticks": ""
                      },
                      "bgcolor": "#E5ECF6",
                      "radialaxis": {
                        "gridcolor": "white",
                        "linecolor": "white",
                        "ticks": ""
                      }
                    },
                    "scene": {
                      "xaxis": {
                        "backgroundcolor": "#E5ECF6",
                        "gridcolor": "white",
                        "gridwidth": 2,
                        "linecolor": "white",
                        "showbackground": true,
                        "ticks": "",
                        "zerolinecolor": "white"
                      },
                      "yaxis": {
                        "backgroundcolor": "#E5ECF6",
                        "gridcolor": "white",
                        "gridwidth": 2,
                        "linecolor": "white",
                        "showbackground": true,
                        "ticks": "",
                        "zerolinecolor": "white"
                      },
                      "zaxis": {
                        "backgroundcolor": "#E5ECF6",
                        "gridcolor": "white",
                        "gridwidth": 2,
                        "linecolor": "white",
                        "showbackground": true,
                        "ticks": "",
                        "zerolinecolor": "white"
                      }
                    },
                    "shapedefaults": {
                      "line": {
                        "color": "#2a3f5f"
                      }
                    },
                    "ternary": {
                      "aaxis": {
                        "gridcolor": "white",
                        "linecolor": "white",
                        "ticks": ""
                      },
                      "baxis": {
                        "gridcolor": "white",
                        "linecolor": "white",
                        "ticks": ""
                      },
                      "bgcolor": "#E5ECF6",
                      "caxis": {
                        "gridcolor": "white",
                        "linecolor": "white",
                        "ticks": ""
                      }
                    },
                    "title": {
                      "x": 0.05
                    },
                    "xaxis": {
                      "automargin": true,
                      "gridcolor": "white",
                      "linecolor": "white",
                      "ticks": "",
                      "title": {
                        "standoff": 15
                      },
                      "zerolinecolor": "white",
                      "zerolinewidth": 2
                    },
                    "yaxis": {
                      "automargin": true,
                      "gridcolor": "white",
                      "linecolor": "white",
                      "ticks": "",
                      "title": {
                        "standoff": 15
                      },
                      "zerolinecolor": "white",
                      "zerolinewidth": 2
                    }
                  }
                },
                "xaxis": {
                  "anchor": "y",
                  "domain": [
                    0,
                    0.45
                  ]
                },
                "xaxis2": {
                  "anchor": "y2",
                  "domain": [
                    0.55,
                    1
                  ]
                },
                "yaxis": {
                  "anchor": "x",
                  "domain": [
                    0,
                    1
                  ]
                },
                "yaxis2": {
                  "anchor": "x2",
                  "domain": [
                    0,
                    1
                  ]
                }
              }
            }
          },
          "metadata": {},
          "output_type": "display_data"
        }
      ],
      "source": [
        "ticker = np.arange(0, epochs, 1)\n",
        "\n",
        "figure = make_subplots(rows=1, cols=2, subplot_titles=[\"learning_rate\", \"radius\"])\n",
        "figure.add_trace(go.Scatter(x=ticker, y=kohonen.maslr, name=\"learning_rate\"), col=1, row=1)\n",
        "figure.add_trace(go.Scatter(x=ticker, y=kohonen.masr, name=\"radius\"), col=2, row=1)\n",
        "\n",
        "figure.show()"
      ]
    },
    {
      "cell_type": "code",
      "execution_count": 7,
      "metadata": {
        "colab": {
          "base_uri": "https://localhost:8080/",
          "height": 320
        },
        "id": "8OXmXfPRLkAI",
        "outputId": "f2be5323-75f1-487e-cb5a-032fd65270a1"
      },
      "outputs": [
        {
          "data": {
            "application/vnd.plotly.v1+json": {
              "config": {
                "plotlyServerURL": "https://plot.ly"
              },
              "data": [
                {
                  "hovertemplate": "x=%{x}<br>y=%{y}<extra></extra>",
                  "legendgroup": "",
                  "marker": {
                    "color": "#636efa",
                    "symbol": "circle"
                  },
                  "mode": "markers",
                  "name": "",
                  "orientation": "v",
                  "showlegend": false,
                  "type": "scatter",
                  "x": [
                    90.86621959876656,
                    51.58264514195005,
                    59.655016572978006,
                    92.21313562707238,
                    36.22267906834119,
                    94.25877304970032,
                    23.451374131548707,
                    97.15541409212348,
                    66.96190744752876,
                    71.60427593952924,
                    66.61385076489029,
                    64.57692222291361,
                    45.69320898128344,
                    30.4135640008801,
                    57.18695577196271,
                    34.72854964860418,
                    3.066656023618386,
                    69.2895223379601,
                    17.45313047019539,
                    86.86541286382999,
                    60.54584434697099,
                    17.25728721829485,
                    12.95639371720545,
                    60.39340654980469,
                    12.970241451195697,
                    77.39529896185576,
                    52.18423497969502,
                    74.50795540384149,
                    53.89385242143481,
                    46.83560736698388,
                    53.370660265711855,
                    93.4852682147501,
                    81.48895645029278,
                    70.41335332910622,
                    13.968652162580886,
                    31.561411453431386,
                    44.57601217681598,
                    21.252556888928275,
                    42.79559917272822,
                    69.73961467184347,
                    31.944056547377166,
                    8.007863010377282,
                    52.10117228334838,
                    81.21941511492375,
                    97.298008952315,
                    59.18703154051478,
                    73.93542767931805,
                    14.801839285605379,
                    63.710363078629086,
                    27.306091106668507,
                    72.60050859152503,
                    11.054459591929566,
                    33.05977969073442,
                    88.01058653238913,
                    22.45269137235596,
                    32.61759631934581,
                    49.80163512105009,
                    34.63343471773888,
                    35.61278716121795,
                    84.48395398102949,
                    79.25391006711831,
                    57.12417219248478,
                    10.220517717061018,
                    3.026905632505872,
                    66.12029394590209,
                    21.01683480833878,
                    79.67307461563732,
                    52.598541340810264,
                    70.27130777806939,
                    9.455141531866573,
                    68.84611035143192,
                    23.46277589357659,
                    45.24734721639274,
                    21.877646315403553,
                    51.66707951943253,
                    47.470262038254276,
                    14.666200069858416,
                    60.27925989469799,
                    15.419710422041188,
                    82.82335956443256,
                    69.59400842366911,
                    10.062146557361906,
                    93.8030706758292,
                    94.27899658357887,
                    40.706514784613724,
                    89.49997048644708,
                    67.49875059443336,
                    55.02371899948988,
                    12.798127558937233,
                    10.996936336058361,
                    48.91933676073865,
                    21.09327768735184,
                    1.6629816733809588,
                    62.784785283113685,
                    23.028784325414787,
                    61.82896444382501,
                    70.04966963832119,
                    72.34987747500547,
                    96.11813837125665,
                    12.778227678156973
                  ],
                  "xaxis": "x",
                  "y": [
                    61.50284703218399,
                    66.09719813324011,
                    31.24260644048775,
                    0.9003269304072581,
                    40.335643704684735,
                    16.206128345699433,
                    48.39635807969598,
                    93.68398886649311,
                    60.149488023316714,
                    22.39749611622709,
                    24.008661814116707,
                    81.62342626569524,
                    5.959151780486982,
                    10.697593361059198,
                    45.082777157059795,
                    37.85462878982635,
                    3.303516115407823,
                    65.49381451961295,
                    95.14496006042168,
                    16.232677504547823,
                    75.38686702042529,
                    92.96336154027139,
                    42.84312835567776,
                    13.201031181320321,
                    91.32738336984445,
                    91.34328528802867,
                    47.02082177593373,
                    28.717615593418387,
                    71.126576555063,
                    28.551491173232733,
                    81.24930418135409,
                    75.23291238831644,
                    81.76550709207324,
                    9.669365685333942,
                    12.536331191767392,
                    65.55809756433091,
                    40.95195554177329,
                    80.00424752707742,
                    18.429909730264317,
                    77.32700656610344,
                    5.314953645410503,
                    83.39390404116835,
                    91.16690359096312,
                    88.00625780923532,
                    70.07195881429395,
                    18.375272652292807,
                    11.638923745858198,
                    57.51743272526419,
                    8.661206594323655,
                    82.64484287510291,
                    64.64679786304909,
                    56.92140402384288,
                    13.016593580893765,
                    31.929537965629617,
                    53.569661009093586,
                    66.97690184024393,
                    14.285650374921765,
                    98.56049678136361,
                    71.8181583327892,
                    18.024255297467285,
                    17.39021658103159,
                    6.053748882756393,
                    21.533819333999805,
                    44.6871649092096,
                    87.22664845857913,
                    27.54681449544392,
                    79.78527884664851,
                    49.55341106827142,
                    69.68856904579562,
                    41.3313856763207,
                    95.40309267563333,
                    8.736615164095408,
                    30.611997035519835,
                    54.132510109569054,
                    37.29134216355712,
                    45.8300854784484,
                    86.85829243797588,
                    25.404053790371016,
                    3.370577089636373,
                    6.829825219917119,
                    76.04443645388159,
                    36.65667490628497,
                    44.0176325426736,
                    52.66312359246529,
                    54.34107364002364,
                    39.58735443683351,
                    99.58644456733154,
                    83.68828687139849,
                    9.040764602858854,
                    14.949985903099217,
                    93.8602846548666,
                    53.7987338257223,
                    66.9228977519436,
                    75.43501877605216,
                    42.951557622943845,
                    89.03565714745201,
                    47.18220603985201,
                    94.89158964875534,
                    7.4839783757782445,
                    57.5139919971869
                  ],
                  "yaxis": "y"
                },
                {
                  "mode": "markers",
                  "name": "nodes",
                  "type": "scatter",
                  "x": [
                    12.699618215343559,
                    81.07544988294866,
                    17.5768303523262,
                    64.36305208599738,
                    77.81347776828059
                  ],
                  "y": [
                    17.07917638455074,
                    50.24816346044464,
                    55.82286735746083,
                    89.78032514649664,
                    14.703840583117483
                  ]
                }
              ],
              "layout": {
                "legend": {
                  "tracegroupgap": 0
                },
                "template": {
                  "data": {
                    "bar": [
                      {
                        "error_x": {
                          "color": "#2a3f5f"
                        },
                        "error_y": {
                          "color": "#2a3f5f"
                        },
                        "marker": {
                          "line": {
                            "color": "#E5ECF6",
                            "width": 0.5
                          },
                          "pattern": {
                            "fillmode": "overlay",
                            "size": 10,
                            "solidity": 0.2
                          }
                        },
                        "type": "bar"
                      }
                    ],
                    "barpolar": [
                      {
                        "marker": {
                          "line": {
                            "color": "#E5ECF6",
                            "width": 0.5
                          },
                          "pattern": {
                            "fillmode": "overlay",
                            "size": 10,
                            "solidity": 0.2
                          }
                        },
                        "type": "barpolar"
                      }
                    ],
                    "carpet": [
                      {
                        "aaxis": {
                          "endlinecolor": "#2a3f5f",
                          "gridcolor": "white",
                          "linecolor": "white",
                          "minorgridcolor": "white",
                          "startlinecolor": "#2a3f5f"
                        },
                        "baxis": {
                          "endlinecolor": "#2a3f5f",
                          "gridcolor": "white",
                          "linecolor": "white",
                          "minorgridcolor": "white",
                          "startlinecolor": "#2a3f5f"
                        },
                        "type": "carpet"
                      }
                    ],
                    "choropleth": [
                      {
                        "colorbar": {
                          "outlinewidth": 0,
                          "ticks": ""
                        },
                        "type": "choropleth"
                      }
                    ],
                    "contour": [
                      {
                        "colorbar": {
                          "outlinewidth": 0,
                          "ticks": ""
                        },
                        "colorscale": [
                          [
                            0,
                            "#0d0887"
                          ],
                          [
                            0.1111111111111111,
                            "#46039f"
                          ],
                          [
                            0.2222222222222222,
                            "#7201a8"
                          ],
                          [
                            0.3333333333333333,
                            "#9c179e"
                          ],
                          [
                            0.4444444444444444,
                            "#bd3786"
                          ],
                          [
                            0.5555555555555556,
                            "#d8576b"
                          ],
                          [
                            0.6666666666666666,
                            "#ed7953"
                          ],
                          [
                            0.7777777777777778,
                            "#fb9f3a"
                          ],
                          [
                            0.8888888888888888,
                            "#fdca26"
                          ],
                          [
                            1,
                            "#f0f921"
                          ]
                        ],
                        "type": "contour"
                      }
                    ],
                    "contourcarpet": [
                      {
                        "colorbar": {
                          "outlinewidth": 0,
                          "ticks": ""
                        },
                        "type": "contourcarpet"
                      }
                    ],
                    "heatmap": [
                      {
                        "colorbar": {
                          "outlinewidth": 0,
                          "ticks": ""
                        },
                        "colorscale": [
                          [
                            0,
                            "#0d0887"
                          ],
                          [
                            0.1111111111111111,
                            "#46039f"
                          ],
                          [
                            0.2222222222222222,
                            "#7201a8"
                          ],
                          [
                            0.3333333333333333,
                            "#9c179e"
                          ],
                          [
                            0.4444444444444444,
                            "#bd3786"
                          ],
                          [
                            0.5555555555555556,
                            "#d8576b"
                          ],
                          [
                            0.6666666666666666,
                            "#ed7953"
                          ],
                          [
                            0.7777777777777778,
                            "#fb9f3a"
                          ],
                          [
                            0.8888888888888888,
                            "#fdca26"
                          ],
                          [
                            1,
                            "#f0f921"
                          ]
                        ],
                        "type": "heatmap"
                      }
                    ],
                    "heatmapgl": [
                      {
                        "colorbar": {
                          "outlinewidth": 0,
                          "ticks": ""
                        },
                        "colorscale": [
                          [
                            0,
                            "#0d0887"
                          ],
                          [
                            0.1111111111111111,
                            "#46039f"
                          ],
                          [
                            0.2222222222222222,
                            "#7201a8"
                          ],
                          [
                            0.3333333333333333,
                            "#9c179e"
                          ],
                          [
                            0.4444444444444444,
                            "#bd3786"
                          ],
                          [
                            0.5555555555555556,
                            "#d8576b"
                          ],
                          [
                            0.6666666666666666,
                            "#ed7953"
                          ],
                          [
                            0.7777777777777778,
                            "#fb9f3a"
                          ],
                          [
                            0.8888888888888888,
                            "#fdca26"
                          ],
                          [
                            1,
                            "#f0f921"
                          ]
                        ],
                        "type": "heatmapgl"
                      }
                    ],
                    "histogram": [
                      {
                        "marker": {
                          "pattern": {
                            "fillmode": "overlay",
                            "size": 10,
                            "solidity": 0.2
                          }
                        },
                        "type": "histogram"
                      }
                    ],
                    "histogram2d": [
                      {
                        "colorbar": {
                          "outlinewidth": 0,
                          "ticks": ""
                        },
                        "colorscale": [
                          [
                            0,
                            "#0d0887"
                          ],
                          [
                            0.1111111111111111,
                            "#46039f"
                          ],
                          [
                            0.2222222222222222,
                            "#7201a8"
                          ],
                          [
                            0.3333333333333333,
                            "#9c179e"
                          ],
                          [
                            0.4444444444444444,
                            "#bd3786"
                          ],
                          [
                            0.5555555555555556,
                            "#d8576b"
                          ],
                          [
                            0.6666666666666666,
                            "#ed7953"
                          ],
                          [
                            0.7777777777777778,
                            "#fb9f3a"
                          ],
                          [
                            0.8888888888888888,
                            "#fdca26"
                          ],
                          [
                            1,
                            "#f0f921"
                          ]
                        ],
                        "type": "histogram2d"
                      }
                    ],
                    "histogram2dcontour": [
                      {
                        "colorbar": {
                          "outlinewidth": 0,
                          "ticks": ""
                        },
                        "colorscale": [
                          [
                            0,
                            "#0d0887"
                          ],
                          [
                            0.1111111111111111,
                            "#46039f"
                          ],
                          [
                            0.2222222222222222,
                            "#7201a8"
                          ],
                          [
                            0.3333333333333333,
                            "#9c179e"
                          ],
                          [
                            0.4444444444444444,
                            "#bd3786"
                          ],
                          [
                            0.5555555555555556,
                            "#d8576b"
                          ],
                          [
                            0.6666666666666666,
                            "#ed7953"
                          ],
                          [
                            0.7777777777777778,
                            "#fb9f3a"
                          ],
                          [
                            0.8888888888888888,
                            "#fdca26"
                          ],
                          [
                            1,
                            "#f0f921"
                          ]
                        ],
                        "type": "histogram2dcontour"
                      }
                    ],
                    "mesh3d": [
                      {
                        "colorbar": {
                          "outlinewidth": 0,
                          "ticks": ""
                        },
                        "type": "mesh3d"
                      }
                    ],
                    "parcoords": [
                      {
                        "line": {
                          "colorbar": {
                            "outlinewidth": 0,
                            "ticks": ""
                          }
                        },
                        "type": "parcoords"
                      }
                    ],
                    "pie": [
                      {
                        "automargin": true,
                        "type": "pie"
                      }
                    ],
                    "scatter": [
                      {
                        "fillpattern": {
                          "fillmode": "overlay",
                          "size": 10,
                          "solidity": 0.2
                        },
                        "type": "scatter"
                      }
                    ],
                    "scatter3d": [
                      {
                        "line": {
                          "colorbar": {
                            "outlinewidth": 0,
                            "ticks": ""
                          }
                        },
                        "marker": {
                          "colorbar": {
                            "outlinewidth": 0,
                            "ticks": ""
                          }
                        },
                        "type": "scatter3d"
                      }
                    ],
                    "scattercarpet": [
                      {
                        "marker": {
                          "colorbar": {
                            "outlinewidth": 0,
                            "ticks": ""
                          }
                        },
                        "type": "scattercarpet"
                      }
                    ],
                    "scattergeo": [
                      {
                        "marker": {
                          "colorbar": {
                            "outlinewidth": 0,
                            "ticks": ""
                          }
                        },
                        "type": "scattergeo"
                      }
                    ],
                    "scattergl": [
                      {
                        "marker": {
                          "colorbar": {
                            "outlinewidth": 0,
                            "ticks": ""
                          }
                        },
                        "type": "scattergl"
                      }
                    ],
                    "scattermapbox": [
                      {
                        "marker": {
                          "colorbar": {
                            "outlinewidth": 0,
                            "ticks": ""
                          }
                        },
                        "type": "scattermapbox"
                      }
                    ],
                    "scatterpolar": [
                      {
                        "marker": {
                          "colorbar": {
                            "outlinewidth": 0,
                            "ticks": ""
                          }
                        },
                        "type": "scatterpolar"
                      }
                    ],
                    "scatterpolargl": [
                      {
                        "marker": {
                          "colorbar": {
                            "outlinewidth": 0,
                            "ticks": ""
                          }
                        },
                        "type": "scatterpolargl"
                      }
                    ],
                    "scatterternary": [
                      {
                        "marker": {
                          "colorbar": {
                            "outlinewidth": 0,
                            "ticks": ""
                          }
                        },
                        "type": "scatterternary"
                      }
                    ],
                    "surface": [
                      {
                        "colorbar": {
                          "outlinewidth": 0,
                          "ticks": ""
                        },
                        "colorscale": [
                          [
                            0,
                            "#0d0887"
                          ],
                          [
                            0.1111111111111111,
                            "#46039f"
                          ],
                          [
                            0.2222222222222222,
                            "#7201a8"
                          ],
                          [
                            0.3333333333333333,
                            "#9c179e"
                          ],
                          [
                            0.4444444444444444,
                            "#bd3786"
                          ],
                          [
                            0.5555555555555556,
                            "#d8576b"
                          ],
                          [
                            0.6666666666666666,
                            "#ed7953"
                          ],
                          [
                            0.7777777777777778,
                            "#fb9f3a"
                          ],
                          [
                            0.8888888888888888,
                            "#fdca26"
                          ],
                          [
                            1,
                            "#f0f921"
                          ]
                        ],
                        "type": "surface"
                      }
                    ],
                    "table": [
                      {
                        "cells": {
                          "fill": {
                            "color": "#EBF0F8"
                          },
                          "line": {
                            "color": "white"
                          }
                        },
                        "header": {
                          "fill": {
                            "color": "#C8D4E3"
                          },
                          "line": {
                            "color": "white"
                          }
                        },
                        "type": "table"
                      }
                    ]
                  },
                  "layout": {
                    "annotationdefaults": {
                      "arrowcolor": "#2a3f5f",
                      "arrowhead": 0,
                      "arrowwidth": 1
                    },
                    "autotypenumbers": "strict",
                    "coloraxis": {
                      "colorbar": {
                        "outlinewidth": 0,
                        "ticks": ""
                      }
                    },
                    "colorscale": {
                      "diverging": [
                        [
                          0,
                          "#8e0152"
                        ],
                        [
                          0.1,
                          "#c51b7d"
                        ],
                        [
                          0.2,
                          "#de77ae"
                        ],
                        [
                          0.3,
                          "#f1b6da"
                        ],
                        [
                          0.4,
                          "#fde0ef"
                        ],
                        [
                          0.5,
                          "#f7f7f7"
                        ],
                        [
                          0.6,
                          "#e6f5d0"
                        ],
                        [
                          0.7,
                          "#b8e186"
                        ],
                        [
                          0.8,
                          "#7fbc41"
                        ],
                        [
                          0.9,
                          "#4d9221"
                        ],
                        [
                          1,
                          "#276419"
                        ]
                      ],
                      "sequential": [
                        [
                          0,
                          "#0d0887"
                        ],
                        [
                          0.1111111111111111,
                          "#46039f"
                        ],
                        [
                          0.2222222222222222,
                          "#7201a8"
                        ],
                        [
                          0.3333333333333333,
                          "#9c179e"
                        ],
                        [
                          0.4444444444444444,
                          "#bd3786"
                        ],
                        [
                          0.5555555555555556,
                          "#d8576b"
                        ],
                        [
                          0.6666666666666666,
                          "#ed7953"
                        ],
                        [
                          0.7777777777777778,
                          "#fb9f3a"
                        ],
                        [
                          0.8888888888888888,
                          "#fdca26"
                        ],
                        [
                          1,
                          "#f0f921"
                        ]
                      ],
                      "sequentialminus": [
                        [
                          0,
                          "#0d0887"
                        ],
                        [
                          0.1111111111111111,
                          "#46039f"
                        ],
                        [
                          0.2222222222222222,
                          "#7201a8"
                        ],
                        [
                          0.3333333333333333,
                          "#9c179e"
                        ],
                        [
                          0.4444444444444444,
                          "#bd3786"
                        ],
                        [
                          0.5555555555555556,
                          "#d8576b"
                        ],
                        [
                          0.6666666666666666,
                          "#ed7953"
                        ],
                        [
                          0.7777777777777778,
                          "#fb9f3a"
                        ],
                        [
                          0.8888888888888888,
                          "#fdca26"
                        ],
                        [
                          1,
                          "#f0f921"
                        ]
                      ]
                    },
                    "colorway": [
                      "#636efa",
                      "#EF553B",
                      "#00cc96",
                      "#ab63fa",
                      "#FFA15A",
                      "#19d3f3",
                      "#FF6692",
                      "#B6E880",
                      "#FF97FF",
                      "#FECB52"
                    ],
                    "font": {
                      "color": "#2a3f5f"
                    },
                    "geo": {
                      "bgcolor": "white",
                      "lakecolor": "white",
                      "landcolor": "#E5ECF6",
                      "showlakes": true,
                      "showland": true,
                      "subunitcolor": "white"
                    },
                    "hoverlabel": {
                      "align": "left"
                    },
                    "hovermode": "closest",
                    "mapbox": {
                      "style": "light"
                    },
                    "paper_bgcolor": "white",
                    "plot_bgcolor": "#E5ECF6",
                    "polar": {
                      "angularaxis": {
                        "gridcolor": "white",
                        "linecolor": "white",
                        "ticks": ""
                      },
                      "bgcolor": "#E5ECF6",
                      "radialaxis": {
                        "gridcolor": "white",
                        "linecolor": "white",
                        "ticks": ""
                      }
                    },
                    "scene": {
                      "xaxis": {
                        "backgroundcolor": "#E5ECF6",
                        "gridcolor": "white",
                        "gridwidth": 2,
                        "linecolor": "white",
                        "showbackground": true,
                        "ticks": "",
                        "zerolinecolor": "white"
                      },
                      "yaxis": {
                        "backgroundcolor": "#E5ECF6",
                        "gridcolor": "white",
                        "gridwidth": 2,
                        "linecolor": "white",
                        "showbackground": true,
                        "ticks": "",
                        "zerolinecolor": "white"
                      },
                      "zaxis": {
                        "backgroundcolor": "#E5ECF6",
                        "gridcolor": "white",
                        "gridwidth": 2,
                        "linecolor": "white",
                        "showbackground": true,
                        "ticks": "",
                        "zerolinecolor": "white"
                      }
                    },
                    "shapedefaults": {
                      "line": {
                        "color": "#2a3f5f"
                      }
                    },
                    "ternary": {
                      "aaxis": {
                        "gridcolor": "white",
                        "linecolor": "white",
                        "ticks": ""
                      },
                      "baxis": {
                        "gridcolor": "white",
                        "linecolor": "white",
                        "ticks": ""
                      },
                      "bgcolor": "#E5ECF6",
                      "caxis": {
                        "gridcolor": "white",
                        "linecolor": "white",
                        "ticks": ""
                      }
                    },
                    "title": {
                      "x": 0.05
                    },
                    "xaxis": {
                      "automargin": true,
                      "gridcolor": "white",
                      "linecolor": "white",
                      "ticks": "",
                      "title": {
                        "standoff": 15
                      },
                      "zerolinecolor": "white",
                      "zerolinewidth": 2
                    },
                    "yaxis": {
                      "automargin": true,
                      "gridcolor": "white",
                      "linecolor": "white",
                      "ticks": "",
                      "title": {
                        "standoff": 15
                      },
                      "zerolinecolor": "white",
                      "zerolinewidth": 2
                    }
                  }
                },
                "title": {
                  "text": "points"
                },
                "xaxis": {
                  "anchor": "y",
                  "domain": [
                    0,
                    1
                  ],
                  "title": {
                    "text": "x"
                  }
                },
                "yaxis": {
                  "anchor": "x",
                  "domain": [
                    0,
                    1
                  ],
                  "title": {
                    "text": "y"
                  }
                }
              }
            }
          },
          "metadata": {},
          "output_type": "display_data"
        }
      ],
      "source": [
        "figure = px.scatter(x=data[:, 0], y=data[:, 1], title=\"points\")\n",
        "figure.add_trace(go.Scatter(x=kohonen.nodes[:, 0], y=kohonen.nodes[:, 1], mode=\"markers\", name=\"nodes\"))\n",
        "\n",
        "figure.show()"
      ]
    },
    {
      "attachments": {},
      "cell_type": "markdown",
      "metadata": {},
      "source": [
        "## Кучки точек"
      ]
    },
    {
      "cell_type": "code",
      "execution_count": 8,
      "metadata": {
        "colab": {
          "base_uri": "https://localhost:8080/",
          "height": 320
        },
        "id": "hZi9879xOnCl",
        "outputId": "d8518b95-3519-4f89-c825-bc33b01bc57d"
      },
      "outputs": [
        {
          "data": {
            "application/vnd.plotly.v1+json": {
              "config": {
                "plotlyServerURL": "https://plot.ly"
              },
              "data": [
                {
                  "hovertemplate": "x=%{x}<br>y=%{y}<extra></extra>",
                  "legendgroup": "",
                  "marker": {
                    "color": "#636efa",
                    "symbol": "circle"
                  },
                  "mode": "markers",
                  "name": "",
                  "orientation": "v",
                  "showlegend": false,
                  "type": "scatter",
                  "x": [
                    -0.794152276623841,
                    -9.151551856068068,
                    -3.103673711378109,
                    -1.4294651705841361,
                    -7.469386796846703,
                    -9.195851471781756,
                    -9.317642663774997,
                    -9.204905637733754,
                    -2.760179083161441,
                    -1.1710417594110225,
                    -10.036408012919152,
                    -1.5377386349570825,
                    -10.108159530070418,
                    -2.406718199699357,
                    -7.807012774683368,
                    -9.01137731583186,
                    -9.765217944474363,
                    -2.346732606068119,
                    -2.0034135815195953,
                    -11.092624349394143,
                    -9.434951407034076,
                    -10.263931009656723,
                    -9.74891334226533,
                    -1.340520809891421,
                    -2.034844856038634,
                    -10.30782927717116,
                    -9.556348060084519,
                    -1.359389585992692,
                    -0.19745196890354544,
                    -9.477136166579731,
                    -1.9274479855745354,
                    -2.8020781039706595,
                    -10.51480696157333,
                    -1.8513954583101344,
                    -8.370061750504195,
                    -10.18428227556045,
                    -0.46064202604701254,
                    -11.370829823899857,
                    -10.178632805731251,
                    -10.134157247549135,
                    -9.717047426530462,
                    -9.647166524988995,
                    -1.9819771099620271,
                    -11.227770639320063,
                    -1.4612601858217498,
                    -9.468247179300391,
                    -0.757969185355724,
                    0.5260155005846419,
                    -2.7768702545837973,
                    -1.7824501314671677,
                    -1.8818880485588787,
                    -9.338662707552892,
                    -9.919891375740395,
                    -10.398590695442028,
                    -1.5394009534668904,
                    -9.502501179675141,
                    -2.279560749896649,
                    -8.723956573494325,
                    -1.6173461592329268,
                    -1.1466300855305107,
                    -1.4729985149602352,
                    -10.64462919190801,
                    -9.494527690217776,
                    -10.02232945952888,
                    -11.855694368099854,
                    -8.66625539106551,
                    -2.4139578469451726,
                    -11.270271258899095,
                    -1.8319881134989553,
                    -1.2360655518844066,
                    -9.5942208618623,
                    -9.257156052556827,
                    -9.395393223357473,
                    -0.8205764920740146,
                    0.00024227116135100424,
                    -1.3439249587069142,
                    -9.128826346647234,
                    -9.954043510474712,
                    -2.187731658211975,
                    -2.1066884707345177,
                    -0.5279305184970926,
                    -11.196980535988288,
                    -1.499522836500689,
                    -8.09305379531212,
                    -2.351220657673829,
                    -0.5257904636130821,
                    -1.4686444212810534,
                    -0.7587039566841077,
                    -1.9657639185768914,
                    -2.3308060367853387,
                    -8.837373933659332,
                    -1.6087521511724905,
                    -1.8684541393232976,
                    -2.3302221922375503,
                    -8.876294795417436,
                    -8.958887901793688,
                    -9.980303095353097,
                    -1.3739725806942609,
                    -9.186760830849545,
                    0.08525185826796045
                  ],
                  "xaxis": "x",
                  "y": [
                    2.104951171962879,
                    -4.812864488195191,
                    3.90202400589671,
                    5.168501049155187,
                    -4.201983325078665,
                    -3.906781248939059,
                    -4.273150146261876,
                    -4.5768792770429965,
                    5.551213578682775,
                    4.330918155822106,
                    -5.5691209020665,
                    5.535973776755081,
                    -4.570710611075565,
                    6.098944469870908,
                    -5.849709470254297,
                    -3.739814646027763,
                    -3.2707971404987193,
                    3.561284227344442,
                    4.450086725677409,
                    -3.7839661143045364,
                    -3.7126114551254723,
                    -3.920734000669846,
                    -4.249989699734067,
                    4.157119493365752,
                    3.7677594613889394,
                    -6.388186311470344,
                    -4.053503780646705,
                    4.054240022349643,
                    2.3463491593455075,
                    -5.097689936986347,
                    4.9368453355813475,
                    4.057147146430284,
                    -4.950375375013468,
                    3.5188609047583252,
                    -3.615336850788729,
                    -4.05509441989235,
                    4.591646286327105,
                    -3.6381891553209127,
                    -4.557269175156462,
                    -4.072402735138015,
                    -4.026461251110482,
                    -5.265631958600636,
                    4.022435514174746,
                    -3.402811051386989,
                    4.525498514650621,
                    -3.8156473373658186,
                    4.908984207745029,
                    3.009993533355024,
                    4.640905566660254,
                    3.4707204345840927,
                    4.205731799913164,
                    -5.580786887979462,
                    -3.3349682853646803,
                    -3.1293429289127968,
                    5.023692978550581,
                    -4.128051707105706,
                    5.104521902915381,
                    -1.98624679810847,
                    4.9893050825589835,
                    4.108397033740446,
                    4.816541516051418,
                    -3.0518616557144935,
                    -2.6601226648309426,
                    -4.728510166532364,
                    -2.7171845169103843,
                    -4.2406564108392235,
                    5.659358024076449,
                    -3.6398008268997724,
                    3.5286314509217895,
                    4.483829937191721,
                    -3.3597700241261377,
                    -4.907049149171139,
                    -3.533066343716145,
                    5.337591950146718,
                    5.148534029420497,
                    2.3842886530191585,
                    -3.2029369074981964,
                    -4.17966278987681,
                    3.333521246686991,
                    5.63099757364866,
                    5.92630668526536,
                    -3.090003229819183,
                    5.282658789959386,
                    -2.8422918488027,
                    4.0097363419871845,
                    3.3065986015291307,
                    6.506745005322004,
                    3.7227620096688283,
                    5.234464511450407,
                    4.39382526992426,
                    -3.583855830987481,
                    3.769494222273808,
                    4.993113060025359,
                    4.784053655164081,
                    -3.544448009426377,
                    -1.766368900388947,
                    -5.075367276110093,
                    5.291631033113889,
                    -2.9089064526559456,
                    3.6452829679480585
                  ],
                  "yaxis": "y"
                },
                {
                  "mode": "markers",
                  "name": "nodes",
                  "type": "scatter",
                  "x": [
                    2.6500335042530923,
                    2.251943628448606,
                    7.064922860355544,
                    7.443246079382725,
                    0.7161022716799781
                  ],
                  "y": [
                    2.6500335042530923,
                    2.251943628448606,
                    7.064922860355544,
                    7.443246079382725,
                    0.7161022716799781
                  ]
                }
              ],
              "layout": {
                "legend": {
                  "tracegroupgap": 0
                },
                "template": {
                  "data": {
                    "bar": [
                      {
                        "error_x": {
                          "color": "#2a3f5f"
                        },
                        "error_y": {
                          "color": "#2a3f5f"
                        },
                        "marker": {
                          "line": {
                            "color": "#E5ECF6",
                            "width": 0.5
                          },
                          "pattern": {
                            "fillmode": "overlay",
                            "size": 10,
                            "solidity": 0.2
                          }
                        },
                        "type": "bar"
                      }
                    ],
                    "barpolar": [
                      {
                        "marker": {
                          "line": {
                            "color": "#E5ECF6",
                            "width": 0.5
                          },
                          "pattern": {
                            "fillmode": "overlay",
                            "size": 10,
                            "solidity": 0.2
                          }
                        },
                        "type": "barpolar"
                      }
                    ],
                    "carpet": [
                      {
                        "aaxis": {
                          "endlinecolor": "#2a3f5f",
                          "gridcolor": "white",
                          "linecolor": "white",
                          "minorgridcolor": "white",
                          "startlinecolor": "#2a3f5f"
                        },
                        "baxis": {
                          "endlinecolor": "#2a3f5f",
                          "gridcolor": "white",
                          "linecolor": "white",
                          "minorgridcolor": "white",
                          "startlinecolor": "#2a3f5f"
                        },
                        "type": "carpet"
                      }
                    ],
                    "choropleth": [
                      {
                        "colorbar": {
                          "outlinewidth": 0,
                          "ticks": ""
                        },
                        "type": "choropleth"
                      }
                    ],
                    "contour": [
                      {
                        "colorbar": {
                          "outlinewidth": 0,
                          "ticks": ""
                        },
                        "colorscale": [
                          [
                            0,
                            "#0d0887"
                          ],
                          [
                            0.1111111111111111,
                            "#46039f"
                          ],
                          [
                            0.2222222222222222,
                            "#7201a8"
                          ],
                          [
                            0.3333333333333333,
                            "#9c179e"
                          ],
                          [
                            0.4444444444444444,
                            "#bd3786"
                          ],
                          [
                            0.5555555555555556,
                            "#d8576b"
                          ],
                          [
                            0.6666666666666666,
                            "#ed7953"
                          ],
                          [
                            0.7777777777777778,
                            "#fb9f3a"
                          ],
                          [
                            0.8888888888888888,
                            "#fdca26"
                          ],
                          [
                            1,
                            "#f0f921"
                          ]
                        ],
                        "type": "contour"
                      }
                    ],
                    "contourcarpet": [
                      {
                        "colorbar": {
                          "outlinewidth": 0,
                          "ticks": ""
                        },
                        "type": "contourcarpet"
                      }
                    ],
                    "heatmap": [
                      {
                        "colorbar": {
                          "outlinewidth": 0,
                          "ticks": ""
                        },
                        "colorscale": [
                          [
                            0,
                            "#0d0887"
                          ],
                          [
                            0.1111111111111111,
                            "#46039f"
                          ],
                          [
                            0.2222222222222222,
                            "#7201a8"
                          ],
                          [
                            0.3333333333333333,
                            "#9c179e"
                          ],
                          [
                            0.4444444444444444,
                            "#bd3786"
                          ],
                          [
                            0.5555555555555556,
                            "#d8576b"
                          ],
                          [
                            0.6666666666666666,
                            "#ed7953"
                          ],
                          [
                            0.7777777777777778,
                            "#fb9f3a"
                          ],
                          [
                            0.8888888888888888,
                            "#fdca26"
                          ],
                          [
                            1,
                            "#f0f921"
                          ]
                        ],
                        "type": "heatmap"
                      }
                    ],
                    "heatmapgl": [
                      {
                        "colorbar": {
                          "outlinewidth": 0,
                          "ticks": ""
                        },
                        "colorscale": [
                          [
                            0,
                            "#0d0887"
                          ],
                          [
                            0.1111111111111111,
                            "#46039f"
                          ],
                          [
                            0.2222222222222222,
                            "#7201a8"
                          ],
                          [
                            0.3333333333333333,
                            "#9c179e"
                          ],
                          [
                            0.4444444444444444,
                            "#bd3786"
                          ],
                          [
                            0.5555555555555556,
                            "#d8576b"
                          ],
                          [
                            0.6666666666666666,
                            "#ed7953"
                          ],
                          [
                            0.7777777777777778,
                            "#fb9f3a"
                          ],
                          [
                            0.8888888888888888,
                            "#fdca26"
                          ],
                          [
                            1,
                            "#f0f921"
                          ]
                        ],
                        "type": "heatmapgl"
                      }
                    ],
                    "histogram": [
                      {
                        "marker": {
                          "pattern": {
                            "fillmode": "overlay",
                            "size": 10,
                            "solidity": 0.2
                          }
                        },
                        "type": "histogram"
                      }
                    ],
                    "histogram2d": [
                      {
                        "colorbar": {
                          "outlinewidth": 0,
                          "ticks": ""
                        },
                        "colorscale": [
                          [
                            0,
                            "#0d0887"
                          ],
                          [
                            0.1111111111111111,
                            "#46039f"
                          ],
                          [
                            0.2222222222222222,
                            "#7201a8"
                          ],
                          [
                            0.3333333333333333,
                            "#9c179e"
                          ],
                          [
                            0.4444444444444444,
                            "#bd3786"
                          ],
                          [
                            0.5555555555555556,
                            "#d8576b"
                          ],
                          [
                            0.6666666666666666,
                            "#ed7953"
                          ],
                          [
                            0.7777777777777778,
                            "#fb9f3a"
                          ],
                          [
                            0.8888888888888888,
                            "#fdca26"
                          ],
                          [
                            1,
                            "#f0f921"
                          ]
                        ],
                        "type": "histogram2d"
                      }
                    ],
                    "histogram2dcontour": [
                      {
                        "colorbar": {
                          "outlinewidth": 0,
                          "ticks": ""
                        },
                        "colorscale": [
                          [
                            0,
                            "#0d0887"
                          ],
                          [
                            0.1111111111111111,
                            "#46039f"
                          ],
                          [
                            0.2222222222222222,
                            "#7201a8"
                          ],
                          [
                            0.3333333333333333,
                            "#9c179e"
                          ],
                          [
                            0.4444444444444444,
                            "#bd3786"
                          ],
                          [
                            0.5555555555555556,
                            "#d8576b"
                          ],
                          [
                            0.6666666666666666,
                            "#ed7953"
                          ],
                          [
                            0.7777777777777778,
                            "#fb9f3a"
                          ],
                          [
                            0.8888888888888888,
                            "#fdca26"
                          ],
                          [
                            1,
                            "#f0f921"
                          ]
                        ],
                        "type": "histogram2dcontour"
                      }
                    ],
                    "mesh3d": [
                      {
                        "colorbar": {
                          "outlinewidth": 0,
                          "ticks": ""
                        },
                        "type": "mesh3d"
                      }
                    ],
                    "parcoords": [
                      {
                        "line": {
                          "colorbar": {
                            "outlinewidth": 0,
                            "ticks": ""
                          }
                        },
                        "type": "parcoords"
                      }
                    ],
                    "pie": [
                      {
                        "automargin": true,
                        "type": "pie"
                      }
                    ],
                    "scatter": [
                      {
                        "fillpattern": {
                          "fillmode": "overlay",
                          "size": 10,
                          "solidity": 0.2
                        },
                        "type": "scatter"
                      }
                    ],
                    "scatter3d": [
                      {
                        "line": {
                          "colorbar": {
                            "outlinewidth": 0,
                            "ticks": ""
                          }
                        },
                        "marker": {
                          "colorbar": {
                            "outlinewidth": 0,
                            "ticks": ""
                          }
                        },
                        "type": "scatter3d"
                      }
                    ],
                    "scattercarpet": [
                      {
                        "marker": {
                          "colorbar": {
                            "outlinewidth": 0,
                            "ticks": ""
                          }
                        },
                        "type": "scattercarpet"
                      }
                    ],
                    "scattergeo": [
                      {
                        "marker": {
                          "colorbar": {
                            "outlinewidth": 0,
                            "ticks": ""
                          }
                        },
                        "type": "scattergeo"
                      }
                    ],
                    "scattergl": [
                      {
                        "marker": {
                          "colorbar": {
                            "outlinewidth": 0,
                            "ticks": ""
                          }
                        },
                        "type": "scattergl"
                      }
                    ],
                    "scattermapbox": [
                      {
                        "marker": {
                          "colorbar": {
                            "outlinewidth": 0,
                            "ticks": ""
                          }
                        },
                        "type": "scattermapbox"
                      }
                    ],
                    "scatterpolar": [
                      {
                        "marker": {
                          "colorbar": {
                            "outlinewidth": 0,
                            "ticks": ""
                          }
                        },
                        "type": "scatterpolar"
                      }
                    ],
                    "scatterpolargl": [
                      {
                        "marker": {
                          "colorbar": {
                            "outlinewidth": 0,
                            "ticks": ""
                          }
                        },
                        "type": "scatterpolargl"
                      }
                    ],
                    "scatterternary": [
                      {
                        "marker": {
                          "colorbar": {
                            "outlinewidth": 0,
                            "ticks": ""
                          }
                        },
                        "type": "scatterternary"
                      }
                    ],
                    "surface": [
                      {
                        "colorbar": {
                          "outlinewidth": 0,
                          "ticks": ""
                        },
                        "colorscale": [
                          [
                            0,
                            "#0d0887"
                          ],
                          [
                            0.1111111111111111,
                            "#46039f"
                          ],
                          [
                            0.2222222222222222,
                            "#7201a8"
                          ],
                          [
                            0.3333333333333333,
                            "#9c179e"
                          ],
                          [
                            0.4444444444444444,
                            "#bd3786"
                          ],
                          [
                            0.5555555555555556,
                            "#d8576b"
                          ],
                          [
                            0.6666666666666666,
                            "#ed7953"
                          ],
                          [
                            0.7777777777777778,
                            "#fb9f3a"
                          ],
                          [
                            0.8888888888888888,
                            "#fdca26"
                          ],
                          [
                            1,
                            "#f0f921"
                          ]
                        ],
                        "type": "surface"
                      }
                    ],
                    "table": [
                      {
                        "cells": {
                          "fill": {
                            "color": "#EBF0F8"
                          },
                          "line": {
                            "color": "white"
                          }
                        },
                        "header": {
                          "fill": {
                            "color": "#C8D4E3"
                          },
                          "line": {
                            "color": "white"
                          }
                        },
                        "type": "table"
                      }
                    ]
                  },
                  "layout": {
                    "annotationdefaults": {
                      "arrowcolor": "#2a3f5f",
                      "arrowhead": 0,
                      "arrowwidth": 1
                    },
                    "autotypenumbers": "strict",
                    "coloraxis": {
                      "colorbar": {
                        "outlinewidth": 0,
                        "ticks": ""
                      }
                    },
                    "colorscale": {
                      "diverging": [
                        [
                          0,
                          "#8e0152"
                        ],
                        [
                          0.1,
                          "#c51b7d"
                        ],
                        [
                          0.2,
                          "#de77ae"
                        ],
                        [
                          0.3,
                          "#f1b6da"
                        ],
                        [
                          0.4,
                          "#fde0ef"
                        ],
                        [
                          0.5,
                          "#f7f7f7"
                        ],
                        [
                          0.6,
                          "#e6f5d0"
                        ],
                        [
                          0.7,
                          "#b8e186"
                        ],
                        [
                          0.8,
                          "#7fbc41"
                        ],
                        [
                          0.9,
                          "#4d9221"
                        ],
                        [
                          1,
                          "#276419"
                        ]
                      ],
                      "sequential": [
                        [
                          0,
                          "#0d0887"
                        ],
                        [
                          0.1111111111111111,
                          "#46039f"
                        ],
                        [
                          0.2222222222222222,
                          "#7201a8"
                        ],
                        [
                          0.3333333333333333,
                          "#9c179e"
                        ],
                        [
                          0.4444444444444444,
                          "#bd3786"
                        ],
                        [
                          0.5555555555555556,
                          "#d8576b"
                        ],
                        [
                          0.6666666666666666,
                          "#ed7953"
                        ],
                        [
                          0.7777777777777778,
                          "#fb9f3a"
                        ],
                        [
                          0.8888888888888888,
                          "#fdca26"
                        ],
                        [
                          1,
                          "#f0f921"
                        ]
                      ],
                      "sequentialminus": [
                        [
                          0,
                          "#0d0887"
                        ],
                        [
                          0.1111111111111111,
                          "#46039f"
                        ],
                        [
                          0.2222222222222222,
                          "#7201a8"
                        ],
                        [
                          0.3333333333333333,
                          "#9c179e"
                        ],
                        [
                          0.4444444444444444,
                          "#bd3786"
                        ],
                        [
                          0.5555555555555556,
                          "#d8576b"
                        ],
                        [
                          0.6666666666666666,
                          "#ed7953"
                        ],
                        [
                          0.7777777777777778,
                          "#fb9f3a"
                        ],
                        [
                          0.8888888888888888,
                          "#fdca26"
                        ],
                        [
                          1,
                          "#f0f921"
                        ]
                      ]
                    },
                    "colorway": [
                      "#636efa",
                      "#EF553B",
                      "#00cc96",
                      "#ab63fa",
                      "#FFA15A",
                      "#19d3f3",
                      "#FF6692",
                      "#B6E880",
                      "#FF97FF",
                      "#FECB52"
                    ],
                    "font": {
                      "color": "#2a3f5f"
                    },
                    "geo": {
                      "bgcolor": "white",
                      "lakecolor": "white",
                      "landcolor": "#E5ECF6",
                      "showlakes": true,
                      "showland": true,
                      "subunitcolor": "white"
                    },
                    "hoverlabel": {
                      "align": "left"
                    },
                    "hovermode": "closest",
                    "mapbox": {
                      "style": "light"
                    },
                    "paper_bgcolor": "white",
                    "plot_bgcolor": "#E5ECF6",
                    "polar": {
                      "angularaxis": {
                        "gridcolor": "white",
                        "linecolor": "white",
                        "ticks": ""
                      },
                      "bgcolor": "#E5ECF6",
                      "radialaxis": {
                        "gridcolor": "white",
                        "linecolor": "white",
                        "ticks": ""
                      }
                    },
                    "scene": {
                      "xaxis": {
                        "backgroundcolor": "#E5ECF6",
                        "gridcolor": "white",
                        "gridwidth": 2,
                        "linecolor": "white",
                        "showbackground": true,
                        "ticks": "",
                        "zerolinecolor": "white"
                      },
                      "yaxis": {
                        "backgroundcolor": "#E5ECF6",
                        "gridcolor": "white",
                        "gridwidth": 2,
                        "linecolor": "white",
                        "showbackground": true,
                        "ticks": "",
                        "zerolinecolor": "white"
                      },
                      "zaxis": {
                        "backgroundcolor": "#E5ECF6",
                        "gridcolor": "white",
                        "gridwidth": 2,
                        "linecolor": "white",
                        "showbackground": true,
                        "ticks": "",
                        "zerolinecolor": "white"
                      }
                    },
                    "shapedefaults": {
                      "line": {
                        "color": "#2a3f5f"
                      }
                    },
                    "ternary": {
                      "aaxis": {
                        "gridcolor": "white",
                        "linecolor": "white",
                        "ticks": ""
                      },
                      "baxis": {
                        "gridcolor": "white",
                        "linecolor": "white",
                        "ticks": ""
                      },
                      "bgcolor": "#E5ECF6",
                      "caxis": {
                        "gridcolor": "white",
                        "linecolor": "white",
                        "ticks": ""
                      }
                    },
                    "title": {
                      "x": 0.05
                    },
                    "xaxis": {
                      "automargin": true,
                      "gridcolor": "white",
                      "linecolor": "white",
                      "ticks": "",
                      "title": {
                        "standoff": 15
                      },
                      "zerolinecolor": "white",
                      "zerolinewidth": 2
                    },
                    "yaxis": {
                      "automargin": true,
                      "gridcolor": "white",
                      "linecolor": "white",
                      "ticks": "",
                      "title": {
                        "standoff": 15
                      },
                      "zerolinecolor": "white",
                      "zerolinewidth": 2
                    }
                  }
                },
                "title": {
                  "text": "points"
                },
                "xaxis": {
                  "anchor": "y",
                  "domain": [
                    0,
                    1
                  ],
                  "title": {
                    "text": "x"
                  }
                },
                "yaxis": {
                  "anchor": "x",
                  "domain": [
                    0,
                    1
                  ],
                  "title": {
                    "text": "y"
                  }
                }
              }
            }
          },
          "metadata": {},
          "output_type": "display_data"
        },
        {
          "data": {
            "text/plain": [
              "<Figure size 1000x500 with 0 Axes>"
            ]
          },
          "metadata": {},
          "output_type": "display_data"
        }
      ],
      "source": [
        "from sklearn.datasets import make_blobs\n",
        "\n",
        "data_blobs, y = make_blobs(n_samples = 100, centers = 2, n_features = 2, random_state = 1)\n",
        "\n",
        "\n",
        "nodes_blobs = np.array([[random.random()*10, 0] for _ in range(5)], dtype = float)\n",
        "\n",
        "figure = plt.figure(figsize = (10, 5))\n",
        "\n",
        "figure = px.scatter(x=data_blobs[:, 0], y=data_blobs[:, 1], title=\"points\")\n",
        "figure.add_trace(go.Scatter(x=nodes_blobs[:, 0], y=nodes_blobs[:, 0], mode=\"markers\", name=\"nodes\"))\n",
        "\n",
        "figure.show()"
      ]
    },
    {
      "cell_type": "code",
      "execution_count": 9,
      "metadata": {
        "id": "R2Z5qkd9XmkJ"
      },
      "outputs": [],
      "source": [
        "kohonen = Kohonen(dim = 2, nodes_count = 5, lr = 1.5, nodes = nodes_blobs)\n",
        "kohonen.fit(data_blobs, epochs)"
      ]
    },
    {
      "cell_type": "code",
      "execution_count": 10,
      "metadata": {
        "colab": {
          "base_uri": "https://localhost:8080/",
          "height": 607
        },
        "id": "DJjIIH9rXosd",
        "outputId": "4c0d38a4-ec8c-4d78-e250-8aa4e4cd9b89"
      },
      "outputs": [
        {
          "data": {
            "application/vnd.plotly.v1+json": {
              "config": {
                "plotlyServerURL": "https://plot.ly"
              },
              "data": [
                {
                  "name": "learning_rate",
                  "type": "scatter",
                  "x": [
                    0,
                    1,
                    2,
                    3,
                    4,
                    5,
                    6,
                    7,
                    8,
                    9,
                    10,
                    11,
                    12,
                    13,
                    14,
                    15,
                    16,
                    17,
                    18,
                    19,
                    20,
                    21,
                    22,
                    23,
                    24,
                    25,
                    26,
                    27,
                    28,
                    29,
                    30,
                    31,
                    32,
                    33,
                    34,
                    35,
                    36,
                    37,
                    38,
                    39,
                    40,
                    41,
                    42,
                    43,
                    44,
                    45,
                    46,
                    47,
                    48,
                    49,
                    50,
                    51,
                    52,
                    53,
                    54,
                    55,
                    56,
                    57,
                    58,
                    59,
                    60,
                    61,
                    62,
                    63,
                    64,
                    65,
                    66,
                    67,
                    68,
                    69,
                    70,
                    71,
                    72,
                    73,
                    74,
                    75,
                    76,
                    77,
                    78,
                    79,
                    80,
                    81,
                    82,
                    83,
                    84,
                    85,
                    86,
                    87,
                    88,
                    89,
                    90,
                    91,
                    92,
                    93,
                    94,
                    95,
                    96,
                    97,
                    98,
                    99,
                    100,
                    101,
                    102,
                    103,
                    104,
                    105,
                    106,
                    107,
                    108,
                    109,
                    110,
                    111,
                    112,
                    113,
                    114,
                    115,
                    116,
                    117,
                    118,
                    119,
                    120,
                    121,
                    122,
                    123,
                    124,
                    125,
                    126,
                    127,
                    128,
                    129,
                    130,
                    131,
                    132,
                    133,
                    134,
                    135,
                    136,
                    137,
                    138,
                    139,
                    140,
                    141,
                    142,
                    143,
                    144,
                    145,
                    146,
                    147,
                    148,
                    149,
                    150,
                    151,
                    152,
                    153,
                    154,
                    155,
                    156,
                    157,
                    158,
                    159,
                    160,
                    161,
                    162,
                    163,
                    164,
                    165,
                    166,
                    167,
                    168,
                    169,
                    170,
                    171,
                    172,
                    173,
                    174,
                    175,
                    176,
                    177,
                    178,
                    179,
                    180,
                    181,
                    182,
                    183,
                    184,
                    185,
                    186,
                    187,
                    188,
                    189,
                    190,
                    191,
                    192,
                    193,
                    194,
                    195,
                    196,
                    197,
                    198,
                    199,
                    200,
                    201,
                    202,
                    203,
                    204,
                    205,
                    206,
                    207,
                    208,
                    209,
                    210,
                    211,
                    212,
                    213,
                    214,
                    215,
                    216,
                    217,
                    218,
                    219,
                    220,
                    221,
                    222,
                    223,
                    224,
                    225,
                    226,
                    227,
                    228,
                    229,
                    230,
                    231,
                    232,
                    233,
                    234,
                    235,
                    236,
                    237,
                    238,
                    239,
                    240,
                    241,
                    242,
                    243,
                    244,
                    245,
                    246,
                    247,
                    248,
                    249,
                    250,
                    251,
                    252,
                    253,
                    254,
                    255,
                    256,
                    257,
                    258,
                    259,
                    260,
                    261,
                    262,
                    263,
                    264,
                    265,
                    266,
                    267,
                    268,
                    269,
                    270,
                    271,
                    272,
                    273,
                    274,
                    275,
                    276,
                    277,
                    278,
                    279,
                    280,
                    281,
                    282,
                    283,
                    284,
                    285,
                    286,
                    287,
                    288,
                    289,
                    290,
                    291,
                    292,
                    293,
                    294,
                    295,
                    296,
                    297,
                    298,
                    299,
                    300,
                    301,
                    302,
                    303,
                    304,
                    305,
                    306,
                    307,
                    308,
                    309,
                    310,
                    311,
                    312,
                    313,
                    314,
                    315,
                    316,
                    317,
                    318,
                    319,
                    320,
                    321,
                    322,
                    323,
                    324,
                    325,
                    326,
                    327,
                    328,
                    329,
                    330,
                    331,
                    332,
                    333,
                    334,
                    335,
                    336,
                    337,
                    338,
                    339,
                    340,
                    341,
                    342,
                    343,
                    344,
                    345,
                    346,
                    347,
                    348,
                    349,
                    350,
                    351,
                    352,
                    353,
                    354,
                    355,
                    356,
                    357,
                    358,
                    359,
                    360,
                    361,
                    362,
                    363,
                    364,
                    365,
                    366,
                    367,
                    368,
                    369,
                    370,
                    371,
                    372,
                    373,
                    374,
                    375,
                    376,
                    377,
                    378,
                    379,
                    380,
                    381,
                    382,
                    383,
                    384,
                    385,
                    386,
                    387,
                    388,
                    389,
                    390,
                    391,
                    392,
                    393,
                    394,
                    395,
                    396,
                    397,
                    398,
                    399,
                    400,
                    401,
                    402,
                    403,
                    404,
                    405,
                    406,
                    407,
                    408,
                    409,
                    410,
                    411,
                    412,
                    413,
                    414,
                    415,
                    416,
                    417,
                    418,
                    419,
                    420,
                    421,
                    422,
                    423,
                    424,
                    425,
                    426,
                    427,
                    428,
                    429,
                    430,
                    431,
                    432,
                    433,
                    434,
                    435,
                    436,
                    437,
                    438,
                    439,
                    440,
                    441,
                    442,
                    443,
                    444,
                    445,
                    446,
                    447,
                    448,
                    449,
                    450,
                    451,
                    452,
                    453,
                    454,
                    455,
                    456,
                    457,
                    458,
                    459,
                    460,
                    461,
                    462,
                    463,
                    464,
                    465,
                    466,
                    467,
                    468,
                    469,
                    470,
                    471,
                    472,
                    473,
                    474,
                    475,
                    476,
                    477,
                    478,
                    479,
                    480,
                    481,
                    482,
                    483,
                    484,
                    485,
                    486,
                    487,
                    488,
                    489,
                    490,
                    491,
                    492,
                    493,
                    494,
                    495,
                    496,
                    497,
                    498,
                    499,
                    500,
                    501,
                    502,
                    503,
                    504,
                    505,
                    506,
                    507,
                    508,
                    509,
                    510,
                    511,
                    512,
                    513,
                    514,
                    515,
                    516,
                    517,
                    518,
                    519,
                    520,
                    521,
                    522,
                    523,
                    524,
                    525,
                    526,
                    527,
                    528,
                    529,
                    530,
                    531,
                    532,
                    533,
                    534,
                    535,
                    536,
                    537,
                    538,
                    539,
                    540,
                    541,
                    542,
                    543,
                    544,
                    545,
                    546,
                    547,
                    548,
                    549,
                    550,
                    551,
                    552,
                    553,
                    554,
                    555,
                    556,
                    557,
                    558,
                    559,
                    560,
                    561,
                    562,
                    563,
                    564,
                    565,
                    566,
                    567,
                    568,
                    569,
                    570,
                    571,
                    572,
                    573,
                    574,
                    575,
                    576,
                    577,
                    578,
                    579,
                    580,
                    581,
                    582,
                    583,
                    584,
                    585,
                    586,
                    587,
                    588,
                    589,
                    590,
                    591,
                    592,
                    593,
                    594,
                    595,
                    596,
                    597,
                    598,
                    599,
                    600,
                    601,
                    602,
                    603,
                    604,
                    605,
                    606,
                    607,
                    608,
                    609,
                    610,
                    611,
                    612,
                    613,
                    614,
                    615,
                    616,
                    617,
                    618,
                    619,
                    620,
                    621,
                    622,
                    623,
                    624,
                    625,
                    626,
                    627,
                    628,
                    629,
                    630,
                    631,
                    632,
                    633,
                    634,
                    635,
                    636,
                    637,
                    638,
                    639,
                    640,
                    641,
                    642,
                    643,
                    644,
                    645,
                    646,
                    647,
                    648,
                    649,
                    650,
                    651,
                    652,
                    653,
                    654,
                    655,
                    656,
                    657,
                    658,
                    659,
                    660,
                    661,
                    662,
                    663,
                    664,
                    665,
                    666,
                    667,
                    668,
                    669,
                    670,
                    671,
                    672,
                    673,
                    674,
                    675,
                    676,
                    677,
                    678,
                    679,
                    680,
                    681,
                    682,
                    683,
                    684,
                    685,
                    686,
                    687,
                    688,
                    689,
                    690,
                    691,
                    692,
                    693,
                    694,
                    695,
                    696,
                    697,
                    698,
                    699,
                    700,
                    701,
                    702,
                    703,
                    704,
                    705,
                    706,
                    707,
                    708,
                    709,
                    710,
                    711,
                    712,
                    713,
                    714,
                    715,
                    716,
                    717,
                    718,
                    719,
                    720,
                    721,
                    722,
                    723,
                    724,
                    725,
                    726,
                    727,
                    728,
                    729,
                    730,
                    731,
                    732,
                    733,
                    734,
                    735,
                    736,
                    737,
                    738,
                    739,
                    740,
                    741,
                    742,
                    743,
                    744,
                    745,
                    746,
                    747,
                    748,
                    749,
                    750,
                    751,
                    752,
                    753,
                    754,
                    755,
                    756,
                    757,
                    758,
                    759,
                    760,
                    761,
                    762,
                    763,
                    764,
                    765,
                    766,
                    767,
                    768,
                    769,
                    770,
                    771,
                    772,
                    773,
                    774,
                    775,
                    776,
                    777,
                    778,
                    779,
                    780,
                    781,
                    782,
                    783,
                    784,
                    785,
                    786,
                    787,
                    788,
                    789,
                    790,
                    791,
                    792,
                    793,
                    794,
                    795,
                    796,
                    797,
                    798,
                    799,
                    800,
                    801,
                    802,
                    803,
                    804,
                    805,
                    806,
                    807,
                    808,
                    809,
                    810,
                    811,
                    812,
                    813,
                    814,
                    815,
                    816,
                    817,
                    818,
                    819,
                    820,
                    821,
                    822,
                    823,
                    824,
                    825,
                    826,
                    827,
                    828,
                    829,
                    830,
                    831,
                    832,
                    833,
                    834,
                    835,
                    836,
                    837,
                    838,
                    839,
                    840,
                    841,
                    842,
                    843,
                    844,
                    845,
                    846,
                    847,
                    848,
                    849,
                    850,
                    851,
                    852,
                    853,
                    854,
                    855,
                    856,
                    857,
                    858,
                    859,
                    860,
                    861,
                    862,
                    863,
                    864,
                    865,
                    866,
                    867,
                    868,
                    869,
                    870,
                    871,
                    872,
                    873,
                    874,
                    875,
                    876,
                    877,
                    878,
                    879,
                    880,
                    881,
                    882,
                    883,
                    884,
                    885,
                    886,
                    887,
                    888,
                    889,
                    890,
                    891,
                    892,
                    893,
                    894,
                    895,
                    896,
                    897,
                    898,
                    899,
                    900,
                    901,
                    902,
                    903,
                    904,
                    905,
                    906,
                    907,
                    908,
                    909,
                    910,
                    911,
                    912,
                    913,
                    914,
                    915,
                    916,
                    917,
                    918,
                    919,
                    920,
                    921,
                    922,
                    923,
                    924,
                    925,
                    926,
                    927,
                    928,
                    929,
                    930,
                    931,
                    932,
                    933,
                    934,
                    935,
                    936,
                    937,
                    938,
                    939,
                    940,
                    941,
                    942,
                    943,
                    944,
                    945,
                    946,
                    947,
                    948,
                    949,
                    950,
                    951,
                    952,
                    953,
                    954,
                    955,
                    956,
                    957,
                    958,
                    959,
                    960,
                    961,
                    962,
                    963,
                    964,
                    965,
                    966,
                    967,
                    968,
                    969,
                    970,
                    971,
                    972,
                    973,
                    974,
                    975,
                    976,
                    977,
                    978,
                    979,
                    980,
                    981,
                    982,
                    983,
                    984,
                    985,
                    986,
                    987,
                    988,
                    989,
                    990,
                    991,
                    992,
                    993,
                    994,
                    995,
                    996,
                    997,
                    998,
                    999
                  ],
                  "xaxis": "x",
                  "y": [
                    1.5,
                    1.4985007497500624,
                    1.4970029980009996,
                    1.4955067432550595,
                    1.4940119840159873,
                    1.4925187187890234,
                    1.491026946080903,
                    1.4895366643998527,
                    1.488047872255591,
                    1.4865605681593255,
                    1.485074750623752,
                    1.483590418163053,
                    1.4821075692928958,
                    1.4806262025304313,
                    1.4791463163942928,
                    1.477667909404594,
                    1.4761909800829276,
                    1.4747155269523644,
                    1.4732415485374513,
                    1.471769043364209,
                    1.4702980099601328,
                    1.4688284468541895,
                    1.467360352576815,
                    1.4658937256599156,
                    1.464428564636864,
                    1.462964868042499,
                    1.4615026344131241,
                    1.4600418622865052,
                    1.4585825502018703,
                    1.4571246966999072,
                    1.4556683003227622,
                    1.454213359614039,
                    1.4527598731187963,
                    1.451307839383548,
                    1.44985725695626,
                    1.4484081243863498,
                    1.4469604402246845,
                    1.4455142030235804,
                    1.4440694113367993,
                    1.44262606371955,
                    1.4411841587284848,
                    1.4397436949216984,
                    1.4383046708587268,
                    1.436867085100546,
                    1.43543093620957,
                    1.4339962227496499,
                    1.432562943286072,
                    1.4311310963855566,
                    1.429700680616257,
                    1.4282716945477574,
                    1.426844136751071,
                    1.4254180057986405,
                    1.4239933002643343,
                    1.4225700187234473,
                    1.4211481597526974,
                    1.4197277219302258,
                    1.4183087038355944,
                    1.416891104049785,
                    1.4154749211551978,
                    1.4140601537356496,
                    1.412646800376373,
                    1.4112348596640145,
                    1.4098243301866333,
                    1.4084152105336998,
                    1.4070074992960941,
                    1.4056011950661051,
                    1.4041962964374282,
                    1.4027928020051648,
                    1.4013907103658203,
                    1.399990020117303,
                    1.3985907298589224,
                    1.3971928381913883,
                    1.3957963437168086,
                    1.3944012450386891,
                    1.393007540761931,
                    1.3916152294928292,
                    1.3902243098390734,
                    1.388834780409743,
                    1.387446639815309,
                    1.3860598866676301,
                    1.3846745195799537,
                    1.383290537166912,
                    1.381907938044523,
                    1.380526720830187,
                    1.379146884142687,
                    1.3777684266021861,
                    1.3763913468302267,
                    1.3750156434497285,
                    1.3736413150849884,
                    1.3722683603616779,
                    1.3708967779068422,
                    1.3695265663488987,
                    1.3681577243176355,
                    1.3667902504442109,
                    1.3654241433611505,
                    1.364059401702347,
                    1.3626960241030592,
                    1.361334009199909,
                    1.3599733556308813,
                    1.3586140620353229,
                    1.3572561270539394,
                    1.3558995493287962,
                    1.354544327503315,
                    1.3531904602222746,
                    1.3518379461318073,
                    1.3504867838793984,
                    1.349136972113886,
                    1.3477885094854583,
                    1.3464413946456524,
                    1.3450956262473532,
                    1.3437512029447922,
                    1.3424081233935465,
                    1.3410663862505359,
                    1.3397259901740233,
                    1.3383869338236125,
                    1.337049215860247,
                    1.335712834946209,
                    1.334377789745117,
                    1.333044078921926,
                    1.3317117011429251,
                    1.3303806550757362,
                    1.3290509393893133,
                    1.3277225527539407,
                    1.3263954938412312,
                    1.3250697613241265,
                    1.3237453538768933,
                    1.322422270175124,
                    1.3211005088957355,
                    1.3197800687169656,
                    1.3184609483183747,
                    1.3171431463808418,
                    1.3158266615865652,
                    1.3145114926190598,
                    1.3131976381631567,
                    1.311885096905001,
                    1.3105738675320517,
                    1.3092639487330788,
                    1.307955339198164,
                    1.3066480376186975,
                    1.3053420426873772,
                    1.3040373530982088,
                    1.3027339675465017,
                    1.301431884728871,
                    1.3001311033432335,
                    1.2988316220888074,
                    1.297533439666112,
                    1.2962365547769643,
                    1.294940966124479,
                    1.2936466724130682,
                    1.2923536723484375,
                    1.2910619646375867,
                    1.2897715479888083,
                    1.2884824211116852,
                    1.2871945827170908,
                    1.2859080315171862,
                    1.2846227662254202,
                    1.2833387855565277,
                    1.2820560882265277,
                    1.2807746729527225,
                    1.2794945384536973,
                    1.278215683449317,
                    1.2769381066607266,
                    1.2756618068103496,
                    1.2743867826218853,
                    1.2731130328203102,
                    1.2718405561318737,
                    1.2705693512840994,
                    1.2692994170057823,
                    1.2680307520269882,
                    1.2667633550790516,
                    1.2654972248945755,
                    1.26423236020743,
                    1.26296875975275,
                    1.261706422266935,
                    1.260445346487647,
                    1.2591855311538112,
                    1.257926975005611,
                    1.2566696767844907,
                    1.2554136352331522,
                    1.2541588490955533,
                    1.252905317116908,
                    1.2516530380436843,
                    1.250402010623603,
                    1.2491522336056364,
                    1.2479037057400078,
                    1.2466564257781885,
                    1.245410392472899,
                    1.244165604578106,
                    1.242922060849021,
                    1.2416797600421003,
                    1.2404387009150435,
                    1.2391988822267908,
                    1.2379603027375234,
                    1.2367229612086623,
                    1.2354868564028654,
                    1.2342519870840276,
                    1.2330183520172797,
                    1.231785949968987,
                    1.2305547797067466,
                    1.2293248399993884,
                    1.2280961296169728,
                    1.226868647330789,
                    1.2256423919133548,
                    1.224417362138415,
                    1.223193556780939,
                    1.221970974617122,
                    1.220749614424381,
                    1.2195294749813566,
                    1.2183105550679085,
                    1.217092853465117,
                    1.2158763689552807,
                    1.2146611003219143,
                    1.2134470463497498,
                    1.2122342058247326,
                    1.2110225775340222,
                    1.2098121602659904,
                    1.2086029528102196,
                    1.2073949539575022,
                    1.2061881624998394,
                    1.2049825772304397,
                    1.2037781969437178,
                    1.202575020435293,
                    1.2013730465019887,
                    1.2001722739418312,
                    1.1989727015540477,
                    1.1977743281390656,
                    1.1965771524985114,
                    1.1953811734352096,
                    1.1941863897531806,
                    1.1929928002576409,
                    1.1918004037550012,
                    1.190609199052864,
                    1.1894191849600255,
                    1.188230360286471,
                    1.1870427238433758,
                    1.1858562744431034,
                    1.184671010899204,
                    1.1834869320264145,
                    1.1823040366406556,
                    1.181122323559032,
                    1.1799417915998303,
                    1.1787624395825183,
                    1.1775842663277443,
                    1.1764072706573347,
                    1.1752314513942936,
                    1.1740568073628022,
                    1.172883337388216,
                    1.1717110402970647,
                    1.1705399149170514,
                    1.1693699600770506,
                    1.1682011746071073,
                    1.1670335573384358,
                    1.1658671071034192,
                    1.1647018227356067,
                    1.163537703069714,
                    1.1623747469416215,
                    1.1612129531883726,
                    1.1600523206481737,
                    1.158892848160392,
                    1.1577345345655552,
                    1.1565773787053493,
                    1.1554213794226187,
                    1.1542665355613637,
                    1.1531128459667404,
                    1.1519603094850592,
                    1.1508089249637834,
                    1.1496586912515288,
                    1.148509607198061,
                    1.1473616716542958,
                    1.1462148834722985,
                    1.1450692415052797,
                    1.143924744607598,
                    1.1427813916347564,
                    1.1416391814434015,
                    1.1404981128913232,
                    1.1393581848374528,
                    1.138219396141862,
                    1.1370817456657625,
                    1.1359452322715033,
                    1.1348098548225711,
                    1.1336756121835883,
                    1.132542503220312,
                    1.1314105267996335,
                    1.130279681789576,
                    1.1291499670592944,
                    1.128021381479074,
                    1.126893923920329,
                    1.125767593255602,
                    1.124642388358562,
                    1.1235183081040039,
                    1.122395351367848,
                    1.1212735170271366,
                    1.1201528039600357,
                    1.1190332110458323,
                    1.117914737164933,
                    1.116797381198864,
                    1.1156811420302695,
                    1.1145660185429098,
                    1.1134520096216616,
                    1.1123391141525159,
                    1.1112273310225769,
                    1.1101166591200613,
                    1.1090070973342978,
                    1.107898644555724,
                    1.1067912996758866,
                    1.1056850615874416,
                    1.10457992918415,
                    1.10347590136088,
                    1.102372977013603,
                    1.101271155039395,
                    1.1001704343364338,
                    1.0990708138039986,
                    1.0979722923424688,
                    1.0968748688533232,
                    1.0957785422391373,
                    1.0946833114035852,
                    1.0935891752514357,
                    1.0924961326885525,
                    1.0914041826218932,
                    1.0903133239595073,
                    1.0892235556105363,
                    1.0881348764852117,
                    1.0870472854948543,
                    1.085960781551873,
                    1.0848753635697634,
                    1.0837910304631082,
                    1.0827077811475738,
                    1.0816256145399106,
                    1.080544529557952,
                    1.0794645251206132,
                    1.0783856001478893,
                    1.0773077535608555,
                    1.0762309842816649,
                    1.0751552912335485,
                    1.0740806733408128,
                    1.07300712952884,
                    1.0719346587240859,
                    1.0708632598540802,
                    1.0697929318474233,
                    1.0687236736337877,
                    1.0676554841439145,
                    1.0665883623096146,
                    1.0655223070637658,
                    1.0644573173403131,
                    1.0633933920742662,
                    1.0623305302017,
                    1.0612687306597526,
                    1.060207992386624,
                    1.0591483143215765,
                    1.0580896954049317,
                    1.0570321345780702,
                    1.0559756307834314,
                    1.0549201829645114,
                    1.0538657900658623,
                    1.052812451033091,
                    1.0517601648128587,
                    1.0507089303528785,
                    1.0496587466019165,
                    1.0486096125097886,
                    1.0475615270273604,
                    1.0465144891065465,
                    1.045468497700309,
                    1.0444235517626566,
                    1.0433796502486428,
                    1.0423367921143658,
                    1.0412949763169683,
                    1.0402542018146337,
                    1.0392144675665875,
                    1.0381757725330956,
                    1.0371381156754627,
                    1.036101495956032,
                    1.0350659123381836,
                    1.0340313637863336,
                    1.0329978492659335,
                    1.0319653677434693,
                    1.0309339181864583,
                    1.0299034995634515,
                    1.0288741108440302,
                    1.0278457509988055,
                    1.0268184189994174,
                    1.0257921138185337,
                    1.0247668344298495,
                    1.023742579808085,
                    1.0227193489289859,
                    1.0216971407693207,
                    1.0206759543068815,
                    1.0196557885204816,
                    1.018636642389955,
                    1.017618514896156,
                    1.0166014050209566,
                    1.0155853117472469,
                    1.0145702340589338,
                    1.013556170940939,
                    1.0125431213791998,
                    1.0115310843606662,
                    1.0105200588733014,
                    1.0095100439060796,
                    1.0085010384489859,
                    1.0074930414930146,
                    1.0064860520301688,
                    1.0054800690534589,
                    1.0044750915569018,
                    1.00347111853552,
                    1.0024681489853404,
                    1.0014661819033934,
                    1.0004652162877115,
                    0.9994652511373295,
                    0.9984662854522819,
                    0.9974683182336028,
                    0.9964713484833252,
                    0.9954753752044792,
                    0.9944803974010912,
                    0.9934864140781834,
                    0.9924934242417724,
                    0.9915014268988688,
                    0.9905104210574742,
                    0.9895204057265836,
                    0.988531379916181,
                    0.9875433426372408,
                    0.9865562929017255,
                    0.9855702297225851,
                    0.9845851521137567,
                    0.9836010590901627,
                    0.9826179496677094,
                    0.9816358228632879,
                    0.9806546776947709,
                    0.9796745131810134,
                    0.9786953283418507,
                    0.9777171221980979,
                    0.9767398937715488,
                    0.9757636420849748,
                    0.9747883661621244,
                    0.9738140650277212,
                    0.9728407377074642,
                    0.9718683832280259,
                    0.970897000617052,
                    0.9699265889031594,
                    0.9689571471159368,
                    0.9679886742859418,
                    0.967021169444702,
                    0.9660546316247121,
                    0.9650890598594344,
                    0.9641244531832969,
                    0.9631608106316929,
                    0.9621981312409797,
                    0.9612364140484781,
                    0.9602756580924707,
                    0.9593158624122013,
                    0.9583570260478744,
                    0.9573991480406532,
                    0.95644222743266,
                    0.9554862632669738,
                    0.9545312545876306,
                    0.9535772004396215,
                    0.9526240998688922,
                    0.9516719519223423,
                    0.9507207556478234,
                    0.9497705100941397,
                    0.948821214311045,
                    0.9478728673492438,
                    0.9469254682603889,
                    0.9459790160970813,
                    0.9450335099128684,
                    0.9440889487622444,
                    0.9431453317006476,
                    0.9422026577844611,
                    0.941260926071011,
                    0.9403201356185655,
                    0.9393802854863339,
                    0.9384413747344661,
                    0.9375034024240512,
                    0.936566367617117,
                    0.9356302693766283,
                    0.9346951067664868,
                    0.9337608788515301,
                    0.9328275846975302,
                    0.9318952233711926,
                    0.930963793940156,
                    0.9300332954729911,
                    0.9291037270391989,
                    0.9281750877092112,
                    0.9272473765543887,
                    0.9263205926470199,
                    0.9253947350603211,
                    0.9244698028684345,
                    0.9235457951464277,
                    0.922622710970293,
                    0.9217005494169461,
                    0.9207793095642256,
                    0.9198589904908911,
                    0.9189395912766242,
                    0.9180211110020249,
                    0.917103548748613,
                    0.9161869035988264,
                    0.9152711746360197,
                    0.9143563609444638,
                    0.9134424616093453,
                    0.9125294757167645,
                    0.9116174023537352,
                    0.9107062406081845,
                    0.9097959895689501,
                    0.9088866483257813,
                    0.9079782159693364,
                    0.9070706915911831,
                    0.9061640742837971,
                    0.9052583631405609,
                    0.904353557255763,
                    0.9034496557245981,
                    0.902546657643164,
                    0.9016445621084629,
                    0.9007433682183988,
                    0.8998430750717783,
                    0.8989436817683076,
                    0.8980451874085937,
                    0.897147591094142,
                    0.8962508919273562,
                    0.8953550890115369,
                    0.8944601814508815,
                    0.8935661683504819,
                    0.8926730488163251,
                    0.8917808219552916,
                    0.8908894868751541,
                    0.889999042684578,
                    0.8891094884931188,
                    0.8882208234112219,
                    0.8873330465502227,
                    0.8864461570223439,
                    0.8855601539406959,
                    0.8846750364192756,
                    0.8837908035729656,
                    0.8829074545175328,
                    0.8820249883696281,
                    0.8811434042467852,
                    0.88026270126742,
                    0.8793828785508295,
                    0.8785039352171906,
                    0.8776258703875603,
                    0.8767486831838736,
                    0.875872372728943,
                    0.8749969381464582,
                    0.8741223785609844,
                    0.8732486930979622,
                    0.8723758808837057,
                    0.8715039410454029,
                    0.8706328727111136,
                    0.8697626750097696,
                    0.868893347071173,
                    0.8680248880259961,
                    0.8671572970057794,
                    0.866290573142932,
                    0.86542471557073,
                    0.8645597234233158,
                    0.8636955958356967,
                    0.8628323319437456,
                    0.8619699308841986,
                    0.8611083917946539,
                    0.860247713813573,
                    0.8593878960802777,
                    0.8585289377349499,
                    0.8576708379186314,
                    0.8568135957732224,
                    0.8559572104414803,
                    0.8551016810670202,
                    0.8542470067943125,
                    0.8533931867686826,
                    0.8525402201363108,
                    0.8516881060442301,
                    0.8508368436403262,
                    0.849986432073337,
                    0.8491368704928508,
                    0.8482881580493056,
                    0.8474402938939893,
                    0.8465932771790377,
                    0.8457471070574336,
                    0.8449017826830071,
                    0.8440573032104335,
                    0.8432136677952337,
                    0.842370875593772,
                    0.8415289257632559,
                    0.8406878174617356,
                    0.8398475498481031,
                    0.8390081220820902,
                    0.8381695333242696,
                    0.8373317827360518,
                    0.8364948694796869,
                    0.8356587927182608,
                    0.8348235516156973,
                    0.833989145336755,
                    0.8331555730470274,
                    0.8323228339129424,
                    0.8314909271017606,
                    0.8306598517815751,
                    0.8298296071213108,
                    0.8290001922907226,
                    0.8281716064603959,
                    0.8273438488017447,
                    0.8265169184870111,
                    0.825690814689265,
                    0.8248655365824024,
                    0.8240410833411451,
                    0.8232174541410398,
                    0.8223946481584571,
                    0.8215726645705912,
                    0.8207515025554583,
                    0.8199311612918965,
                    0.8191116399595642,
                    0.8182929377389401,
                    0.817475053811322,
                    0.8166579873588257,
                    0.8158417375643849,
                    0.8150263036117498,
                    0.8142116846854859,
                    0.8133978799709749,
                    0.8125848886544114,
                    0.8117727099228043,
                    0.8109613429639748,
                    0.810150786966556,
                    0.8093410411199915,
                    0.8085321046145355,
                    0.8077239766412517,
                    0.8069166563920117,
                    0.8061101430594955,
                    0.8053044358371892,
                    0.8044995339193862,
                    0.8036954365011841,
                    0.8028921427784854,
                    0.8020896519479963,
                    0.8012879632072262,
                    0.800487075754486,
                    0.7996869887888882,
                    0.7988877015103457,
                    0.7980892131195715,
                    0.7972915228180768,
                    0.7964946298081714,
                    0.7956985332929623,
                    0.7949032324763528,
                    0.7941087265630418,
                    0.7933150147585237,
                    0.7925220962690864,
                    0.7917299703018115,
                    0.7909386360645728,
                    0.7901480927660361,
                    0.789358339615658,
                    0.7885693758236854,
                    0.7877812006011542,
                    0.7869938131598894,
                    0.786207212712503,
                    0.7854213984723952,
                    0.7846363696537512,
                    0.7838521254715423,
                    0.7830686651415241,
                    0.7822859878802363,
                    0.7815040929050017,
                    0.7807229794339248,
                    0.7799426466858927,
                    0.7791630938805723,
                    0.7783843202384106,
                    0.7776063249806339,
                    0.776829107329247,
                    0.7760526665070324,
                    0.7752770017375488,
                    0.7745021122451317,
                    0.7737279972548912,
                    0.7729546559927125,
                    0.7721820876852543,
                    0.7714102915599479,
                    0.7706392668449975,
                    0.7698690127693781,
                    0.7690995285628357,
                    0.7683308134558859,
                    0.7675628666798137,
                    0.766795687466672,
                    0.7660292750492819,
                    0.7652636286612304,
                    0.7644987475368714,
                    0.7637346309113238,
                    0.7629712780204705,
                    0.762208688100959,
                    0.7614468603901992,
                    0.760685794126363,
                    0.7599254885483844,
                    0.7591659428959577,
                    0.7584071564095372,
                    0.7576491283303362,
                    0.7568918579003268,
                    0.7561353443622383,
                    0.7553795869595571,
                    0.7546245849365258,
                    0.7538703375381426,
                    0.7531168440101597,
                    0.7523641035990833,
                    0.7516121155521733,
                    0.7508608791174416,
                    0.7501103935436515,
                    0.7493606580803175,
                    0.7486116719777041,
                    0.7478634344868248,
                    0.7471159448594425,
                    0.7463692023480673,
                    0.7456232062059566,
                    0.7448779556871143,
                    0.7441334500462897,
                    0.7433896885389772,
                    0.7426466704214152,
                    0.7419043949505855,
                    0.7411628613842125,
                    0.7404220689807628,
                    0.7396820169994436,
                    0.7389427047002032,
                    0.738204131343729,
                    0.7374662961914477,
                    0.736729198505524,
                    0.7359928375488602,
                    0.7352572125850954,
                    0.7345223228786043,
                    0.7337881676944973,
                    0.7330547462986192,
                    0.7323220579575485,
                    0.7315901019385967,
                    0.7308588775098079,
                    0.7301283839399575,
                    0.7293986204985519,
                    0.7286695864558275,
                    0.7279412810827504,
                    0.7272137036510149,
                    0.7264868534330438,
                    0.7257607297019865,
                    0.7250353317317195,
                    0.7243106587968446,
                    0.7235867101726888,
                    0.7228634851353036,
                    0.7221409829614638,
                    0.721419202928667,
                    0.7206981443151333,
                    0.719977806399804,
                    0.7192581884623411,
                    0.7185392897831266,
                    0.7178211096432618,
                    0.7171036473245664,
                    0.7163869021095781,
                    0.7156708732815515,
                    0.714955560124458,
                    0.7142409619229841,
                    0.7135270779625318,
                    0.7128139075292167,
                    0.7121014499098686,
                    0.7113897043920299,
                    0.7106786702639547,
                    0.709968346814609,
                    0.7092587333336693,
                    0.708549829111522,
                    0.707841633439263,
                    0.7071341456086964,
                    0.7064273649123342,
                    0.7057212906433958,
                    0.705015922095807,
                    0.7043112585641988,
                    0.7036072993439081,
                    0.7029040437309754,
                    0.7022014910221448,
                    0.7014996405148639,
                    0.7007984915072818,
                    0.7000980432982498,
                    0.6993982951873193,
                    0.6986992464747424,
                    0.6980008964614701,
                    0.6973032444491524,
                    0.6966062897401374,
                    0.6959100316374701,
                    0.6952144694448924,
                    0.6945196024668421,
                    0.6938254300084521,
                    0.6931319513755501,
                    0.692439165874657,
                    0.6917470728129876,
                    0.6910556714984487,
                    0.6903649612396389,
                    0.6896749413458478,
                    0.6889856111270555,
                    0.6882969698939317,
                    0.6876090169578353,
                    0.686921751630813,
                    0.6862351732255997,
                    0.6855492810556169,
                    0.6848640744349721,
                    0.6841795526784589,
                    0.6834957151015553,
                    0.6828125610204238,
                    0.6821300897519103,
                    0.6814483006135432,
                    0.6807671929235337,
                    0.6800867660007738,
                    0.6794070191648366,
                    0.6787279517359751,
                    0.678049563035122,
                    0.6773718523838883,
                    0.6766948191045635,
                    0.6760184625201142,
                    0.6753427819541838,
                    0.6746677767310916,
                    0.6739934461758323,
                    0.6733197896140755,
                    0.6726468063721642,
                    0.6719744957771154,
                    0.6713028571566185,
                    0.6706318898390347,
                    0.6699615931533965,
                    0.6692919664294072,
                    0.6686230089974403,
                    0.6679547201885381,
                    0.6672870993344117,
                    0.6666201457674402,
                    0.6659538588206702,
                    0.6652882378278142,
                    0.6646232821232517,
                    0.6639589910420267,
                    0.663295363919848,
                    0.6626324000930885,
                    0.6619700988987843,
                    0.6613084596746343,
                    0.6606474817589989,
                    0.6599871644909004,
                    0.6593275072100214,
                    0.6586685092567046,
                    0.6580101699719518,
                    0.6573524886974238,
                    0.6566954647754395,
                    0.6560390975489745,
                    0.6553833863616618,
                    0.65472833055779,
                    0.6540739294823035,
                    0.6534201824808008,
                    0.652767088899535,
                    0.6521146480854126,
                    0.6514628593859927,
                    0.6508117221494863,
                    0.6501612357247564,
                    0.6495113994613164,
                    0.64886221270933,
                    0.6482136748196103,
                    0.6475657851436196,
                    0.6469185430334679,
                    0.6462719478419131,
                    0.6456259989223601,
                    0.6449806956288597,
                    0.6443360373161087,
                    0.6436920233394487,
                    0.6430486530548658,
                    0.6424059258189896,
                    0.6417638409890926,
                    0.64112239792309,
                    0.6404815959795389,
                    0.6398414345176371,
                    0.6392019128972231,
                    0.6385630304787753,
                    0.6379247866234112,
                    0.6372871806928868,
                    0.6366502120495964,
                    0.6360138800565709,
                    0.6353781840774786,
                    0.6347431234766232,
                    0.6341086976189443,
                    0.6334749058700158,
                    0.632841747596046,
                    0.6322092221638764,
                    0.6315773289409818,
                    0.6309460672954686,
                    0.6303154365960755,
                    0.6296854362121713,
                    0.6290560655137559,
                    0.6284273238714585,
                    0.6277992106565372,
                    0.627171725240879,
                    0.6265448669969982,
                    0.6259186352980367,
                    0.6252930295177626,
                    0.62466804903057,
                    0.6240436932114788,
                    0.6234199614361325,
                    0.6227968530807999,
                    0.6221743675223721,
                    0.6215525041383636,
                    0.6209312623069112,
                    0.6203106414067727,
                    0.6196906408173273,
                    0.6190712599185746,
                    0.6184524980911331,
                    0.6178343547162414,
                    0.6172168291757558,
                    0.6165999208521509,
                    0.6159836291285182,
                    0.615367953388566,
                    0.6147528930166184,
                    0.614138447397615,
                    0.6135246159171104,
                    0.6129113979612727,
                    0.612298792916884,
                    0.6116868001713394,
                    0.6110754191126457,
                    0.6104646491294222,
                    0.6098544896108986,
                    0.6092449399469155,
                    0.6086359995279231,
                    0.608027667744981,
                    0.6074199439897573,
                    0.6068128276545282,
                    0.6062063181321773,
                    0.6056004148161951,
                    0.6049951171006781,
                    0.6043904243803286,
                    0.603786336050454,
                    0.6031828515069656,
                    0.602579970146379,
                    0.6019776913658128,
                    0.6013760145629882,
                    0.6007749391362281,
                    0.6001744644844574,
                    0.5995745900072011,
                    0.5989753151045848,
                    0.5983766391773335,
                    0.5977785616267712,
                    0.5971810818548204,
                    0.5965841992640012,
                    0.5959879132574311,
                    0.5953922232388237,
                    0.5947971286124892,
                    0.5942026287833331,
                    0.5936087231568551,
                    0.5930154111391497,
                    0.5924226921369049,
                    0.5918305655574017,
                    0.5912390308085133,
                    0.590648087298705,
                    0.5900577344370331,
                    0.5894679716331449,
                    0.5888787982972775,
                    0.5882902138402575,
                    0.5877022176735003,
                    0.5871148092090098,
                    0.5865279878593773,
                    0.5859417530377817,
                    0.5853561041579879,
                    0.584771040634347,
                    0.5841865618817955,
                    0.5836026673158545,
                    0.5830193563526296,
                    0.5824366284088095,
                    0.5818544829016663,
                    0.5812729192490547,
                    0.5806919368694106,
                    0.5801115351817518,
                    0.5795317136056766,
                    0.5789524715613632,
                    0.5783738084695697,
                    0.5777957237516328,
                    0.5772182168294678,
                    0.5766412871255678,
                    0.5760649340630029,
                    0.5754891570654201,
                    0.5749139555570424,
                    0.5743393289626681,
                    0.5737652767076705,
                    0.5731917982179976,
                    0.5726188929201707,
                    0.5720465602412843,
                    0.5714747996090059,
                    0.5709036104515747,
                    0.5703329921978015,
                    0.5697629442770681,
                    0.5691934661193263,
                    0.5686245571550983,
                    0.5680562168154746,
                    0.5674884445321152,
                    0.5669212397372476,
                    0.5663546018636669,
                    0.5657885303447354,
                    0.5652230246143812,
                    0.564658084107099,
                    0.5640937082579477,
                    0.5635298965025518,
                    0.5629666482770994,
                    0.562403963018342,
                    0.5618418401635947,
                    0.5612802791507342,
                    0.5607192794181998,
                    0.5601588404049914,
                    0.5595989615506701,
                    0.5590396422953571,
                    0.5584808820797328,
                    0.5579226803450373,
                    0.5573650365330686,
                    0.5568079500861828,
                    0.5562514204472935,
                    0.555695447059871,
                    0.5551400293679419,
                    0.5545851668160885,
                    0.554030858849448,
                    0.5534771049137126,
                    0.5529239044551282,
                    0.5523712569204944
                  ],
                  "yaxis": "y"
                },
                {
                  "name": "radius",
                  "type": "scatter",
                  "x": [
                    0,
                    1,
                    2,
                    3,
                    4,
                    5,
                    6,
                    7,
                    8,
                    9,
                    10,
                    11,
                    12,
                    13,
                    14,
                    15,
                    16,
                    17,
                    18,
                    19,
                    20,
                    21,
                    22,
                    23,
                    24,
                    25,
                    26,
                    27,
                    28,
                    29,
                    30,
                    31,
                    32,
                    33,
                    34,
                    35,
                    36,
                    37,
                    38,
                    39,
                    40,
                    41,
                    42,
                    43,
                    44,
                    45,
                    46,
                    47,
                    48,
                    49,
                    50,
                    51,
                    52,
                    53,
                    54,
                    55,
                    56,
                    57,
                    58,
                    59,
                    60,
                    61,
                    62,
                    63,
                    64,
                    65,
                    66,
                    67,
                    68,
                    69,
                    70,
                    71,
                    72,
                    73,
                    74,
                    75,
                    76,
                    77,
                    78,
                    79,
                    80,
                    81,
                    82,
                    83,
                    84,
                    85,
                    86,
                    87,
                    88,
                    89,
                    90,
                    91,
                    92,
                    93,
                    94,
                    95,
                    96,
                    97,
                    98,
                    99,
                    100,
                    101,
                    102,
                    103,
                    104,
                    105,
                    106,
                    107,
                    108,
                    109,
                    110,
                    111,
                    112,
                    113,
                    114,
                    115,
                    116,
                    117,
                    118,
                    119,
                    120,
                    121,
                    122,
                    123,
                    124,
                    125,
                    126,
                    127,
                    128,
                    129,
                    130,
                    131,
                    132,
                    133,
                    134,
                    135,
                    136,
                    137,
                    138,
                    139,
                    140,
                    141,
                    142,
                    143,
                    144,
                    145,
                    146,
                    147,
                    148,
                    149,
                    150,
                    151,
                    152,
                    153,
                    154,
                    155,
                    156,
                    157,
                    158,
                    159,
                    160,
                    161,
                    162,
                    163,
                    164,
                    165,
                    166,
                    167,
                    168,
                    169,
                    170,
                    171,
                    172,
                    173,
                    174,
                    175,
                    176,
                    177,
                    178,
                    179,
                    180,
                    181,
                    182,
                    183,
                    184,
                    185,
                    186,
                    187,
                    188,
                    189,
                    190,
                    191,
                    192,
                    193,
                    194,
                    195,
                    196,
                    197,
                    198,
                    199,
                    200,
                    201,
                    202,
                    203,
                    204,
                    205,
                    206,
                    207,
                    208,
                    209,
                    210,
                    211,
                    212,
                    213,
                    214,
                    215,
                    216,
                    217,
                    218,
                    219,
                    220,
                    221,
                    222,
                    223,
                    224,
                    225,
                    226,
                    227,
                    228,
                    229,
                    230,
                    231,
                    232,
                    233,
                    234,
                    235,
                    236,
                    237,
                    238,
                    239,
                    240,
                    241,
                    242,
                    243,
                    244,
                    245,
                    246,
                    247,
                    248,
                    249,
                    250,
                    251,
                    252,
                    253,
                    254,
                    255,
                    256,
                    257,
                    258,
                    259,
                    260,
                    261,
                    262,
                    263,
                    264,
                    265,
                    266,
                    267,
                    268,
                    269,
                    270,
                    271,
                    272,
                    273,
                    274,
                    275,
                    276,
                    277,
                    278,
                    279,
                    280,
                    281,
                    282,
                    283,
                    284,
                    285,
                    286,
                    287,
                    288,
                    289,
                    290,
                    291,
                    292,
                    293,
                    294,
                    295,
                    296,
                    297,
                    298,
                    299,
                    300,
                    301,
                    302,
                    303,
                    304,
                    305,
                    306,
                    307,
                    308,
                    309,
                    310,
                    311,
                    312,
                    313,
                    314,
                    315,
                    316,
                    317,
                    318,
                    319,
                    320,
                    321,
                    322,
                    323,
                    324,
                    325,
                    326,
                    327,
                    328,
                    329,
                    330,
                    331,
                    332,
                    333,
                    334,
                    335,
                    336,
                    337,
                    338,
                    339,
                    340,
                    341,
                    342,
                    343,
                    344,
                    345,
                    346,
                    347,
                    348,
                    349,
                    350,
                    351,
                    352,
                    353,
                    354,
                    355,
                    356,
                    357,
                    358,
                    359,
                    360,
                    361,
                    362,
                    363,
                    364,
                    365,
                    366,
                    367,
                    368,
                    369,
                    370,
                    371,
                    372,
                    373,
                    374,
                    375,
                    376,
                    377,
                    378,
                    379,
                    380,
                    381,
                    382,
                    383,
                    384,
                    385,
                    386,
                    387,
                    388,
                    389,
                    390,
                    391,
                    392,
                    393,
                    394,
                    395,
                    396,
                    397,
                    398,
                    399,
                    400,
                    401,
                    402,
                    403,
                    404,
                    405,
                    406,
                    407,
                    408,
                    409,
                    410,
                    411,
                    412,
                    413,
                    414,
                    415,
                    416,
                    417,
                    418,
                    419,
                    420,
                    421,
                    422,
                    423,
                    424,
                    425,
                    426,
                    427,
                    428,
                    429,
                    430,
                    431,
                    432,
                    433,
                    434,
                    435,
                    436,
                    437,
                    438,
                    439,
                    440,
                    441,
                    442,
                    443,
                    444,
                    445,
                    446,
                    447,
                    448,
                    449,
                    450,
                    451,
                    452,
                    453,
                    454,
                    455,
                    456,
                    457,
                    458,
                    459,
                    460,
                    461,
                    462,
                    463,
                    464,
                    465,
                    466,
                    467,
                    468,
                    469,
                    470,
                    471,
                    472,
                    473,
                    474,
                    475,
                    476,
                    477,
                    478,
                    479,
                    480,
                    481,
                    482,
                    483,
                    484,
                    485,
                    486,
                    487,
                    488,
                    489,
                    490,
                    491,
                    492,
                    493,
                    494,
                    495,
                    496,
                    497,
                    498,
                    499,
                    500,
                    501,
                    502,
                    503,
                    504,
                    505,
                    506,
                    507,
                    508,
                    509,
                    510,
                    511,
                    512,
                    513,
                    514,
                    515,
                    516,
                    517,
                    518,
                    519,
                    520,
                    521,
                    522,
                    523,
                    524,
                    525,
                    526,
                    527,
                    528,
                    529,
                    530,
                    531,
                    532,
                    533,
                    534,
                    535,
                    536,
                    537,
                    538,
                    539,
                    540,
                    541,
                    542,
                    543,
                    544,
                    545,
                    546,
                    547,
                    548,
                    549,
                    550,
                    551,
                    552,
                    553,
                    554,
                    555,
                    556,
                    557,
                    558,
                    559,
                    560,
                    561,
                    562,
                    563,
                    564,
                    565,
                    566,
                    567,
                    568,
                    569,
                    570,
                    571,
                    572,
                    573,
                    574,
                    575,
                    576,
                    577,
                    578,
                    579,
                    580,
                    581,
                    582,
                    583,
                    584,
                    585,
                    586,
                    587,
                    588,
                    589,
                    590,
                    591,
                    592,
                    593,
                    594,
                    595,
                    596,
                    597,
                    598,
                    599,
                    600,
                    601,
                    602,
                    603,
                    604,
                    605,
                    606,
                    607,
                    608,
                    609,
                    610,
                    611,
                    612,
                    613,
                    614,
                    615,
                    616,
                    617,
                    618,
                    619,
                    620,
                    621,
                    622,
                    623,
                    624,
                    625,
                    626,
                    627,
                    628,
                    629,
                    630,
                    631,
                    632,
                    633,
                    634,
                    635,
                    636,
                    637,
                    638,
                    639,
                    640,
                    641,
                    642,
                    643,
                    644,
                    645,
                    646,
                    647,
                    648,
                    649,
                    650,
                    651,
                    652,
                    653,
                    654,
                    655,
                    656,
                    657,
                    658,
                    659,
                    660,
                    661,
                    662,
                    663,
                    664,
                    665,
                    666,
                    667,
                    668,
                    669,
                    670,
                    671,
                    672,
                    673,
                    674,
                    675,
                    676,
                    677,
                    678,
                    679,
                    680,
                    681,
                    682,
                    683,
                    684,
                    685,
                    686,
                    687,
                    688,
                    689,
                    690,
                    691,
                    692,
                    693,
                    694,
                    695,
                    696,
                    697,
                    698,
                    699,
                    700,
                    701,
                    702,
                    703,
                    704,
                    705,
                    706,
                    707,
                    708,
                    709,
                    710,
                    711,
                    712,
                    713,
                    714,
                    715,
                    716,
                    717,
                    718,
                    719,
                    720,
                    721,
                    722,
                    723,
                    724,
                    725,
                    726,
                    727,
                    728,
                    729,
                    730,
                    731,
                    732,
                    733,
                    734,
                    735,
                    736,
                    737,
                    738,
                    739,
                    740,
                    741,
                    742,
                    743,
                    744,
                    745,
                    746,
                    747,
                    748,
                    749,
                    750,
                    751,
                    752,
                    753,
                    754,
                    755,
                    756,
                    757,
                    758,
                    759,
                    760,
                    761,
                    762,
                    763,
                    764,
                    765,
                    766,
                    767,
                    768,
                    769,
                    770,
                    771,
                    772,
                    773,
                    774,
                    775,
                    776,
                    777,
                    778,
                    779,
                    780,
                    781,
                    782,
                    783,
                    784,
                    785,
                    786,
                    787,
                    788,
                    789,
                    790,
                    791,
                    792,
                    793,
                    794,
                    795,
                    796,
                    797,
                    798,
                    799,
                    800,
                    801,
                    802,
                    803,
                    804,
                    805,
                    806,
                    807,
                    808,
                    809,
                    810,
                    811,
                    812,
                    813,
                    814,
                    815,
                    816,
                    817,
                    818,
                    819,
                    820,
                    821,
                    822,
                    823,
                    824,
                    825,
                    826,
                    827,
                    828,
                    829,
                    830,
                    831,
                    832,
                    833,
                    834,
                    835,
                    836,
                    837,
                    838,
                    839,
                    840,
                    841,
                    842,
                    843,
                    844,
                    845,
                    846,
                    847,
                    848,
                    849,
                    850,
                    851,
                    852,
                    853,
                    854,
                    855,
                    856,
                    857,
                    858,
                    859,
                    860,
                    861,
                    862,
                    863,
                    864,
                    865,
                    866,
                    867,
                    868,
                    869,
                    870,
                    871,
                    872,
                    873,
                    874,
                    875,
                    876,
                    877,
                    878,
                    879,
                    880,
                    881,
                    882,
                    883,
                    884,
                    885,
                    886,
                    887,
                    888,
                    889,
                    890,
                    891,
                    892,
                    893,
                    894,
                    895,
                    896,
                    897,
                    898,
                    899,
                    900,
                    901,
                    902,
                    903,
                    904,
                    905,
                    906,
                    907,
                    908,
                    909,
                    910,
                    911,
                    912,
                    913,
                    914,
                    915,
                    916,
                    917,
                    918,
                    919,
                    920,
                    921,
                    922,
                    923,
                    924,
                    925,
                    926,
                    927,
                    928,
                    929,
                    930,
                    931,
                    932,
                    933,
                    934,
                    935,
                    936,
                    937,
                    938,
                    939,
                    940,
                    941,
                    942,
                    943,
                    944,
                    945,
                    946,
                    947,
                    948,
                    949,
                    950,
                    951,
                    952,
                    953,
                    954,
                    955,
                    956,
                    957,
                    958,
                    959,
                    960,
                    961,
                    962,
                    963,
                    964,
                    965,
                    966,
                    967,
                    968,
                    969,
                    970,
                    971,
                    972,
                    973,
                    974,
                    975,
                    976,
                    977,
                    978,
                    979,
                    980,
                    981,
                    982,
                    983,
                    984,
                    985,
                    986,
                    987,
                    988,
                    989,
                    990,
                    991,
                    992,
                    993,
                    994,
                    995,
                    996,
                    997,
                    998,
                    999
                  ],
                  "xaxis": "x2",
                  "y": [
                    2,
                    1.998614185980905,
                    1.9972293322020578,
                    1.9958454379981012,
                    1.994462502704139,
                    1.9930805256557356,
                    1.9916995061889162,
                    1.9903194436401657,
                    1.9889403373464287,
                    1.9875621866451096,
                    1.9861849908740719,
                    1.984808749371637,
                    1.9834334614765865,
                    1.9820591265281582,
                    1.9806857438660492,
                    1.979313312830414,
                    1.977941832761863,
                    1.976571303001465,
                    1.975201722890745,
                    1.9738330917716838,
                    1.9724654089867184,
                    1.9710986738787415,
                    1.9697328857911012,
                    1.9683680440676004,
                    1.9670041480524967,
                    1.9656411970905021,
                    1.964279190526783,
                    1.9629181277069585,
                    1.9615580079771027,
                    1.9601988306837412,
                    1.9588405951738537,
                    1.9574833007948715,
                    1.9561269468946787,
                    1.9547715328216106,
                    1.9534170579244547,
                    1.9520635215524493,
                    1.9507109230552837,
                    1.9493592617830977,
                    1.948008537086482,
                    1.9466587483164763,
                    1.945309894824571,
                    1.943961975962705,
                    1.9426149910832666,
                    1.9412689395390932,
                    1.9399238206834697,
                    1.93857963387013,
                    1.9372363784532554,
                    1.9358940537874747,
                    1.9345526592278641,
                    1.9332121941299465,
                    1.9318726578496912,
                    1.930534049743514,
                    1.9291963691682765,
                    1.9278596154812864,
                    1.926523788040296,
                    1.9251888862035027,
                    1.9238549093295494,
                    1.9225218567775226,
                    1.9211897279069532,
                    1.919858522077816,
                    1.9185282386505287,
                    1.9171988769859531,
                    1.915870436445393,
                    1.9145429163905952,
                    1.9132163161837485,
                    1.9118906351874843,
                    1.9105658727648747,
                    1.9092420282794338,
                    1.9079191010951162,
                    1.9065970905763179,
                    1.9052759960878747,
                    1.903955816995063,
                    1.9026365526635984,
                    1.9013182024596365,
                    1.900000765749772,
                    1.8986842419010383,
                    1.8973686302809079,
                    1.8960539302572907,
                    1.8947401411985354,
                    1.8934272624734279,
                    1.8921152934511918,
                    1.8908042335014874,
                    1.8894940819944124,
                    1.8881848383004998,
                    1.88687650179072,
                    1.885569071836479,
                    1.8842625478096175,
                    1.8829569290824124,
                    1.8816522150275752,
                    1.8803484050182522,
                    1.8790454984280236,
                    1.8777434946309042,
                    1.8764423930013423,
                    1.8751421929142196,
                    1.873842893744851,
                    1.8725444948689844,
                    1.8712469956628002,
                    1.8699503955029109,
                    1.8686546937663608,
                    1.8673598898306263,
                    1.8660659830736148,
                    1.864772972873665,
                    1.8634808586095462,
                    1.862189639660458,
                    1.8608993154060307,
                    1.8596098852263236,
                    1.8583213485018266,
                    1.857033704613458,
                    1.8557469529425654,
                    1.854461092870925,
                    1.8531761237807418,
                    1.851892045054648,
                    1.8506088560757044,
                    1.849326556227399,
                    1.8480451448936468,
                    1.8467646214587896,
                    1.8454849853075965,
                    1.8442062358252624,
                    1.842928372397408,
                    1.8416513944100799,
                    1.8403753012497501,
                    1.839100092303316,
                    1.8378257669580997,
                    1.8365523246018476,
                    1.8352797646227301,
                    1.8340080864093424,
                    1.8327372893507026,
                    1.8314673728362525,
                    1.8301983362558567,
                    1.828930178999803,
                    1.827662900458801,
                    1.8263965000239832,
                    1.8251309770869037,
                    1.823866331039538,
                    1.822602561274283,
                    1.8213396671839568,
                    1.8200776481617982,
                    1.8188165036014663,
                    1.81755623289704,
                    1.8162968354430191,
                    1.8150383106343217,
                    1.813780657866286,
                    1.8125238765346687,
                    1.8112679660356457,
                    1.8100129257658109,
                    1.8087587551221762,
                    1.8075054535021717,
                    1.8062530203036447,
                    1.80500145492486,
                    1.8037507567644993,
                    1.8025009252216604,
                    1.8012519596958585,
                    1.8000038595870242,
                    1.7987566242955038,
                    1.7975102532220595,
                    1.7962647457678684,
                    1.7950201013345228,
                    1.7937763193240297,
                    1.7925333991388097,
                    1.7912913401816986,
                    1.790050141855945,
                    1.7888098035652114,
                    1.787570324713574,
                    1.7863317047055207,
                    1.7850939429459534,
                    1.7838570388401853,
                    1.7826209917939424,
                    1.7813858012133619,
                    1.780151466504993,
                    1.7789179870757952,
                    1.7776853623331403,
                    1.7764535916848099,
                    1.7752226745389956,
                    1.7739926103043,
                    1.7727633983897346,
                    1.7715350382047212,
                    1.7703075291590902,
                    1.7690808706630812,
                    1.7678550621273423,
                    1.7666301029629303,
                    1.7654059925813097,
                    1.764182730394353,
                    1.76296031581434,
                    1.7617387482539584,
                    1.760518027126302,
                    1.7592981518448714,
                    1.758079121823574,
                    1.7568609364767234,
                    1.7556435952190386,
                    1.7544270974656442,
                    1.7532114426320702,
                    1.7519966301342516,
                    1.750782659388528,
                    1.7495695298116436,
                    1.7483572408207464,
                    1.7471457918333886,
                    1.7459351822675258,
                    1.7447254115415172,
                    1.7435164790741244,
                    1.7423083842845124,
                    1.7411011265922482,
                    1.7398947054173015,
                    1.7386891201800434,
                    1.7374843703012466,
                    1.7362804552020858,
                    1.7350773743041359,
                    1.7338751270293733,
                    1.7326737128001746,
                    1.7314731310393168,
                    1.7302733811699764,
                    1.7290744626157304,
                    1.7278763748005543,
                    1.7266791171488236,
                    1.7254826890853119,
                    1.7242870900351919,
                    1.7230923194240344,
                    1.721898376677808,
                    1.7207052612228795,
                    1.719512972486013,
                    1.7183215098943696,
                    1.7171308728755075,
                    1.7159410608573817,
                    1.7147520732683432,
                    1.7135639095371396,
                    1.7123765690929138,
                    1.7111900513652043,
                    1.7100043557839455,
                    1.7088194817794662,
                    1.7076354287824898,
                    1.7064521962241348,
                    1.7052697835359134,
                    1.7040881901497318,
                    1.70290741549789,
                    1.7017274590130813,
                    1.7005483201283917,
                    1.6993699982773005,
                    1.6981924928936794,
                    1.6970158034117926,
                    1.6958399292662956,
                    1.6946648698922366,
                    1.6934906247250543,
                    1.6923171932005794,
                    1.6911445747550329,
                    1.689972768825027,
                    1.6888017748475639,
                    1.6876315922600358,
                    1.6864622205002249,
                    1.6852936590063035,
                    1.684125907216832,
                    1.682958964570761,
                    1.681792830507429,
                    1.6806275044665637,
                    1.6794629858882806,
                    1.6782992742130831,
                    1.6771363688818623,
                    1.6759742693358972,
                    1.674812975016853,
                    1.673652485366783,
                    1.6724927998281256,
                    1.671333917843707,
                    1.6701758388567387,
                    1.669018562310818,
                    1.667862087649928,
                    1.666706414318437,
                    1.665551541761098,
                    1.664397469423049,
                    1.6632441967498128,
                    1.6620917231872956,
                    1.6609400481817882,
                    1.659789171179965,
                    1.6586390916288833,
                    1.6574898089759844,
                    1.6563413226690913,
                    1.6551936321564107,
                    1.6540467368865313,
                    1.6529006363084233,
                    1.6517553298714398,
                    1.6506108170253144,
                    1.6494670972201628,
                    1.648324169906481,
                    1.6471820345351462,
                    1.6460406905574163,
                    1.6449001374249286,
                    1.6437603745897014,
                    1.6426214015041316,
                    1.6414832176209968,
                    1.6403458223934526,
                    1.6392092152750342,
                    1.6380733957196554,
                    1.636938363181608,
                    1.6358041171155622,
                    1.6346706569765663,
                    1.6335379822200455,
                    1.6324060923018033,
                    1.6312749866780194,
                    1.6301446648052507,
                    1.6290151261404306,
                    1.6278863701408692,
                    1.6267583962642518,
                    1.62563120396864,
                    1.624504792712471,
                    1.6233791619545572,
                    1.6222543111540855,
                    1.6211302397706182,
                    1.6200069472640917,
                    1.6188844330948169,
                    1.6177626967234782,
                    1.616641737611134,
                    1.6155215552192161,
                    1.61440214900953,
                    1.6132835184442527,
                    1.612165662985935,
                    1.6110485820975005,
                    1.6099322752422436,
                    1.6088167418838315,
                    1.607701981486303,
                    1.6065879935140677,
                    1.605474777431907,
                    1.6043623327049727,
                    1.6032506587987874,
                    1.6021397551792442,
                    1.6010296213126058,
                    1.599920256665505,
                    1.5988116607049445,
                    1.597703832898296,
                    1.5965967727133,
                    1.5954904796180658,
                    1.5943849530810723,
                    1.5932801925711653,
                    1.5921761975575597,
                    1.5910729675098374,
                    1.5899705018979482,
                    1.5888688001922096,
                    1.587767861863305,
                    1.5866676863822857,
                    1.585568273220569,
                    1.5844696218499383,
                    1.5833717317425435,
                    1.5822746023708998,
                    1.581178233207888,
                    1.5800826237267542,
                    1.57898777340111,
                    1.5778936817049305,
                    1.5768003481125565,
                    1.5757077720986923,
                    1.5746159531384067,
                    1.5735248907071318,
                    1.5724345842806635,
                    1.5713450333351604,
                    1.570256237347145,
                    1.5691681957935015,
                    1.5680809081514773,
                    1.5669943738986813,
                    1.5659085925130856,
                    1.5648235634730228,
                    1.5637392862571873,
                    1.5626557603446347,
                    1.5615729852147822,
                    1.5604909603474069,
                    1.5594096852226467,
                    1.5583291593209998,
                    1.557249382123324,
                    1.5561703531108373,
                    1.5550920717651167,
                    1.5540145375680992,
                    1.5529377500020793,
                    1.551861708549712,
                    1.5507864126940096,
                    1.549711861918343,
                    1.548638055706441,
                    1.5475649935423899,
                    1.546492674910634,
                    1.5454210992959747,
                    1.54435026618357,
                    1.5432801750589349,
                    1.5422108254079407,
                    1.5411422167168156,
                    1.540074348472143,
                    1.5390072201608624,
                    1.5379408312702687,
                    1.5368751812880124,
                    1.5358102697020983,
                    1.5347460960008867,
                    1.5336826596730921,
                    1.5326199602077832,
                    1.531557997094383,
                    1.5304967698226677,
                    1.5294362778827677,
                    1.5283765207651667,
                    1.5273174979607007,
                    1.526259208960559,
                    1.525201653256284,
                    1.5241448303397693,
                    1.5230887397032613,
                    1.522033380839358,
                    1.5209787532410093,
                    1.5199248564015158,
                    1.5188716898145298,
                    1.517819252974054,
                    1.516767545374442,
                    1.5157165665103982,
                    1.5146663158769758,
                    1.5136167929695792,
                    1.5125679972839619,
                    1.5115199283162266,
                    1.5104725855628256,
                    1.5094259685205598,
                    1.508380076686579,
                    1.507334909558381,
                    1.5062904666338124,
                    1.5052467474110673,
                    1.5042037513886877,
                    1.5031614780655629,
                    1.5021199269409293,
                    1.501079097514371,
                    1.5000389892858181,
                    1.4989996017555476,
                    1.4979609344241822,
                    1.4969229867926914,
                    1.49588575836239,
                    1.4948492486349383,
                    1.4938134571123425,
                    1.492778383296953,
                    1.4917440266914657,
                    1.4907103867989204,
                    1.4896774631227023,
                    1.4886452551665397,
                    1.4876137624345052,
                    1.486582984431015,
                    1.4855529206608287,
                    1.4845235706290492,
                    1.4834949338411219,
                    1.482467009802835,
                    1.4814397980203198,
                    1.480413298000049,
                    1.4793875092488373,
                    1.478362431273842,
                    1.4773380635825608,
                    1.476314405682833,
                    1.4752914570828395,
                    1.4742692172911012,
                    1.4732476858164802,
                    1.4722268621681784,
                    1.4712067458557379,
                    1.470187336389041,
                    1.4691686332783092,
                    1.4681506360341032,
                    1.4671333441673235,
                    1.466116757189209,
                    1.4651008746113379,
                    1.4640856959456254,
                    1.4630712207043266,
                    1.4620574484000333,
                    1.461044378545676,
                    1.4600320106545215,
                    1.4590203442401752,
                    1.4580093788165789,
                    1.456999113898011,
                    1.4559895489990866,
                    1.4549806836347572,
                    1.4539725173203104,
                    1.45296504957137,
                    1.4519582799038944,
                    1.4509522078341786,
                    1.4499468328788518,
                    1.4489421545548788,
                    1.447938172379559,
                    1.4469348858705258,
                    1.4459322945457473,
                    1.4449303979235255,
                    1.4439291955224962,
                    1.4429286868616285,
                    1.4419288714602247,
                    1.4409297488379211,
                    1.4399313185146858,
                    1.43893358001082,
                    1.4379365328469573,
                    1.4369401765440633,
                    1.4359445106234354,
                    1.4349495346067034,
                    1.4339552480158273,
                    1.4329616503731,
                    1.4319687412011437,
                    1.4309765200229125,
                    1.4299849863616907,
                    1.428994139741093,
                    1.428003979685064,
                    1.4270145057178787,
                    1.4260257173641409,
                    1.4250376141487842,
                    1.4240501955970717,
                    1.4230634612345952,
                    1.4220774105872747,
                    1.4210920431813596,
                    1.4201073585434272,
                    1.4191233562003824,
                    1.4181400356794587,
                    1.4171573965082165,
                    1.416175438214544,
                    1.415194160326656,
                    1.4142135623730951,
                    1.4132336438827298,
                    1.412254404384755,
                    1.4112758434086925,
                    1.4102979604843895,
                    1.4093207551420195,
                    1.4083442269120807,
                    1.4073683753253976,
                    1.4063931999131192,
                    1.4054187002067196,
                    1.4044448757379973,
                    1.4034717260390752,
                    1.402499250642401,
                    1.401527449080746,
                    1.4005563208872047,
                    1.3995858655951958,
                    1.3986160827384613,
                    1.3976469718510662,
                    1.3966785324673976,
                    1.3957107641221664,
                    1.3947436663504054,
                    1.3937772386874694,
                    1.392811480669035,
                    1.3918463918311013,
                    1.390881971709988,
                    1.389918219842337,
                    1.3889551357651104,
                    1.3879927190155918,
                    1.3870309691313851,
                    1.3860698856504146,
                    1.3851094681109248,
                    1.3841497160514802,
                    1.3831906290109648,
                    1.3822322065285828,
                    1.3812744481438568,
                    1.380317353396629,
                    1.3793609218270606,
                    1.3784051529756307,
                    1.3774500463831376,
                    1.3764956015906973,
                    1.3755418181397436,
                    1.374588695572029,
                    1.3736362334296224,
                    1.3726844312549107,
                    1.3717332885905975,
                    1.3707828049797035,
                    1.3698329799655657,
                    1.3688838130918384,
                    1.3679353039024909,
                    1.3669874519418095,
                    1.3660402567543954,
                    1.3650937178851663,
                    1.3641478348793545,
                    1.3632026072825076,
                    1.3622580346404882,
                    1.3613141164994733,
                    1.360370852405955,
                    1.3594282419067387,
                    1.358486284548945,
                    1.3575449798800068,
                    1.356604327447672,
                    1.355664326800001,
                    1.3547249774853678,
                    1.353786279052459,
                    1.3528482310502745,
                    1.351910833028126,
                    1.3509740845356375,
                    1.3500379851227458,
                    1.3491025343396987,
                    1.3481677317370566,
                    1.3472335768656902,
                    1.3463000692767824,
                    1.3453672085218262,
                    1.3444349941526261,
                    1.3435034257212968,
                    1.3425725027802635,
                    1.3416422248822613,
                    1.3407125915803355,
                    1.339783602427841,
                    1.338855256978442,
                    1.337927554786112,
                    1.337000495405134,
                    1.3360740783900993,
                    1.3351483032959082,
                    1.3342231696777689,
                    1.3332986770911988,
                    1.3323748250920218,
                    1.331451613236371,
                    1.3305290410806863,
                    1.329607108181715,
                    1.3286858140965117,
                    1.327765158382438,
                    1.3268451405971617,
                    1.325925760298658,
                    1.3250070170452075,
                    1.3240889103953972,
                    1.3231714399081203,
                    1.3222546051425748,
                    1.321338405658265,
                    1.320422841015,
                    1.3195079107728942,
                    1.3185936144923665,
                    1.3176799517341402,
                    1.3167669220592433,
                    1.3158545250290081,
                    1.314942760205071,
                    1.314031627149371,
                    1.3131211254241522,
                    1.3122112545919609,
                    1.311302014215647,
                    1.3103934038583633,
                    1.309485423083565,
                    1.3085780714550102,
                    1.3076713485367588,
                    1.3067652538931733,
                    1.3058597870889177,
                    1.3049549476889575,
                    1.3040507352585602,
                    1.3031471493632942,
                    1.3022441895690284,
                    1.3013418554419336,
                    1.3004401465484805,
                    1.29953906245544,
                    1.2986386027298837,
                    1.2977387669391833,
                    1.2968395546510096,
                    1.2959409654333336,
                    1.2950429988544252,
                    1.2941456544828536,
                    1.293248931887487,
                    1.2923528306374923,
                    1.291457350302335,
                    1.290562490451779,
                    1.2896682506558859,
                    1.2887746304850156,
                    1.2878816295098254,
                    1.2869892473012707,
                    1.2860974834306034,
                    1.285206337469373,
                    1.2843158089894255,
                    1.2834258975629043,
                    1.282536602762248,
                    1.281647924160193,
                    1.2807598613297704,
                    1.2798724138443078,
                    1.2789855812774287,
                    1.2780993632030515,
                    1.2772137591953898,
                    1.2763287688289529,
                    1.2754443916785443,
                    1.2745606273192622,
                    1.2736774753264994,
                    1.272794935275943,
                    1.2719130067435738,
                    1.2710316893056666,
                    1.2701509825387896,
                    1.269270886019805,
                    1.268391399325867,
                    1.2675125220344245,
                    1.2666342537232178,
                    1.26575659397028,
                    1.264879542353937,
                    1.2640030984528068,
                    1.2631272618457992,
                    1.2622520321121156,
                    1.2613774088312495,
                    1.2605033915829855,
                    1.2596299799473993,
                    1.2587571735048577,
                    1.2578849718360179,
                    1.2570133745218284,
                    1.2561423811435273,
                    1.2552719912826433,
                    1.2544022045209948,
                    1.2535330204406905,
                    1.252664438624128,
                    1.2517964586539942,
                    1.2509290801132662,
                    1.2500623025852091,
                    1.2491961256533768,
                    1.2483305489016119,
                    1.2474655719140457,
                    1.2466011942750974,
                    1.2457374155694738,
                    1.2448742353821702,
                    1.2440116532984689,
                    1.2431496689039396,
                    1.2422882817844394,
                    1.2414274915261123,
                    1.240567297715389,
                    1.2397076999389867,
                    1.2388486977839088,
                    1.2379902908374456,
                    1.2371324786871727,
                    1.2362752609209515,
                    1.2354186371269291,
                    1.2345626068935383,
                    1.2337071698094966,
                    1.2328523254638066,
                    1.2319980734457558,
                    1.2311444133449163,
                    1.2302913447511443,
                    1.2294388672545808,
                    1.22858698044565,
                    1.2277356839150604,
                    1.226884977253804,
                    1.2260348600531563,
                    1.225185331904676,
                    1.2243363924002044,
                    1.2234880411318663,
                    1.2226402776920686,
                    1.2217931016735006,
                    1.2209465126691343,
                    1.2201005102722233,
                    1.2192550940763032,
                    1.2184102636751912,
                    1.2175660186629862,
                    1.2167223586340679,
                    1.2158792831830971,
                    1.215036791905016,
                    1.214194884395047,
                    1.213353560248693,
                    1.2125128190617371,
                    1.211672660430243,
                    1.210833083950554,
                    1.2099940892192926,
                    1.2091556758333615,
                    1.2083178433899424,
                    1.2074805914864963,
                    1.2066439197207628,
                    1.2058078276907604,
                    1.2049723149947862,
                    1.2041373812314158,
                    1.2033030259995023,
                    1.2024692488981776,
                    1.2016360495268508,
                    1.2008034274852086,
                    1.1999713823732154,
                    1.1991399137911127,
                    1.1983090213394187,
                    1.1974787046189286,
                    1.1966489632307145,
                    1.195819796776124,
                    1.1949912048567823,
                    1.1941631870745895,
                    1.193335743031722,
                    1.1925088723306316,
                    1.1916825745740462,
                    1.1908568493649683,
                    1.1900316963066757,
                    1.189207115002721,
                    1.188383105056932,
                    1.1875596660734102,
                    1.1867367976565322,
                    1.185914499410948,
                    1.1850927709415822,
                    1.1842716118536327,
                    1.183451021752571,
                    1.1826310002441427,
                    1.1818115469343653,
                    1.1809926614295305,
                    1.1801743433362017,
                    1.1793565922612161,
                    1.1785394078116822,
                    1.1777227895949816,
                    1.1769067372187674,
                    1.1760912502909648,
                    1.1752763284197707,
                    1.1744619712136535,
                    1.1736481782813526,
                    1.1728349492318788,
                    1.1720222836745138,
                    1.1712101812188098,
                    1.17039864147459,
                    1.1695876640519474,
                    1.1687772485612455,
                    1.167967394613118,
                    1.1671581018184676,
                    1.1663493697884675,
                    1.1655411981345596,
                    1.1647335864684558,
                    1.1639265344021363,
                    1.1631200415478509,
                    1.1623141075181171,
                    1.161508731925722,
                    1.1607039143837203,
                    1.1598996545054345,
                    1.159095951904456,
                    1.1582928061946431,
                    1.1574902169901227,
                    1.1566881839052874,
                    1.1558867065547986,
                    1.1550857845535842,
                    1.1542854175168384,
                    1.1534856050600224,
                    1.1526863467988644,
                    1.1518876423493576,
                    1.1510894913277627,
                    1.1502918933506052,
                    1.149494848034677,
                    1.148698354997035,
                    1.147902413855002,
                    1.1471070242261654,
                    1.146312185728378,
                    1.145517897979757,
                    1.1447241605986846,
                    1.1439309732038074,
                    1.143138335414036,
                    1.1423462468485452,
                    1.1415547071267738,
                    1.1407637158684236,
                    1.139973272693461,
                    1.139183377222115,
                    1.1383940290748777,
                    1.1376052278725048,
                    1.136816973236014,
                    1.1360292647866863,
                    1.1352421021460646,
                    1.1344554849359543,
                    1.1336694127784224,
                    1.1328838852957988,
                    1.1320989021106738,
                    1.1313144628459004,
                    1.1305305671245918,
                    1.1297472145701237,
                    1.1289644048061314,
                    1.1281821374565115,
                    1.1274004121454215,
                    1.1266192284972794,
                    1.1258385861367626,
                    1.1250584846888094,
                    1.1242789237786175,
                    1.123499903031645,
                    1.1227214220736084,
                    1.1219434805304846,
                    1.1211660780285089,
                    1.120389214194176,
                    1.1196128886542394,
                    1.1188371010357112,
                    1.1180618509658617,
                    1.11728713807222,
                    1.1165129619825724,
                    1.1157393223249643,
                    1.1149662187276974,
                    1.1141936508193324,
                    1.1134216182286865,
                    1.112650120584834,
                    1.111879157517107,
                    1.1111087286550936,
                    1.1103388336286393,
                    1.109569472067845,
                    1.1088006436030693,
                    1.1080323478649259,
                    1.107264584484285,
                    1.1064973530922722,
                    1.1057306533202689,
                    1.1049644847999116,
                    1.104198847163093,
                    1.1034337400419594,
                    1.1026691630689132,
                    1.1019051158766107,
                    1.1011415980979635,
                    1.1003786093661372,
                    1.0996161493145513,
                    1.0988542175768796,
                    1.0980928137870498,
                    1.097331937579243,
                    1.0965715885878942,
                    1.095811766447691,
                    1.0950524707935747,
                    1.0942937012607394,
                    1.0935354574846323,
                    1.0927777391009523,
                    1.092020545745652,
                    1.091263877054935,
                    1.0905077326652577,
                    1.0897521122133282,
                    1.0889970153361064,
                    1.0882424416708039,
                    1.087488390854883,
                    1.0867348625260582,
                    1.0859818563222943,
                    1.0852293718818071,
                    1.0844774088430633,
                    1.0837259668447803,
                    1.0829750455259248,
                    1.0822246445257149,
                    1.081474763483618,
                    1.0807254020393515,
                    1.0799765598328823,
                    1.0792282365044272,
                    1.0784804316944516,
                    1.077733145043671,
                    1.0769863761930485,
                    1.0762401247837972,
                    1.0754943904573782,
                    1.0747491728555012,
                    1.0740044716201245,
                    1.0732602863934535,
                    1.0725166168179425,
                    1.0717734625362931,
                    1.0710308231914547,
                    1.070288698426624,
                    1.0695470878852447,
                    1.068805991211008,
                    1.0680654080478518,
                    1.06732533803996,
                    1.0665857808317645,
                    1.0658467360679424,
                    1.0651082033934178,
                    1.0643701824533598,
                    1.0636326728931846,
                    1.0628956743585531,
                    1.0621591864953726,
                    1.0614232089497946,
                    1.060687741368217,
                    1.0599527833972817,
                    1.0592183346838764,
                    1.0584843948751328,
                    1.0577509636184272,
                    1.0570180405613803,
                    1.0562856253518573,
                    1.0555537176379668,
                    1.0548223170680615,
                    1.054091423290738,
                    1.053361035954836,
                    1.0526311547094385,
                    1.0519017792038723,
                    1.0511729090877064,
                    1.0504445440107533,
                    1.0497166836230674,
                    1.048989327574946,
                    1.0482624755169287,
                    1.0475361270997974,
                    1.046810281974576,
                    1.0460849397925291,
                    1.045360100205165,
                    1.0446357628642315,
                    1.043911927421719,
                    1.0431885935298582,
                    1.0424657608411214,
                    1.0417434290082213,
                    1.0410215976841115,
                    1.0403002665219858,
                    1.0395794351752787,
                    1.0388591032976644,
                    1.0381392705430572,
                    1.0374199365656114,
                    1.036701101019721,
                    1.0359827635600185,
                    1.0352649238413776,
                    1.0345475815189091,
                    1.0338307362479644,
                    1.0331143876841324,
                    1.032398535483242,
                    1.031683179301359,
                    1.030968318794789,
                    1.0302539536200745,
                    1.0295400834339972,
                    1.0288267078935756,
                    1.0281138266560665,
                    1.0274014393789639,
                    1.0266895457199992,
                    1.0259781453371404,
                    1.0252672378885939,
                    1.0245568230328015,
                    1.0238469004284423,
                    1.023137469734432,
                    1.0224285306099223,
                    1.0217200827143016,
                    1.0210121257071934,
                    1.020304659248458,
                    1.0195976829981905,
                    1.018891196616723,
                    1.0181851997646207,
                    1.0174796921026865,
                    1.0167746732919563,
                    1.016070142993702,
                    1.0153661008694297,
                    1.0146625465808805,
                    1.013959479790029,
                    1.0132569001590856,
                    1.0125548073504929,
                    1.0118532010269288,
                    1.0111520808513041,
                    1.0104514464867638,
                    1.0097512975966858,
                    1.0090516338446813,
                    1.008352454894595,
                    1.0076537604105043,
                    1.0069555500567187,
                    1.0062578234977817,
                    1.0055605803984682,
                    1.0048638204237854,
                    1.0041675432389732,
                    1.0034717485095028,
                    1.0027764359010778,
                    1.0020816050796328,
                    1.0013872557113346,
                    1.0006933874625805
                  ],
                  "yaxis": "y2"
                }
              ],
              "layout": {
                "annotations": [
                  {
                    "font": {
                      "size": 16
                    },
                    "showarrow": false,
                    "text": "learning_rate",
                    "x": 0.225,
                    "xanchor": "center",
                    "xref": "paper",
                    "y": 1,
                    "yanchor": "bottom",
                    "yref": "paper"
                  },
                  {
                    "font": {
                      "size": 16
                    },
                    "showarrow": false,
                    "text": "radius",
                    "x": 0.775,
                    "xanchor": "center",
                    "xref": "paper",
                    "y": 1,
                    "yanchor": "bottom",
                    "yref": "paper"
                  }
                ],
                "template": {
                  "data": {
                    "bar": [
                      {
                        "error_x": {
                          "color": "#2a3f5f"
                        },
                        "error_y": {
                          "color": "#2a3f5f"
                        },
                        "marker": {
                          "line": {
                            "color": "#E5ECF6",
                            "width": 0.5
                          },
                          "pattern": {
                            "fillmode": "overlay",
                            "size": 10,
                            "solidity": 0.2
                          }
                        },
                        "type": "bar"
                      }
                    ],
                    "barpolar": [
                      {
                        "marker": {
                          "line": {
                            "color": "#E5ECF6",
                            "width": 0.5
                          },
                          "pattern": {
                            "fillmode": "overlay",
                            "size": 10,
                            "solidity": 0.2
                          }
                        },
                        "type": "barpolar"
                      }
                    ],
                    "carpet": [
                      {
                        "aaxis": {
                          "endlinecolor": "#2a3f5f",
                          "gridcolor": "white",
                          "linecolor": "white",
                          "minorgridcolor": "white",
                          "startlinecolor": "#2a3f5f"
                        },
                        "baxis": {
                          "endlinecolor": "#2a3f5f",
                          "gridcolor": "white",
                          "linecolor": "white",
                          "minorgridcolor": "white",
                          "startlinecolor": "#2a3f5f"
                        },
                        "type": "carpet"
                      }
                    ],
                    "choropleth": [
                      {
                        "colorbar": {
                          "outlinewidth": 0,
                          "ticks": ""
                        },
                        "type": "choropleth"
                      }
                    ],
                    "contour": [
                      {
                        "colorbar": {
                          "outlinewidth": 0,
                          "ticks": ""
                        },
                        "colorscale": [
                          [
                            0,
                            "#0d0887"
                          ],
                          [
                            0.1111111111111111,
                            "#46039f"
                          ],
                          [
                            0.2222222222222222,
                            "#7201a8"
                          ],
                          [
                            0.3333333333333333,
                            "#9c179e"
                          ],
                          [
                            0.4444444444444444,
                            "#bd3786"
                          ],
                          [
                            0.5555555555555556,
                            "#d8576b"
                          ],
                          [
                            0.6666666666666666,
                            "#ed7953"
                          ],
                          [
                            0.7777777777777778,
                            "#fb9f3a"
                          ],
                          [
                            0.8888888888888888,
                            "#fdca26"
                          ],
                          [
                            1,
                            "#f0f921"
                          ]
                        ],
                        "type": "contour"
                      }
                    ],
                    "contourcarpet": [
                      {
                        "colorbar": {
                          "outlinewidth": 0,
                          "ticks": ""
                        },
                        "type": "contourcarpet"
                      }
                    ],
                    "heatmap": [
                      {
                        "colorbar": {
                          "outlinewidth": 0,
                          "ticks": ""
                        },
                        "colorscale": [
                          [
                            0,
                            "#0d0887"
                          ],
                          [
                            0.1111111111111111,
                            "#46039f"
                          ],
                          [
                            0.2222222222222222,
                            "#7201a8"
                          ],
                          [
                            0.3333333333333333,
                            "#9c179e"
                          ],
                          [
                            0.4444444444444444,
                            "#bd3786"
                          ],
                          [
                            0.5555555555555556,
                            "#d8576b"
                          ],
                          [
                            0.6666666666666666,
                            "#ed7953"
                          ],
                          [
                            0.7777777777777778,
                            "#fb9f3a"
                          ],
                          [
                            0.8888888888888888,
                            "#fdca26"
                          ],
                          [
                            1,
                            "#f0f921"
                          ]
                        ],
                        "type": "heatmap"
                      }
                    ],
                    "heatmapgl": [
                      {
                        "colorbar": {
                          "outlinewidth": 0,
                          "ticks": ""
                        },
                        "colorscale": [
                          [
                            0,
                            "#0d0887"
                          ],
                          [
                            0.1111111111111111,
                            "#46039f"
                          ],
                          [
                            0.2222222222222222,
                            "#7201a8"
                          ],
                          [
                            0.3333333333333333,
                            "#9c179e"
                          ],
                          [
                            0.4444444444444444,
                            "#bd3786"
                          ],
                          [
                            0.5555555555555556,
                            "#d8576b"
                          ],
                          [
                            0.6666666666666666,
                            "#ed7953"
                          ],
                          [
                            0.7777777777777778,
                            "#fb9f3a"
                          ],
                          [
                            0.8888888888888888,
                            "#fdca26"
                          ],
                          [
                            1,
                            "#f0f921"
                          ]
                        ],
                        "type": "heatmapgl"
                      }
                    ],
                    "histogram": [
                      {
                        "marker": {
                          "pattern": {
                            "fillmode": "overlay",
                            "size": 10,
                            "solidity": 0.2
                          }
                        },
                        "type": "histogram"
                      }
                    ],
                    "histogram2d": [
                      {
                        "colorbar": {
                          "outlinewidth": 0,
                          "ticks": ""
                        },
                        "colorscale": [
                          [
                            0,
                            "#0d0887"
                          ],
                          [
                            0.1111111111111111,
                            "#46039f"
                          ],
                          [
                            0.2222222222222222,
                            "#7201a8"
                          ],
                          [
                            0.3333333333333333,
                            "#9c179e"
                          ],
                          [
                            0.4444444444444444,
                            "#bd3786"
                          ],
                          [
                            0.5555555555555556,
                            "#d8576b"
                          ],
                          [
                            0.6666666666666666,
                            "#ed7953"
                          ],
                          [
                            0.7777777777777778,
                            "#fb9f3a"
                          ],
                          [
                            0.8888888888888888,
                            "#fdca26"
                          ],
                          [
                            1,
                            "#f0f921"
                          ]
                        ],
                        "type": "histogram2d"
                      }
                    ],
                    "histogram2dcontour": [
                      {
                        "colorbar": {
                          "outlinewidth": 0,
                          "ticks": ""
                        },
                        "colorscale": [
                          [
                            0,
                            "#0d0887"
                          ],
                          [
                            0.1111111111111111,
                            "#46039f"
                          ],
                          [
                            0.2222222222222222,
                            "#7201a8"
                          ],
                          [
                            0.3333333333333333,
                            "#9c179e"
                          ],
                          [
                            0.4444444444444444,
                            "#bd3786"
                          ],
                          [
                            0.5555555555555556,
                            "#d8576b"
                          ],
                          [
                            0.6666666666666666,
                            "#ed7953"
                          ],
                          [
                            0.7777777777777778,
                            "#fb9f3a"
                          ],
                          [
                            0.8888888888888888,
                            "#fdca26"
                          ],
                          [
                            1,
                            "#f0f921"
                          ]
                        ],
                        "type": "histogram2dcontour"
                      }
                    ],
                    "mesh3d": [
                      {
                        "colorbar": {
                          "outlinewidth": 0,
                          "ticks": ""
                        },
                        "type": "mesh3d"
                      }
                    ],
                    "parcoords": [
                      {
                        "line": {
                          "colorbar": {
                            "outlinewidth": 0,
                            "ticks": ""
                          }
                        },
                        "type": "parcoords"
                      }
                    ],
                    "pie": [
                      {
                        "automargin": true,
                        "type": "pie"
                      }
                    ],
                    "scatter": [
                      {
                        "fillpattern": {
                          "fillmode": "overlay",
                          "size": 10,
                          "solidity": 0.2
                        },
                        "type": "scatter"
                      }
                    ],
                    "scatter3d": [
                      {
                        "line": {
                          "colorbar": {
                            "outlinewidth": 0,
                            "ticks": ""
                          }
                        },
                        "marker": {
                          "colorbar": {
                            "outlinewidth": 0,
                            "ticks": ""
                          }
                        },
                        "type": "scatter3d"
                      }
                    ],
                    "scattercarpet": [
                      {
                        "marker": {
                          "colorbar": {
                            "outlinewidth": 0,
                            "ticks": ""
                          }
                        },
                        "type": "scattercarpet"
                      }
                    ],
                    "scattergeo": [
                      {
                        "marker": {
                          "colorbar": {
                            "outlinewidth": 0,
                            "ticks": ""
                          }
                        },
                        "type": "scattergeo"
                      }
                    ],
                    "scattergl": [
                      {
                        "marker": {
                          "colorbar": {
                            "outlinewidth": 0,
                            "ticks": ""
                          }
                        },
                        "type": "scattergl"
                      }
                    ],
                    "scattermapbox": [
                      {
                        "marker": {
                          "colorbar": {
                            "outlinewidth": 0,
                            "ticks": ""
                          }
                        },
                        "type": "scattermapbox"
                      }
                    ],
                    "scatterpolar": [
                      {
                        "marker": {
                          "colorbar": {
                            "outlinewidth": 0,
                            "ticks": ""
                          }
                        },
                        "type": "scatterpolar"
                      }
                    ],
                    "scatterpolargl": [
                      {
                        "marker": {
                          "colorbar": {
                            "outlinewidth": 0,
                            "ticks": ""
                          }
                        },
                        "type": "scatterpolargl"
                      }
                    ],
                    "scatterternary": [
                      {
                        "marker": {
                          "colorbar": {
                            "outlinewidth": 0,
                            "ticks": ""
                          }
                        },
                        "type": "scatterternary"
                      }
                    ],
                    "surface": [
                      {
                        "colorbar": {
                          "outlinewidth": 0,
                          "ticks": ""
                        },
                        "colorscale": [
                          [
                            0,
                            "#0d0887"
                          ],
                          [
                            0.1111111111111111,
                            "#46039f"
                          ],
                          [
                            0.2222222222222222,
                            "#7201a8"
                          ],
                          [
                            0.3333333333333333,
                            "#9c179e"
                          ],
                          [
                            0.4444444444444444,
                            "#bd3786"
                          ],
                          [
                            0.5555555555555556,
                            "#d8576b"
                          ],
                          [
                            0.6666666666666666,
                            "#ed7953"
                          ],
                          [
                            0.7777777777777778,
                            "#fb9f3a"
                          ],
                          [
                            0.8888888888888888,
                            "#fdca26"
                          ],
                          [
                            1,
                            "#f0f921"
                          ]
                        ],
                        "type": "surface"
                      }
                    ],
                    "table": [
                      {
                        "cells": {
                          "fill": {
                            "color": "#EBF0F8"
                          },
                          "line": {
                            "color": "white"
                          }
                        },
                        "header": {
                          "fill": {
                            "color": "#C8D4E3"
                          },
                          "line": {
                            "color": "white"
                          }
                        },
                        "type": "table"
                      }
                    ]
                  },
                  "layout": {
                    "annotationdefaults": {
                      "arrowcolor": "#2a3f5f",
                      "arrowhead": 0,
                      "arrowwidth": 1
                    },
                    "autotypenumbers": "strict",
                    "coloraxis": {
                      "colorbar": {
                        "outlinewidth": 0,
                        "ticks": ""
                      }
                    },
                    "colorscale": {
                      "diverging": [
                        [
                          0,
                          "#8e0152"
                        ],
                        [
                          0.1,
                          "#c51b7d"
                        ],
                        [
                          0.2,
                          "#de77ae"
                        ],
                        [
                          0.3,
                          "#f1b6da"
                        ],
                        [
                          0.4,
                          "#fde0ef"
                        ],
                        [
                          0.5,
                          "#f7f7f7"
                        ],
                        [
                          0.6,
                          "#e6f5d0"
                        ],
                        [
                          0.7,
                          "#b8e186"
                        ],
                        [
                          0.8,
                          "#7fbc41"
                        ],
                        [
                          0.9,
                          "#4d9221"
                        ],
                        [
                          1,
                          "#276419"
                        ]
                      ],
                      "sequential": [
                        [
                          0,
                          "#0d0887"
                        ],
                        [
                          0.1111111111111111,
                          "#46039f"
                        ],
                        [
                          0.2222222222222222,
                          "#7201a8"
                        ],
                        [
                          0.3333333333333333,
                          "#9c179e"
                        ],
                        [
                          0.4444444444444444,
                          "#bd3786"
                        ],
                        [
                          0.5555555555555556,
                          "#d8576b"
                        ],
                        [
                          0.6666666666666666,
                          "#ed7953"
                        ],
                        [
                          0.7777777777777778,
                          "#fb9f3a"
                        ],
                        [
                          0.8888888888888888,
                          "#fdca26"
                        ],
                        [
                          1,
                          "#f0f921"
                        ]
                      ],
                      "sequentialminus": [
                        [
                          0,
                          "#0d0887"
                        ],
                        [
                          0.1111111111111111,
                          "#46039f"
                        ],
                        [
                          0.2222222222222222,
                          "#7201a8"
                        ],
                        [
                          0.3333333333333333,
                          "#9c179e"
                        ],
                        [
                          0.4444444444444444,
                          "#bd3786"
                        ],
                        [
                          0.5555555555555556,
                          "#d8576b"
                        ],
                        [
                          0.6666666666666666,
                          "#ed7953"
                        ],
                        [
                          0.7777777777777778,
                          "#fb9f3a"
                        ],
                        [
                          0.8888888888888888,
                          "#fdca26"
                        ],
                        [
                          1,
                          "#f0f921"
                        ]
                      ]
                    },
                    "colorway": [
                      "#636efa",
                      "#EF553B",
                      "#00cc96",
                      "#ab63fa",
                      "#FFA15A",
                      "#19d3f3",
                      "#FF6692",
                      "#B6E880",
                      "#FF97FF",
                      "#FECB52"
                    ],
                    "font": {
                      "color": "#2a3f5f"
                    },
                    "geo": {
                      "bgcolor": "white",
                      "lakecolor": "white",
                      "landcolor": "#E5ECF6",
                      "showlakes": true,
                      "showland": true,
                      "subunitcolor": "white"
                    },
                    "hoverlabel": {
                      "align": "left"
                    },
                    "hovermode": "closest",
                    "mapbox": {
                      "style": "light"
                    },
                    "paper_bgcolor": "white",
                    "plot_bgcolor": "#E5ECF6",
                    "polar": {
                      "angularaxis": {
                        "gridcolor": "white",
                        "linecolor": "white",
                        "ticks": ""
                      },
                      "bgcolor": "#E5ECF6",
                      "radialaxis": {
                        "gridcolor": "white",
                        "linecolor": "white",
                        "ticks": ""
                      }
                    },
                    "scene": {
                      "xaxis": {
                        "backgroundcolor": "#E5ECF6",
                        "gridcolor": "white",
                        "gridwidth": 2,
                        "linecolor": "white",
                        "showbackground": true,
                        "ticks": "",
                        "zerolinecolor": "white"
                      },
                      "yaxis": {
                        "backgroundcolor": "#E5ECF6",
                        "gridcolor": "white",
                        "gridwidth": 2,
                        "linecolor": "white",
                        "showbackground": true,
                        "ticks": "",
                        "zerolinecolor": "white"
                      },
                      "zaxis": {
                        "backgroundcolor": "#E5ECF6",
                        "gridcolor": "white",
                        "gridwidth": 2,
                        "linecolor": "white",
                        "showbackground": true,
                        "ticks": "",
                        "zerolinecolor": "white"
                      }
                    },
                    "shapedefaults": {
                      "line": {
                        "color": "#2a3f5f"
                      }
                    },
                    "ternary": {
                      "aaxis": {
                        "gridcolor": "white",
                        "linecolor": "white",
                        "ticks": ""
                      },
                      "baxis": {
                        "gridcolor": "white",
                        "linecolor": "white",
                        "ticks": ""
                      },
                      "bgcolor": "#E5ECF6",
                      "caxis": {
                        "gridcolor": "white",
                        "linecolor": "white",
                        "ticks": ""
                      }
                    },
                    "title": {
                      "x": 0.05
                    },
                    "xaxis": {
                      "automargin": true,
                      "gridcolor": "white",
                      "linecolor": "white",
                      "ticks": "",
                      "title": {
                        "standoff": 15
                      },
                      "zerolinecolor": "white",
                      "zerolinewidth": 2
                    },
                    "yaxis": {
                      "automargin": true,
                      "gridcolor": "white",
                      "linecolor": "white",
                      "ticks": "",
                      "title": {
                        "standoff": 15
                      },
                      "zerolinecolor": "white",
                      "zerolinewidth": 2
                    }
                  }
                },
                "xaxis": {
                  "anchor": "y",
                  "domain": [
                    0,
                    0.45
                  ]
                },
                "xaxis2": {
                  "anchor": "y2",
                  "domain": [
                    0.55,
                    1
                  ]
                },
                "yaxis": {
                  "anchor": "x",
                  "domain": [
                    0,
                    1
                  ]
                },
                "yaxis2": {
                  "anchor": "x2",
                  "domain": [
                    0,
                    1
                  ]
                }
              }
            }
          },
          "metadata": {},
          "output_type": "display_data"
        }
      ],
      "source": [
        "ticker = np.arange(0, epochs, 1)\n",
        "\n",
        "figure = make_subplots(rows=1, cols=2, subplot_titles=[\"learning_rate\", \"radius\"])\n",
        "figure.add_trace(go.Scatter(x=ticker, y=kohonen.maslr, name=\"learning_rate\"), col=1, row=1)\n",
        "figure.add_trace(go.Scatter(x=ticker, y=kohonen.masr, name=\"radius\"), col=2, row=1)\n",
        "\n",
        "figure.show()"
      ]
    },
    {
      "cell_type": "code",
      "execution_count": 11,
      "metadata": {
        "colab": {
          "base_uri": "https://localhost:8080/",
          "height": 320
        },
        "id": "3MiaJ3vdYpEZ",
        "outputId": "0e3a9c0f-966e-43ce-b1b3-6e9c02f13065"
      },
      "outputs": [
        {
          "data": {
            "application/vnd.plotly.v1+json": {
              "config": {
                "plotlyServerURL": "https://plot.ly"
              },
              "data": [
                {
                  "hovertemplate": "x=%{x}<br>y=%{y}<extra></extra>",
                  "legendgroup": "",
                  "marker": {
                    "color": "#636efa",
                    "symbol": "circle"
                  },
                  "mode": "markers",
                  "name": "",
                  "orientation": "v",
                  "showlegend": false,
                  "type": "scatter",
                  "x": [
                    -2.7768702545837973,
                    -9.477136166579731,
                    -0.46064202604701254,
                    -1.8684541393232976,
                    -3.103673711378109,
                    -9.317642663774997,
                    -1.6087521511724905,
                    -2.351220657673829,
                    -10.02232945952888,
                    -9.765217944474363,
                    -9.556348060084519,
                    -9.128826346647234,
                    -9.195851471781756,
                    -11.227770639320063,
                    -1.1710417594110225,
                    -2.034844856038634,
                    -9.502501179675141,
                    -7.807012774683368,
                    -10.263931009656723,
                    -11.196980535988288,
                    -2.3308060367853387,
                    -9.338662707552892,
                    -2.8020781039706595,
                    -1.8319881134989553,
                    -1.9274479855745354,
                    -1.4686444212810534,
                    -1.9657639185768914,
                    -0.19745196890354544,
                    0.08525185826796045,
                    -0.5279305184970926,
                    -2.187731658211975,
                    -2.346732606068119,
                    -0.757969185355724,
                    -2.0034135815195953,
                    -11.092624349394143,
                    -9.980303095353097,
                    -1.7824501314671677,
                    -1.8818880485588787,
                    -9.74891334226533,
                    -1.8513954583101344,
                    -9.647166524988995,
                    -2.1066884707345177,
                    -0.8205764920740146,
                    -10.398590695442028,
                    -1.1466300855305107,
                    -8.370061750504195,
                    -1.9819771099620271,
                    -2.406718199699357,
                    -8.837373933659332,
                    -1.3739725806942609,
                    -10.178632805731251,
                    -9.186760830849545,
                    -0.5257904636130821,
                    -9.434951407034076,
                    -8.09305379531212,
                    -2.760179083161441,
                    -10.30782927717116,
                    -9.717047426530462,
                    -1.2360655518844066,
                    -1.6173461592329268,
                    -1.4729985149602352,
                    -10.036408012919152,
                    -1.3439249587069142,
                    -7.469386796846703,
                    -1.4294651705841361,
                    -8.66625539106551,
                    -8.723956573494325,
                    -9.257156052556827,
                    -11.370829823899857,
                    -11.270271258899095,
                    -10.51480696157333,
                    -9.395393223357473,
                    -8.958887901793688,
                    -1.5377386349570825,
                    -10.108159530070418,
                    -0.794152276623841,
                    -0.7587039566841077,
                    -9.5942208618623,
                    -9.01137731583186,
                    -1.4612601858217498,
                    -1.5394009534668904,
                    -10.64462919190801,
                    -9.151551856068068,
                    -1.499522836500689,
                    -11.855694368099854,
                    -2.4139578469451726,
                    -1.359389585992692,
                    -10.18428227556045,
                    0.00024227116135100424,
                    -2.3302221922375503,
                    -9.494527690217776,
                    -10.134157247549135,
                    -9.468247179300391,
                    -2.279560749896649,
                    0.5260155005846419,
                    -9.954043510474712,
                    -8.876294795417436,
                    -9.204905637733754,
                    -9.919891375740395,
                    -1.340520809891421
                  ],
                  "xaxis": "x",
                  "y": [
                    4.640905566660254,
                    -5.097689936986347,
                    4.591646286327105,
                    4.993113060025359,
                    3.90202400589671,
                    -4.273150146261876,
                    3.769494222273808,
                    4.0097363419871845,
                    -4.728510166532364,
                    -3.2707971404987193,
                    -4.053503780646705,
                    -3.2029369074981964,
                    -3.906781248939059,
                    -3.402811051386989,
                    4.330918155822106,
                    3.7677594613889394,
                    -4.128051707105706,
                    -5.849709470254297,
                    -3.920734000669846,
                    -3.090003229819183,
                    4.39382526992426,
                    -5.580786887979462,
                    4.057147146430284,
                    3.5286314509217895,
                    4.9368453355813475,
                    6.506745005322004,
                    5.234464511450407,
                    2.3463491593455075,
                    3.6452829679480585,
                    5.92630668526536,
                    3.333521246686991,
                    3.561284227344442,
                    4.908984207745029,
                    4.450086725677409,
                    -3.7839661143045364,
                    -5.075367276110093,
                    3.4707204345840927,
                    4.205731799913164,
                    -4.249989699734067,
                    3.5188609047583252,
                    -5.265631958600636,
                    5.63099757364866,
                    5.337591950146718,
                    -3.1293429289127968,
                    4.108397033740446,
                    -3.615336850788729,
                    4.022435514174746,
                    6.098944469870908,
                    -3.583855830987481,
                    5.291631033113889,
                    -4.557269175156462,
                    -2.9089064526559456,
                    3.3065986015291307,
                    -3.7126114551254723,
                    -2.8422918488027,
                    5.551213578682775,
                    -6.388186311470344,
                    -4.026461251110482,
                    4.483829937191721,
                    4.9893050825589835,
                    4.816541516051418,
                    -5.5691209020665,
                    2.3842886530191585,
                    -4.201983325078665,
                    5.168501049155187,
                    -4.2406564108392235,
                    -1.98624679810847,
                    -4.907049149171139,
                    -3.6381891553209127,
                    -3.6398008268997724,
                    -4.950375375013468,
                    -3.533066343716145,
                    -1.766368900388947,
                    5.535973776755081,
                    -4.570710611075565,
                    2.104951171962879,
                    3.7227620096688283,
                    -3.3597700241261377,
                    -3.739814646027763,
                    4.525498514650621,
                    5.023692978550581,
                    -3.0518616557144935,
                    -4.812864488195191,
                    5.282658789959386,
                    -2.7171845169103843,
                    5.659358024076449,
                    4.054240022349643,
                    -4.05509441989235,
                    5.148534029420497,
                    4.784053655164081,
                    -2.6601226648309426,
                    -4.072402735138015,
                    -3.8156473373658186,
                    5.104521902915381,
                    3.009993533355024,
                    -4.17966278987681,
                    -3.544448009426377,
                    -4.5768792770429965,
                    -3.3349682853646803,
                    4.157119493365752
                  ],
                  "yaxis": "y"
                },
                {
                  "mode": "markers",
                  "name": "nodes",
                  "type": "scatter",
                  "x": [
                    -9.545780052949931,
                    -11.399754408271864,
                    -1.0075984729792806,
                    7.443246079382725,
                    -9.493808182680974
                  ],
                  "y": [
                    -3.3163949895776166,
                    -2.9874638597232117,
                    4.040015910819267,
                    0,
                    -4.361960651930882
                  ]
                }
              ],
              "layout": {
                "legend": {
                  "tracegroupgap": 0
                },
                "template": {
                  "data": {
                    "bar": [
                      {
                        "error_x": {
                          "color": "#2a3f5f"
                        },
                        "error_y": {
                          "color": "#2a3f5f"
                        },
                        "marker": {
                          "line": {
                            "color": "#E5ECF6",
                            "width": 0.5
                          },
                          "pattern": {
                            "fillmode": "overlay",
                            "size": 10,
                            "solidity": 0.2
                          }
                        },
                        "type": "bar"
                      }
                    ],
                    "barpolar": [
                      {
                        "marker": {
                          "line": {
                            "color": "#E5ECF6",
                            "width": 0.5
                          },
                          "pattern": {
                            "fillmode": "overlay",
                            "size": 10,
                            "solidity": 0.2
                          }
                        },
                        "type": "barpolar"
                      }
                    ],
                    "carpet": [
                      {
                        "aaxis": {
                          "endlinecolor": "#2a3f5f",
                          "gridcolor": "white",
                          "linecolor": "white",
                          "minorgridcolor": "white",
                          "startlinecolor": "#2a3f5f"
                        },
                        "baxis": {
                          "endlinecolor": "#2a3f5f",
                          "gridcolor": "white",
                          "linecolor": "white",
                          "minorgridcolor": "white",
                          "startlinecolor": "#2a3f5f"
                        },
                        "type": "carpet"
                      }
                    ],
                    "choropleth": [
                      {
                        "colorbar": {
                          "outlinewidth": 0,
                          "ticks": ""
                        },
                        "type": "choropleth"
                      }
                    ],
                    "contour": [
                      {
                        "colorbar": {
                          "outlinewidth": 0,
                          "ticks": ""
                        },
                        "colorscale": [
                          [
                            0,
                            "#0d0887"
                          ],
                          [
                            0.1111111111111111,
                            "#46039f"
                          ],
                          [
                            0.2222222222222222,
                            "#7201a8"
                          ],
                          [
                            0.3333333333333333,
                            "#9c179e"
                          ],
                          [
                            0.4444444444444444,
                            "#bd3786"
                          ],
                          [
                            0.5555555555555556,
                            "#d8576b"
                          ],
                          [
                            0.6666666666666666,
                            "#ed7953"
                          ],
                          [
                            0.7777777777777778,
                            "#fb9f3a"
                          ],
                          [
                            0.8888888888888888,
                            "#fdca26"
                          ],
                          [
                            1,
                            "#f0f921"
                          ]
                        ],
                        "type": "contour"
                      }
                    ],
                    "contourcarpet": [
                      {
                        "colorbar": {
                          "outlinewidth": 0,
                          "ticks": ""
                        },
                        "type": "contourcarpet"
                      }
                    ],
                    "heatmap": [
                      {
                        "colorbar": {
                          "outlinewidth": 0,
                          "ticks": ""
                        },
                        "colorscale": [
                          [
                            0,
                            "#0d0887"
                          ],
                          [
                            0.1111111111111111,
                            "#46039f"
                          ],
                          [
                            0.2222222222222222,
                            "#7201a8"
                          ],
                          [
                            0.3333333333333333,
                            "#9c179e"
                          ],
                          [
                            0.4444444444444444,
                            "#bd3786"
                          ],
                          [
                            0.5555555555555556,
                            "#d8576b"
                          ],
                          [
                            0.6666666666666666,
                            "#ed7953"
                          ],
                          [
                            0.7777777777777778,
                            "#fb9f3a"
                          ],
                          [
                            0.8888888888888888,
                            "#fdca26"
                          ],
                          [
                            1,
                            "#f0f921"
                          ]
                        ],
                        "type": "heatmap"
                      }
                    ],
                    "heatmapgl": [
                      {
                        "colorbar": {
                          "outlinewidth": 0,
                          "ticks": ""
                        },
                        "colorscale": [
                          [
                            0,
                            "#0d0887"
                          ],
                          [
                            0.1111111111111111,
                            "#46039f"
                          ],
                          [
                            0.2222222222222222,
                            "#7201a8"
                          ],
                          [
                            0.3333333333333333,
                            "#9c179e"
                          ],
                          [
                            0.4444444444444444,
                            "#bd3786"
                          ],
                          [
                            0.5555555555555556,
                            "#d8576b"
                          ],
                          [
                            0.6666666666666666,
                            "#ed7953"
                          ],
                          [
                            0.7777777777777778,
                            "#fb9f3a"
                          ],
                          [
                            0.8888888888888888,
                            "#fdca26"
                          ],
                          [
                            1,
                            "#f0f921"
                          ]
                        ],
                        "type": "heatmapgl"
                      }
                    ],
                    "histogram": [
                      {
                        "marker": {
                          "pattern": {
                            "fillmode": "overlay",
                            "size": 10,
                            "solidity": 0.2
                          }
                        },
                        "type": "histogram"
                      }
                    ],
                    "histogram2d": [
                      {
                        "colorbar": {
                          "outlinewidth": 0,
                          "ticks": ""
                        },
                        "colorscale": [
                          [
                            0,
                            "#0d0887"
                          ],
                          [
                            0.1111111111111111,
                            "#46039f"
                          ],
                          [
                            0.2222222222222222,
                            "#7201a8"
                          ],
                          [
                            0.3333333333333333,
                            "#9c179e"
                          ],
                          [
                            0.4444444444444444,
                            "#bd3786"
                          ],
                          [
                            0.5555555555555556,
                            "#d8576b"
                          ],
                          [
                            0.6666666666666666,
                            "#ed7953"
                          ],
                          [
                            0.7777777777777778,
                            "#fb9f3a"
                          ],
                          [
                            0.8888888888888888,
                            "#fdca26"
                          ],
                          [
                            1,
                            "#f0f921"
                          ]
                        ],
                        "type": "histogram2d"
                      }
                    ],
                    "histogram2dcontour": [
                      {
                        "colorbar": {
                          "outlinewidth": 0,
                          "ticks": ""
                        },
                        "colorscale": [
                          [
                            0,
                            "#0d0887"
                          ],
                          [
                            0.1111111111111111,
                            "#46039f"
                          ],
                          [
                            0.2222222222222222,
                            "#7201a8"
                          ],
                          [
                            0.3333333333333333,
                            "#9c179e"
                          ],
                          [
                            0.4444444444444444,
                            "#bd3786"
                          ],
                          [
                            0.5555555555555556,
                            "#d8576b"
                          ],
                          [
                            0.6666666666666666,
                            "#ed7953"
                          ],
                          [
                            0.7777777777777778,
                            "#fb9f3a"
                          ],
                          [
                            0.8888888888888888,
                            "#fdca26"
                          ],
                          [
                            1,
                            "#f0f921"
                          ]
                        ],
                        "type": "histogram2dcontour"
                      }
                    ],
                    "mesh3d": [
                      {
                        "colorbar": {
                          "outlinewidth": 0,
                          "ticks": ""
                        },
                        "type": "mesh3d"
                      }
                    ],
                    "parcoords": [
                      {
                        "line": {
                          "colorbar": {
                            "outlinewidth": 0,
                            "ticks": ""
                          }
                        },
                        "type": "parcoords"
                      }
                    ],
                    "pie": [
                      {
                        "automargin": true,
                        "type": "pie"
                      }
                    ],
                    "scatter": [
                      {
                        "fillpattern": {
                          "fillmode": "overlay",
                          "size": 10,
                          "solidity": 0.2
                        },
                        "type": "scatter"
                      }
                    ],
                    "scatter3d": [
                      {
                        "line": {
                          "colorbar": {
                            "outlinewidth": 0,
                            "ticks": ""
                          }
                        },
                        "marker": {
                          "colorbar": {
                            "outlinewidth": 0,
                            "ticks": ""
                          }
                        },
                        "type": "scatter3d"
                      }
                    ],
                    "scattercarpet": [
                      {
                        "marker": {
                          "colorbar": {
                            "outlinewidth": 0,
                            "ticks": ""
                          }
                        },
                        "type": "scattercarpet"
                      }
                    ],
                    "scattergeo": [
                      {
                        "marker": {
                          "colorbar": {
                            "outlinewidth": 0,
                            "ticks": ""
                          }
                        },
                        "type": "scattergeo"
                      }
                    ],
                    "scattergl": [
                      {
                        "marker": {
                          "colorbar": {
                            "outlinewidth": 0,
                            "ticks": ""
                          }
                        },
                        "type": "scattergl"
                      }
                    ],
                    "scattermapbox": [
                      {
                        "marker": {
                          "colorbar": {
                            "outlinewidth": 0,
                            "ticks": ""
                          }
                        },
                        "type": "scattermapbox"
                      }
                    ],
                    "scatterpolar": [
                      {
                        "marker": {
                          "colorbar": {
                            "outlinewidth": 0,
                            "ticks": ""
                          }
                        },
                        "type": "scatterpolar"
                      }
                    ],
                    "scatterpolargl": [
                      {
                        "marker": {
                          "colorbar": {
                            "outlinewidth": 0,
                            "ticks": ""
                          }
                        },
                        "type": "scatterpolargl"
                      }
                    ],
                    "scatterternary": [
                      {
                        "marker": {
                          "colorbar": {
                            "outlinewidth": 0,
                            "ticks": ""
                          }
                        },
                        "type": "scatterternary"
                      }
                    ],
                    "surface": [
                      {
                        "colorbar": {
                          "outlinewidth": 0,
                          "ticks": ""
                        },
                        "colorscale": [
                          [
                            0,
                            "#0d0887"
                          ],
                          [
                            0.1111111111111111,
                            "#46039f"
                          ],
                          [
                            0.2222222222222222,
                            "#7201a8"
                          ],
                          [
                            0.3333333333333333,
                            "#9c179e"
                          ],
                          [
                            0.4444444444444444,
                            "#bd3786"
                          ],
                          [
                            0.5555555555555556,
                            "#d8576b"
                          ],
                          [
                            0.6666666666666666,
                            "#ed7953"
                          ],
                          [
                            0.7777777777777778,
                            "#fb9f3a"
                          ],
                          [
                            0.8888888888888888,
                            "#fdca26"
                          ],
                          [
                            1,
                            "#f0f921"
                          ]
                        ],
                        "type": "surface"
                      }
                    ],
                    "table": [
                      {
                        "cells": {
                          "fill": {
                            "color": "#EBF0F8"
                          },
                          "line": {
                            "color": "white"
                          }
                        },
                        "header": {
                          "fill": {
                            "color": "#C8D4E3"
                          },
                          "line": {
                            "color": "white"
                          }
                        },
                        "type": "table"
                      }
                    ]
                  },
                  "layout": {
                    "annotationdefaults": {
                      "arrowcolor": "#2a3f5f",
                      "arrowhead": 0,
                      "arrowwidth": 1
                    },
                    "autotypenumbers": "strict",
                    "coloraxis": {
                      "colorbar": {
                        "outlinewidth": 0,
                        "ticks": ""
                      }
                    },
                    "colorscale": {
                      "diverging": [
                        [
                          0,
                          "#8e0152"
                        ],
                        [
                          0.1,
                          "#c51b7d"
                        ],
                        [
                          0.2,
                          "#de77ae"
                        ],
                        [
                          0.3,
                          "#f1b6da"
                        ],
                        [
                          0.4,
                          "#fde0ef"
                        ],
                        [
                          0.5,
                          "#f7f7f7"
                        ],
                        [
                          0.6,
                          "#e6f5d0"
                        ],
                        [
                          0.7,
                          "#b8e186"
                        ],
                        [
                          0.8,
                          "#7fbc41"
                        ],
                        [
                          0.9,
                          "#4d9221"
                        ],
                        [
                          1,
                          "#276419"
                        ]
                      ],
                      "sequential": [
                        [
                          0,
                          "#0d0887"
                        ],
                        [
                          0.1111111111111111,
                          "#46039f"
                        ],
                        [
                          0.2222222222222222,
                          "#7201a8"
                        ],
                        [
                          0.3333333333333333,
                          "#9c179e"
                        ],
                        [
                          0.4444444444444444,
                          "#bd3786"
                        ],
                        [
                          0.5555555555555556,
                          "#d8576b"
                        ],
                        [
                          0.6666666666666666,
                          "#ed7953"
                        ],
                        [
                          0.7777777777777778,
                          "#fb9f3a"
                        ],
                        [
                          0.8888888888888888,
                          "#fdca26"
                        ],
                        [
                          1,
                          "#f0f921"
                        ]
                      ],
                      "sequentialminus": [
                        [
                          0,
                          "#0d0887"
                        ],
                        [
                          0.1111111111111111,
                          "#46039f"
                        ],
                        [
                          0.2222222222222222,
                          "#7201a8"
                        ],
                        [
                          0.3333333333333333,
                          "#9c179e"
                        ],
                        [
                          0.4444444444444444,
                          "#bd3786"
                        ],
                        [
                          0.5555555555555556,
                          "#d8576b"
                        ],
                        [
                          0.6666666666666666,
                          "#ed7953"
                        ],
                        [
                          0.7777777777777778,
                          "#fb9f3a"
                        ],
                        [
                          0.8888888888888888,
                          "#fdca26"
                        ],
                        [
                          1,
                          "#f0f921"
                        ]
                      ]
                    },
                    "colorway": [
                      "#636efa",
                      "#EF553B",
                      "#00cc96",
                      "#ab63fa",
                      "#FFA15A",
                      "#19d3f3",
                      "#FF6692",
                      "#B6E880",
                      "#FF97FF",
                      "#FECB52"
                    ],
                    "font": {
                      "color": "#2a3f5f"
                    },
                    "geo": {
                      "bgcolor": "white",
                      "lakecolor": "white",
                      "landcolor": "#E5ECF6",
                      "showlakes": true,
                      "showland": true,
                      "subunitcolor": "white"
                    },
                    "hoverlabel": {
                      "align": "left"
                    },
                    "hovermode": "closest",
                    "mapbox": {
                      "style": "light"
                    },
                    "paper_bgcolor": "white",
                    "plot_bgcolor": "#E5ECF6",
                    "polar": {
                      "angularaxis": {
                        "gridcolor": "white",
                        "linecolor": "white",
                        "ticks": ""
                      },
                      "bgcolor": "#E5ECF6",
                      "radialaxis": {
                        "gridcolor": "white",
                        "linecolor": "white",
                        "ticks": ""
                      }
                    },
                    "scene": {
                      "xaxis": {
                        "backgroundcolor": "#E5ECF6",
                        "gridcolor": "white",
                        "gridwidth": 2,
                        "linecolor": "white",
                        "showbackground": true,
                        "ticks": "",
                        "zerolinecolor": "white"
                      },
                      "yaxis": {
                        "backgroundcolor": "#E5ECF6",
                        "gridcolor": "white",
                        "gridwidth": 2,
                        "linecolor": "white",
                        "showbackground": true,
                        "ticks": "",
                        "zerolinecolor": "white"
                      },
                      "zaxis": {
                        "backgroundcolor": "#E5ECF6",
                        "gridcolor": "white",
                        "gridwidth": 2,
                        "linecolor": "white",
                        "showbackground": true,
                        "ticks": "",
                        "zerolinecolor": "white"
                      }
                    },
                    "shapedefaults": {
                      "line": {
                        "color": "#2a3f5f"
                      }
                    },
                    "ternary": {
                      "aaxis": {
                        "gridcolor": "white",
                        "linecolor": "white",
                        "ticks": ""
                      },
                      "baxis": {
                        "gridcolor": "white",
                        "linecolor": "white",
                        "ticks": ""
                      },
                      "bgcolor": "#E5ECF6",
                      "caxis": {
                        "gridcolor": "white",
                        "linecolor": "white",
                        "ticks": ""
                      }
                    },
                    "title": {
                      "x": 0.05
                    },
                    "xaxis": {
                      "automargin": true,
                      "gridcolor": "white",
                      "linecolor": "white",
                      "ticks": "",
                      "title": {
                        "standoff": 15
                      },
                      "zerolinecolor": "white",
                      "zerolinewidth": 2
                    },
                    "yaxis": {
                      "automargin": true,
                      "gridcolor": "white",
                      "linecolor": "white",
                      "ticks": "",
                      "title": {
                        "standoff": 15
                      },
                      "zerolinecolor": "white",
                      "zerolinewidth": 2
                    }
                  }
                },
                "title": {
                  "text": "points"
                },
                "xaxis": {
                  "anchor": "y",
                  "domain": [
                    0,
                    1
                  ],
                  "title": {
                    "text": "x"
                  }
                },
                "yaxis": {
                  "anchor": "x",
                  "domain": [
                    0,
                    1
                  ],
                  "title": {
                    "text": "y"
                  }
                }
              }
            }
          },
          "metadata": {},
          "output_type": "display_data"
        }
      ],
      "source": [
        "figure = px.scatter(x=data_blobs[:, 0], y=data_blobs[:, 1], title=\"points\")\n",
        "figure.add_trace(go.Scatter(x=kohonen.nodes[:, 0], y=kohonen.nodes[:, 1], mode=\"markers\", name=\"nodes\"))\n",
        "\n",
        "figure.show()"
      ]
    }
  ],
  "metadata": {
    "colab": {
      "provenance": []
    },
    "kernelspec": {
      "display_name": "Python 3",
      "language": "python",
      "name": "python3"
    },
    "language_info": {
      "codemirror_mode": {
        "name": "ipython",
        "version": 3
      },
      "file_extension": ".py",
      "mimetype": "text/x-python",
      "name": "python",
      "nbconvert_exporter": "python",
      "pygments_lexer": "ipython3",
      "version": "3.10.5 (tags/v3.10.5:f377153, Jun  6 2022, 16:14:13) [MSC v.1929 64 bit (AMD64)]"
    },
    "vscode": {
      "interpreter": {
        "hash": "42b50a1a1b5e0a495ac6d0383e184e0171ebe7baaf546f3025075eec5be57675"
      }
    }
  },
  "nbformat": 4,
  "nbformat_minor": 0
}
